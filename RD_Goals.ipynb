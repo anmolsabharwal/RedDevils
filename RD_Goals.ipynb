{
  "nbformat": 4,
  "nbformat_minor": 0,
  "metadata": {
    "colab": {
      "name": "RD_Goals.ipynb",
      "provenance": [],
      "authorship_tag": "ABX9TyP1foOsKxuBQ74W83k9AuRw",
      "include_colab_link": true
    },
    "kernelspec": {
      "name": "python3",
      "display_name": "Python 3"
    }
  },
  "cells": [
    {
      "cell_type": "markdown",
      "metadata": {
        "id": "view-in-github",
        "colab_type": "text"
      },
      "source": [
        "<a href=\"https://colab.research.google.com/github/anmolsabharwal/RedDevils/blob/master/RD_Goals.ipynb\" target=\"_parent\"><img src=\"https://colab.research.google.com/assets/colab-badge.svg\" alt=\"Open In Colab\"/></a>"
      ]
    },
    {
      "cell_type": "code",
      "metadata": {
        "id": "aUo0RLV2Prfe",
        "colab_type": "code",
        "colab": {
          "base_uri": "https://localhost:8080/",
          "height": 71
        },
        "outputId": "6db35602-1d5f-4f72-ea93-cf4fde4f1113"
      },
      "source": [
        "#importing Important libraries\n",
        "import matplotlib.pyplot as plt\n",
        "import numpy as np\n",
        "import pandas as pd\n",
        "import seaborn as sns\n",
        "import sqlite3\n",
        "from google.colab import drive\n",
        "import datetime\n",
        "import plotly.figure_factory as ff\n",
        " \n",
        " \n",
        "drive.mount('/content/drive')\n",
        "%matplotlib inline"
      ],
      "execution_count": null,
      "outputs": [
        {
          "output_type": "stream",
          "text": [
            "/usr/local/lib/python3.6/dist-packages/statsmodels/tools/_testing.py:19: FutureWarning: pandas.util.testing is deprecated. Use the functions in the public API at pandas.testing instead.\n",
            "  import pandas.util.testing as tm\n"
          ],
          "name": "stderr"
        }
      ]
    },
    {
      "cell_type": "code",
      "metadata": {
        "id": "fmoEwnhLPxqA",
        "colab_type": "code",
        "colab": {}
      },
      "source": [
        "gws=pd.read_csv(\"/content/drive/My Drive/combined_2016-2020-1.csv\",encoding=\"ISO-8859-1\")\n",
        "gws.head(60)"
      ],
      "execution_count": null,
      "outputs": []
    },
    {
      "cell_type": "code",
      "metadata": {
        "id": "oD1CIBlHP7At",
        "colab_type": "code",
        "colab": {}
      },
      "source": [
        "gws.rename(columns={'ï»¿name':'name'},inplace=True)\n",
        "gws.columns\n"
      ],
      "execution_count": null,
      "outputs": []
    },
    {
      "cell_type": "code",
      "metadata": {
        "id": "F15MzY9RP7WZ",
        "colab_type": "code",
        "colab": {}
      },
      "source": [
        "#converting the datatypes of columns\n",
        "gws=gws.astype({'name':'category','assists':int, 'bonus':int, 'bps':int, 'clean_sheets':int,'creativity':float,'element':int,'goals_conceded':int, 'ict_index':float,\n",
        "        'influence':float,'minutes':int, 'opponent_team':int, 'own_goals':int,'penalties_missed':int, 'penalties_saved':int,'red_cards':int, 'round':int, 'saves':int, 'selected':int,\n",
        "        'threat':float,'was_home':'bool','total_points':int, 'transfers_balance':int, 'transfers_in':int, 'transfers_out':int,'value':int, 'yellow_cards':int,'gw':int})"
      ],
      "execution_count": null,
      "outputs": []
    },
    {
      "cell_type": "code",
      "metadata": {
        "id": "oGJ0teKGP-0F",
        "colab_type": "code",
        "colab": {}
      },
      "source": [
        "# cheking for null values\n",
        "sns.set_style('dark')\n",
        "sns.heatmap(gws.isnull(),yticklabels=False,cbar=False,cmap='inferno')"
      ],
      "execution_count": null,
      "outputs": []
    },
    {
      "cell_type": "code",
      "metadata": {
        "id": "rahU7JuaaC31",
        "colab_type": "code",
        "colab": {}
      },
      "source": [
        "gws = gws.assign(id=(gws['name']).astype('category').cat.codes)"
      ],
      "execution_count": null,
      "outputs": []
    },
    {
      "cell_type": "code",
      "metadata": {
        "id": "sFa1e6y0aIdu",
        "colab_type": "code",
        "colab": {}
      },
      "source": [
        "gws= gws[gws['minutes'] > 0] \n"
      ],
      "execution_count": null,
      "outputs": []
    },
    {
      "cell_type": "code",
      "metadata": {
        "id": "TziBVckLaI45",
        "colab_type": "code",
        "colab": {}
      },
      "source": [
        "# a function to decide the fixture difficulty ratio based on the position of the opponent team\n",
        "def fd(x):\n",
        "  x=int(x)\n",
        "  if x<=6:\n",
        "    return '3'\n",
        "  elif x>6 and x<=14:\n",
        "    return '1'\n",
        "  else:\n",
        "    return '2'"
      ],
      "execution_count": null,
      "outputs": []
    },
    {
      "cell_type": "code",
      "metadata": {
        "id": "UG6ff2BlaMAk",
        "colab_type": "code",
        "colab": {}
      },
      "source": [
        "gws.rename(columns={'opponent_team':'fdr'},inplace=True)\n"
      ],
      "execution_count": null,
      "outputs": []
    },
    {
      "cell_type": "code",
      "metadata": {
        "id": "HtkJTFOSaQjc",
        "colab_type": "code",
        "colab": {}
      },
      "source": [
        "def goal(x):\n",
        "  x=int(x)\n",
        "  if x==0:\n",
        "    return 1\n",
        "  elif x>=1 and x<=2:\n",
        "    return 2\n",
        "  else:\n",
        "    return 3"
      ],
      "execution_count": null,
      "outputs": []
    },
    {
      "cell_type": "code",
      "metadata": {
        "id": "nniWD_O8aguD",
        "colab_type": "code",
        "colab": {}
      },
      "source": [
        "gws['goals']=gws['goals_scored'].apply(goal).astype(float)\n",
        "gws.head(50)"
      ],
      "execution_count": null,
      "outputs": []
    },
    {
      "cell_type": "code",
      "metadata": {
        "id": "Fx6e_b_Va2U9",
        "colab_type": "code",
        "colab": {}
      },
      "source": [
        "# setting up the 'was_home' column to create binary attributes\n",
        "def was_home(a):\n",
        "  if a==False:\n",
        "    #print('Away')\n",
        "    return str('Away')\n",
        "  else:\n",
        "    #print('Home')\n",
        "    return str('Home')"
      ],
      "execution_count": null,
      "outputs": []
    },
    {
      "cell_type": "code",
      "metadata": {
        "id": "vLqgfROta6La",
        "colab_type": "code",
        "colab": {}
      },
      "source": [
        "gws['home']=gws['was_home'].apply(was_home)"
      ],
      "execution_count": null,
      "outputs": []
    },
    {
      "cell_type": "code",
      "metadata": {
        "id": "_hHCriDma9ae",
        "colab_type": "code",
        "colab": {}
      },
      "source": [
        "gws.drop(['element','fixture','round','transfers_balance','transfers_in','transfers_out','team_a_score','was_home',\t'team_h_score','round'],axis=1, inplace=True)"
      ],
      "execution_count": null,
      "outputs": []
    },
    {
      "cell_type": "code",
      "metadata": {
        "id": "1LTyv6awbDNi",
        "colab_type": "code",
        "colab": {}
      },
      "source": [
        "gws['value']=gws['value']*0.1\n",
        "gws1=gws.copy()\n",
        "gws1.head()"
      ],
      "execution_count": null,
      "outputs": []
    },
    {
      "cell_type": "code",
      "metadata": {
        "id": "YCsHN1NLbJUG",
        "colab_type": "code",
        "colab": {}
      },
      "source": [
        "gws1['Last_Week_Goals'] = gws1.groupby(['id'])['goals_scored'].shift()\n",
        "gws1['Last_2_Week_Goals'] = gws1.groupby(['id'])['goals_scored'].shift(2)\n",
        "gws1['Last_3_Week_Goals'] = gws1.groupby(['id'])['goals_scored'].shift(3)"
      ],
      "execution_count": null,
      "outputs": []
    },
    {
      "cell_type": "code",
      "metadata": {
        "id": "bYq3p8BhbPmf",
        "colab_type": "code",
        "colab": {}
      },
      "source": [
        "window=5\n",
        "ipm =((gws1.groupby('id',as_index=False)['influence'].expanding().sum()/gws1.groupby('id',as_index=False)['minutes'].expanding().sum())*90).astype(float)\n",
        "gws1[\"Influence_90\"] = ipm.reset_index(level=0, drop=True)\n",
        "\n",
        "tpm =((gws1.groupby('id',as_index=False)['threat'].expanding().sum()/gws1.groupby('id',as_index=False)['minutes'].expanding().sum())*90).astype(float)\n",
        "gws1[\"Threat_90\"] = ipm.reset_index(level=0, drop=True)\n",
        "\n",
        "cpm =((gws1.groupby('id',as_index=False)['creativity'].expanding().sum()/gws1.groupby('id',as_index=False)['minutes'].expanding().sum())*90).astype(float)\n",
        "gws1[\"Creativity_90\"] = ipm.reset_index(level=0, drop=True)\n",
        "\n",
        "gpm =((gws1.groupby('id',as_index=False)['goals_scored'].expanding().sum()/gws1.groupby('id',as_index=False)['minutes'].expanding().sum())*90).astype(float)\n",
        "gws1[\"Goals_90\"] = gpm.reset_index(level=0, drop=True)\n",
        "\n",
        "ict =gws1.groupby('id',as_index=False)['ict_index'].rolling(window=window).sum().shift(1).astype(float)\n",
        "gws1[\"ICT Form\"] = ict.reset_index(level=0, drop=True)"
      ],
      "execution_count": null,
      "outputs": []
    },
    {
      "cell_type": "code",
      "metadata": {
        "id": "T5QCtbmpbl4E",
        "colab_type": "code",
        "colab": {}
      },
      "source": [
        "def f(df):\n",
        "    df['Goalstreak'] = (df['goals_scored'] > 0).cumsum()\n",
        "    df['cumsum'] = np.nan\n",
        "    df.loc[df['goals_scored'] == 0, 'cumsum'] = df['Goalstreak']\n",
        "    df['cumsum'] = df['cumsum'].fillna(method='ffill')\n",
        "    df['cumsum'] = df['cumsum'].fillna(0)\n",
        "    df['Goal Streak'] = df['Goalstreak'] - df['cumsum']\n",
        "    df.drop(['Goalstreak', 'cumsum'], axis=1, inplace=True)\n",
        "    df['Goal Streak']=df['Goal Streak'].shift(1)\n",
        "    return df"
      ],
      "execution_count": null,
      "outputs": []
    },
    {
      "cell_type": "code",
      "metadata": {
        "id": "1uCVuGNYbmOS",
        "colab_type": "code",
        "colab": {}
      },
      "source": [
        "gws1=gws1.groupby('id').apply(f)\n"
      ],
      "execution_count": null,
      "outputs": []
    },
    {
      "cell_type": "code",
      "metadata": {
        "id": "CWi8KPemcK9l",
        "colab_type": "code",
        "colab": {}
      },
      "source": [
        "df=gws1.groupby('id',as_index=False).apply(lambda group: group.iloc[window:,])\n",
        "X1=df.reset_index(level=0,drop=True)\n",
        "X1.to_csv('/content/drive/My Drive/train.csv')\n",
        "X1.sort_values('gw')"
      ],
      "execution_count": null,
      "outputs": []
    },
    {
      "cell_type": "code",
      "metadata": {
        "id": "Dhb9NklIcSHI",
        "colab_type": "code",
        "colab": {}
      },
      "source": [
        "X1.columns"
      ],
      "execution_count": null,
      "outputs": []
    },
    {
      "cell_type": "code",
      "metadata": {
        "id": "5J8FOBHxcTvx",
        "colab_type": "code",
        "colab": {}
      },
      "source": [
        "X=X1[['Last_Week_Goals', 'Last_2_Week_Goals', 'Last_3_Week_Goals', 'Goals_90',\n",
        "       'ICT Form', 'Influence_90', 'Threat_90', 'Creativity_90',\n",
        "       'Goal Streak']]\n",
        "y=X1['goals']"
      ],
      "execution_count": null,
      "outputs": []
    },
    {
      "cell_type": "code",
      "metadata": {
        "id": "HIppfmsvcd6D",
        "colab_type": "code",
        "colab": {}
      },
      "source": [
        "from sklearn.model_selection import train_test_split\n",
        "from imblearn.over_sampling import SMOTE, RandomOverSampler\n",
        "from sklearn.preprocessing import StandardScaler,MaxAbsScaler,MinMaxScaler\n",
        "from imblearn.over_sampling import ADASYN\n",
        "\n",
        "scaler=MinMaxScaler(feature_range=(0,1))\n",
        "X_train, X_test, y_train, y_test = train_test_split(X, y, test_size=0.20, random_state=153)\n",
        "oversample = SMOTE(sampling_strategy='all')\n",
        "X_train,y_train=oversample.fit_resample(X_train,y_train)\n",
        "# print(sum(y_train==0))\n",
        "# print(sum(y_train==1))\n",
        "X_train=scaler.fit_transform(X_train)\n",
        "X_test=scaler.transform(X_test)"
      ],
      "execution_count": null,
      "outputs": []
    },
    {
      "cell_type": "code",
      "metadata": {
        "id": "xRIWWJFXclud",
        "colab_type": "code",
        "colab": {}
      },
      "source": [
        "from sklearn.ensemble import RandomForestClassifier\n",
        "from sklearn.linear_model import LogisticRegression\n",
        "ovr=LogisticRegression(max_iter=200,penalty='l2')\n",
        "ovr.fit(X_train,y_train)"
      ],
      "execution_count": null,
      "outputs": []
    },
    {
      "cell_type": "code",
      "metadata": {
        "id": "r--J5HyvczA3",
        "colab_type": "code",
        "colab": {}
      },
      "source": [
        "predict=ovr.predict(X_test)\n",
        "predictp=ovr.predict_proba(X_test)"
      ],
      "execution_count": null,
      "outputs": []
    },
    {
      "cell_type": "code",
      "metadata": {
        "id": "CIwJHmE0c_Hq",
        "colab_type": "code",
        "colab": {}
      },
      "source": [
        "df1=pd.DataFrame({'Actual':y_test,'Predicted':predict.round()})\n",
        "# a=df1[0]=predictp[:,0].round(decimals=2)\n",
        "# b=df1[1]=predictp[:,1].round(decimals=2)\n",
        "df1.head(50)"
      ],
      "execution_count": null,
      "outputs": []
    },
    {
      "cell_type": "code",
      "metadata": {
        "id": "p0IYG4lIdGCk",
        "colab_type": "code",
        "colab": {}
      },
      "source": [
        "from sklearn.metrics import classification_report,confusion_matrix,balanced_accuracy_score,f1_score,precision_score\n",
        "print(confusion_matrix(y_test,predict))\n",
        "print(classification_report(y_test,predict))\n",
        "print(balanced_accuracy_score(y_test,predict))"
      ],
      "execution_count": null,
      "outputs": []
    }
  ]
}
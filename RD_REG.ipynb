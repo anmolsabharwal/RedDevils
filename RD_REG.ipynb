{
  "nbformat": 4,
  "nbformat_minor": 0,
  "metadata": {
    "colab": {
      "name": "RD_REG.ipynb",
      "provenance": [],
      "collapsed_sections": [],
      "authorship_tag": "ABX9TyMifBaZx3e3nO1j2mMDt0me",
      "include_colab_link": true
    },
    "kernelspec": {
      "name": "python3",
      "display_name": "Python 3"
    }
  },
  "cells": [
    {
      "cell_type": "markdown",
      "metadata": {
        "id": "view-in-github",
        "colab_type": "text"
      },
      "source": [
        "<a href=\"https://colab.research.google.com/github/anmolsabharwal/RedDevils/blob/master/RD_REG.ipynb\" target=\"_parent\"><img src=\"https://colab.research.google.com/assets/colab-badge.svg\" alt=\"Open In Colab\"/></a>"
      ]
    },
    {
      "cell_type": "code",
      "metadata": {
        "id": "9XSoblD-_C6g",
        "colab_type": "code",
        "colab": {
          "base_uri": "https://localhost:8080/",
          "height": 54
        },
        "outputId": "2d6c586d-fb81-4b93-e44d-40fb8206e531"
      },
      "source": [
        "import matplotlib.pyplot as plt\n",
        "import numpy as np\n",
        "import pandas as pd\n",
        "import seaborn as sns\n",
        "import sqlite3\n",
        "from google.colab import drive\n",
        "import datetime\n",
        "import plotly.figure_factory as ff\n",
        "\n",
        "\n",
        "drive.mount('/content/drive')\n",
        "%matplotlib inline\n",
        "\n"
      ],
      "execution_count": 135,
      "outputs": [
        {
          "output_type": "stream",
          "text": [
            "Drive already mounted at /content/drive; to attempt to forcibly remount, call drive.mount(\"/content/drive\", force_remount=True).\n"
          ],
          "name": "stdout"
        }
      ]
    },
    {
      "cell_type": "code",
      "metadata": {
        "id": "NBmDdg2r_VXd",
        "colab_type": "code",
        "colab": {
          "base_uri": "https://localhost:8080/",
          "height": 309
        },
        "outputId": "9d1f5b0f-af79-46e5-a318-c5cb2d6bbb19"
      },
      "source": [
        "gws = sqlite3.connect('/content/drive/My Drive/fpl.db')\n",
        "gws = pd.read_sql_query(\"SELECT * FROM gw\",gws)\n",
        "gws.head()\n"
      ],
      "execution_count": 136,
      "outputs": [
        {
          "output_type": "execute_result",
          "data": {
            "text/html": [
              "<div>\n",
              "<style scoped>\n",
              "    .dataframe tbody tr th:only-of-type {\n",
              "        vertical-align: middle;\n",
              "    }\n",
              "\n",
              "    .dataframe tbody tr th {\n",
              "        vertical-align: top;\n",
              "    }\n",
              "\n",
              "    .dataframe thead th {\n",
              "        text-align: right;\n",
              "    }\n",
              "</style>\n",
              "<table border=\"1\" class=\"dataframe\">\n",
              "  <thead>\n",
              "    <tr style=\"text-align: right;\">\n",
              "      <th></th>\n",
              "      <th>name</th>\n",
              "      <th>assists</th>\n",
              "      <th>attempted_passes</th>\n",
              "      <th>big_chances_created</th>\n",
              "      <th>big_chances_missed</th>\n",
              "      <th>bonus</th>\n",
              "      <th>bps</th>\n",
              "      <th>clean_sheets</th>\n",
              "      <th>clearances_blocks_interceptions</th>\n",
              "      <th>completed_passes</th>\n",
              "      <th>creativity</th>\n",
              "      <th>dribbles</th>\n",
              "      <th>ea_index</th>\n",
              "      <th>element</th>\n",
              "      <th>errors_leading_to_goal</th>\n",
              "      <th>errors_leading_to_goal_attempt</th>\n",
              "      <th>fixture</th>\n",
              "      <th>fouls</th>\n",
              "      <th>goals_conceded</th>\n",
              "      <th>goals_scored</th>\n",
              "      <th>ict_index</th>\n",
              "      <th>id</th>\n",
              "      <th>influence</th>\n",
              "      <th>key_passes</th>\n",
              "      <th>kickoff_time</th>\n",
              "      <th>kickoff_time_formatted</th>\n",
              "      <th>loaned_in</th>\n",
              "      <th>loaned_out</th>\n",
              "      <th>minutes</th>\n",
              "      <th>offside</th>\n",
              "      <th>open_play_crosses</th>\n",
              "      <th>opponent_team</th>\n",
              "      <th>own_goals</th>\n",
              "      <th>penalties_conceded</th>\n",
              "      <th>penalties_missed</th>\n",
              "      <th>penalties_saved</th>\n",
              "      <th>recoveries</th>\n",
              "      <th>red_cards</th>\n",
              "      <th>round</th>\n",
              "      <th>saves</th>\n",
              "      <th>selected</th>\n",
              "      <th>tackled</th>\n",
              "      <th>tackles</th>\n",
              "      <th>target_missed</th>\n",
              "      <th>team_a_score</th>\n",
              "      <th>team_h_score</th>\n",
              "      <th>threat</th>\n",
              "      <th>total_points</th>\n",
              "      <th>transfers_balance</th>\n",
              "      <th>transfers_in</th>\n",
              "      <th>transfers_out</th>\n",
              "      <th>value</th>\n",
              "      <th>was_home</th>\n",
              "      <th>winning_goals</th>\n",
              "      <th>yellow_cards</th>\n",
              "    </tr>\n",
              "  </thead>\n",
              "  <tbody>\n",
              "    <tr>\n",
              "      <th>0</th>\n",
              "      <td>Aaron_Cresswell</td>\n",
              "      <td>0</td>\n",
              "      <td>0</td>\n",
              "      <td>0</td>\n",
              "      <td>0</td>\n",
              "      <td>0</td>\n",
              "      <td>0</td>\n",
              "      <td>0</td>\n",
              "      <td>0</td>\n",
              "      <td>0</td>\n",
              "      <td>0</td>\n",
              "      <td>0</td>\n",
              "      <td>0</td>\n",
              "      <td>454</td>\n",
              "      <td>0</td>\n",
              "      <td>0</td>\n",
              "      <td>10</td>\n",
              "      <td>0</td>\n",
              "      <td>0</td>\n",
              "      <td>0</td>\n",
              "      <td>0</td>\n",
              "      <td>454</td>\n",
              "      <td>0</td>\n",
              "      <td>0</td>\n",
              "      <td>2016-08-15T19:00:00Z</td>\n",
              "      <td>15/08/20 20:00</td>\n",
              "      <td>0</td>\n",
              "      <td>0</td>\n",
              "      <td>0</td>\n",
              "      <td>0</td>\n",
              "      <td>0</td>\n",
              "      <td>4</td>\n",
              "      <td>0</td>\n",
              "      <td>0</td>\n",
              "      <td>0</td>\n",
              "      <td>0</td>\n",
              "      <td>0</td>\n",
              "      <td>0</td>\n",
              "      <td>1</td>\n",
              "      <td>0</td>\n",
              "      <td>14023</td>\n",
              "      <td>0</td>\n",
              "      <td>0</td>\n",
              "      <td>0</td>\n",
              "      <td>1</td>\n",
              "      <td>2</td>\n",
              "      <td>0</td>\n",
              "      <td>0</td>\n",
              "      <td>0</td>\n",
              "      <td>0</td>\n",
              "      <td>0</td>\n",
              "      <td>55</td>\n",
              "      <td>FALSE</td>\n",
              "      <td>0</td>\n",
              "      <td>0</td>\n",
              "    </tr>\n",
              "    <tr>\n",
              "      <th>1</th>\n",
              "      <td>Aaron_Lennon</td>\n",
              "      <td>0</td>\n",
              "      <td>3</td>\n",
              "      <td>0</td>\n",
              "      <td>0</td>\n",
              "      <td>0</td>\n",
              "      <td>6</td>\n",
              "      <td>0</td>\n",
              "      <td>1</td>\n",
              "      <td>2</td>\n",
              "      <td>0.3</td>\n",
              "      <td>0</td>\n",
              "      <td>0</td>\n",
              "      <td>142</td>\n",
              "      <td>0</td>\n",
              "      <td>0</td>\n",
              "      <td>3</td>\n",
              "      <td>0</td>\n",
              "      <td>0</td>\n",
              "      <td>0</td>\n",
              "      <td>0.9</td>\n",
              "      <td>142</td>\n",
              "      <td>8.2</td>\n",
              "      <td>0</td>\n",
              "      <td>2016-08-13T14:00:00Z</td>\n",
              "      <td>13/08/20 15:00</td>\n",
              "      <td>0</td>\n",
              "      <td>0</td>\n",
              "      <td>15</td>\n",
              "      <td>0</td>\n",
              "      <td>0</td>\n",
              "      <td>17</td>\n",
              "      <td>0</td>\n",
              "      <td>0</td>\n",
              "      <td>0</td>\n",
              "      <td>0</td>\n",
              "      <td>1</td>\n",
              "      <td>0</td>\n",
              "      <td>1</td>\n",
              "      <td>0</td>\n",
              "      <td>13918</td>\n",
              "      <td>1</td>\n",
              "      <td>2</td>\n",
              "      <td>0</td>\n",
              "      <td>1</td>\n",
              "      <td>1</td>\n",
              "      <td>0</td>\n",
              "      <td>1</td>\n",
              "      <td>0</td>\n",
              "      <td>0</td>\n",
              "      <td>0</td>\n",
              "      <td>60</td>\n",
              "      <td>TRUE</td>\n",
              "      <td>0</td>\n",
              "      <td>0</td>\n",
              "    </tr>\n",
              "    <tr>\n",
              "      <th>2</th>\n",
              "      <td>Aaron_Ramsey</td>\n",
              "      <td>0</td>\n",
              "      <td>26</td>\n",
              "      <td>0</td>\n",
              "      <td>0</td>\n",
              "      <td>0</td>\n",
              "      <td>5</td>\n",
              "      <td>0</td>\n",
              "      <td>2</td>\n",
              "      <td>22</td>\n",
              "      <td>4.9</td>\n",
              "      <td>1</td>\n",
              "      <td>0</td>\n",
              "      <td>16</td>\n",
              "      <td>0</td>\n",
              "      <td>0</td>\n",
              "      <td>8</td>\n",
              "      <td>0</td>\n",
              "      <td>3</td>\n",
              "      <td>0</td>\n",
              "      <td>3</td>\n",
              "      <td>16</td>\n",
              "      <td>2.2</td>\n",
              "      <td>0</td>\n",
              "      <td>2016-08-14T15:00:00Z</td>\n",
              "      <td>14/08/20 16:00</td>\n",
              "      <td>0</td>\n",
              "      <td>0</td>\n",
              "      <td>60</td>\n",
              "      <td>0</td>\n",
              "      <td>0</td>\n",
              "      <td>9</td>\n",
              "      <td>0</td>\n",
              "      <td>0</td>\n",
              "      <td>0</td>\n",
              "      <td>0</td>\n",
              "      <td>2</td>\n",
              "      <td>0</td>\n",
              "      <td>1</td>\n",
              "      <td>0</td>\n",
              "      <td>163170</td>\n",
              "      <td>2</td>\n",
              "      <td>0</td>\n",
              "      <td>1</td>\n",
              "      <td>4</td>\n",
              "      <td>3</td>\n",
              "      <td>23</td>\n",
              "      <td>2</td>\n",
              "      <td>0</td>\n",
              "      <td>0</td>\n",
              "      <td>0</td>\n",
              "      <td>80</td>\n",
              "      <td>TRUE</td>\n",
              "      <td>0</td>\n",
              "      <td>0</td>\n",
              "    </tr>\n",
              "    <tr>\n",
              "      <th>3</th>\n",
              "      <td>Abdoulaye_Doucouré</td>\n",
              "      <td>0</td>\n",
              "      <td>0</td>\n",
              "      <td>0</td>\n",
              "      <td>0</td>\n",
              "      <td>0</td>\n",
              "      <td>0</td>\n",
              "      <td>0</td>\n",
              "      <td>0</td>\n",
              "      <td>0</td>\n",
              "      <td>0</td>\n",
              "      <td>0</td>\n",
              "      <td>0</td>\n",
              "      <td>482</td>\n",
              "      <td>0</td>\n",
              "      <td>0</td>\n",
              "      <td>7</td>\n",
              "      <td>0</td>\n",
              "      <td>0</td>\n",
              "      <td>0</td>\n",
              "      <td>0</td>\n",
              "      <td>482</td>\n",
              "      <td>0</td>\n",
              "      <td>0</td>\n",
              "      <td>2016-08-13T14:00:00Z</td>\n",
              "      <td>13/08/20 15:00</td>\n",
              "      <td>0</td>\n",
              "      <td>0</td>\n",
              "      <td>0</td>\n",
              "      <td>0</td>\n",
              "      <td>0</td>\n",
              "      <td>13</td>\n",
              "      <td>0</td>\n",
              "      <td>0</td>\n",
              "      <td>0</td>\n",
              "      <td>0</td>\n",
              "      <td>0</td>\n",
              "      <td>0</td>\n",
              "      <td>1</td>\n",
              "      <td>0</td>\n",
              "      <td>1051</td>\n",
              "      <td>0</td>\n",
              "      <td>0</td>\n",
              "      <td>0</td>\n",
              "      <td>1</td>\n",
              "      <td>1</td>\n",
              "      <td>0</td>\n",
              "      <td>0</td>\n",
              "      <td>0</td>\n",
              "      <td>0</td>\n",
              "      <td>0</td>\n",
              "      <td>50</td>\n",
              "      <td>FALSE</td>\n",
              "      <td>0</td>\n",
              "      <td>0</td>\n",
              "    </tr>\n",
              "    <tr>\n",
              "      <th>4</th>\n",
              "      <td>Abdul Rahman_Baba</td>\n",
              "      <td>0</td>\n",
              "      <td>0</td>\n",
              "      <td>0</td>\n",
              "      <td>0</td>\n",
              "      <td>0</td>\n",
              "      <td>0</td>\n",
              "      <td>0</td>\n",
              "      <td>0</td>\n",
              "      <td>0</td>\n",
              "      <td>0</td>\n",
              "      <td>0</td>\n",
              "      <td>0</td>\n",
              "      <td>80</td>\n",
              "      <td>0</td>\n",
              "      <td>0</td>\n",
              "      <td>10</td>\n",
              "      <td>0</td>\n",
              "      <td>0</td>\n",
              "      <td>0</td>\n",
              "      <td>0</td>\n",
              "      <td>80</td>\n",
              "      <td>0</td>\n",
              "      <td>0</td>\n",
              "      <td>2016-08-15T19:00:00Z</td>\n",
              "      <td>15/08/20 20:00</td>\n",
              "      <td>0</td>\n",
              "      <td>0</td>\n",
              "      <td>0</td>\n",
              "      <td>0</td>\n",
              "      <td>0</td>\n",
              "      <td>20</td>\n",
              "      <td>0</td>\n",
              "      <td>0</td>\n",
              "      <td>0</td>\n",
              "      <td>0</td>\n",
              "      <td>0</td>\n",
              "      <td>0</td>\n",
              "      <td>1</td>\n",
              "      <td>0</td>\n",
              "      <td>1243</td>\n",
              "      <td>0</td>\n",
              "      <td>0</td>\n",
              "      <td>0</td>\n",
              "      <td>1</td>\n",
              "      <td>2</td>\n",
              "      <td>0</td>\n",
              "      <td>0</td>\n",
              "      <td>0</td>\n",
              "      <td>0</td>\n",
              "      <td>0</td>\n",
              "      <td>55</td>\n",
              "      <td>TRUE</td>\n",
              "      <td>0</td>\n",
              "      <td>0</td>\n",
              "    </tr>\n",
              "  </tbody>\n",
              "</table>\n",
              "</div>"
            ],
            "text/plain": [
              "                 name assists  ... winning_goals yellow_cards\n",
              "0     Aaron_Cresswell       0  ...             0            0\n",
              "1        Aaron_Lennon       0  ...             0            0\n",
              "2        Aaron_Ramsey       0  ...             0            0\n",
              "3  Abdoulaye_Doucouré       0  ...             0            0\n",
              "4   Abdul Rahman_Baba       0  ...             0            0\n",
              "\n",
              "[5 rows x 55 columns]"
            ]
          },
          "metadata": {
            "tags": []
          },
          "execution_count": 136
        }
      ]
    },
    {
      "cell_type": "code",
      "metadata": {
        "id": "n3dhk6PT_qDc",
        "colab_type": "code",
        "colab": {}
      },
      "source": [
        "gws=gws.astype({'name':'category','assists':int, 'attempted_passes':int, 'big_chances_created':int,\n",
        "       'big_chances_missed':int, 'bonus':int, 'bps':int, 'clean_sheets':'category',\n",
        "       'clearances_blocks_interceptions':int, 'completed_passes':int, 'creativity':float,\n",
        "       'dribbles':int, 'ea_index':int, 'element':int, 'errors_leading_to_goal':int,\n",
        "       'errors_leading_to_goal_attempt':int, 'fouls':int, 'goals_conceded':int,\n",
        "       'goals_scored':int, 'ict_index':float, 'influence':float, 'key_passes':int,\n",
        "      'loaned_in':int, 'loaned_out':int,'minutes':int, 'offside':int, 'open_play_crosses':int, 'opponent_team':int, 'own_goals':int,\n",
        "       'penalties_conceded':int, 'penalties_missed':int, 'penalties_saved':int,\n",
        "       'recoveries':int, 'red_cards':int, 'round':int, 'saves':int, 'selected':int, 'tackled':int,\n",
        "       'tackles':int, 'target_missed':int, 'team_a_score':int, 'team_h_score':int, 'threat':float,\n",
        "       'total_points':int, 'transfers_balance':int, 'transfers_in':int, 'transfers_out':int,\n",
        "       'value':int,'winning_goals':int, 'yellow_cards':'int'})"
      ],
      "execution_count": 137,
      "outputs": []
    },
    {
      "cell_type": "code",
      "metadata": {
        "id": "WR-qw0oM_uWt",
        "colab_type": "code",
        "colab": {
          "base_uri": "https://localhost:8080/",
          "height": 760
        },
        "outputId": "7e0d8bd0-c644-4747-bab5-94aee5d2b9fa"
      },
      "source": [
        "plt.figure(figsize=(10,10))\n",
        "sns.set_style('darkgrid')\n",
        "sns.heatmap(gws.isnull(),yticklabels=False,cbar=False,cmap='inferno',)"
      ],
      "execution_count": 138,
      "outputs": [
        {
          "output_type": "execute_result",
          "data": {
            "text/plain": [
              "<matplotlib.axes._subplots.AxesSubplot at 0x7f0ea40ddc50>"
            ]
          },
          "metadata": {
            "tags": []
          },
          "execution_count": 138
        },
        {
          "output_type": "display_data",
          "data": {
            "image/png": "[encoded data removed]",
            "text/plain": [
              "<Figure size 720x720 with 1 Axes>"
            ]
          },
          "metadata": {
            "tags": [],
            "needs_background": "light"
          }
        }
      ]
    },
    {
      "cell_type": "code",
      "metadata": {
        "id": "inUaz5Tw_xLr",
        "colab_type": "code",
        "colab": {
          "base_uri": "https://localhost:8080/",
          "height": 940
        },
        "outputId": "3c03c160-88c3-4ef1-ec0c-69767a815d22"
      },
      "source": [
        "plt.figure(figsize=(14,15))\n",
        "sns.heatmap(gws.corr(),cmap='magma',square=True, linewidths=0.2)"
      ],
      "execution_count": 139,
      "outputs": [
        {
          "output_type": "execute_result",
          "data": {
            "text/plain": [
              "<matplotlib.axes._subplots.AxesSubplot at 0x7f0ea8812828>"
            ]
          },
          "metadata": {
            "tags": []
          },
          "execution_count": 139
        },
        {
          "output_type": "display_data",
          "data": {
            "image/png": "[encoded data removed]",
            "text/plain": [
              "<Figure size 1008x1080 with 2 Axes>"
            ]
          },
          "metadata": {
            "tags": []
          }
        }
      ]
    },
    {
      "cell_type": "code",
      "metadata": {
        "id": "I-b5eqEO6VFI",
        "colab_type": "code",
        "colab": {
          "base_uri": "https://localhost:8080/",
          "height": 425
        },
        "outputId": "2932cd43-bbc1-4980-bba5-fe28eb1c8c57"
      },
      "source": [
        "c=gws.corr().abs()\n",
        "cor_target = c['total_points']\n",
        "relevant_features = cor_target[cor_target>0.3]\n",
        "relevant_features\n",
        "\n",
        "#upper = c.where(np.triu(np.ones(c.shape), k=1).astype(np.bool))\n",
        "#to_drop=[column for column in upper.columns if any(upper[column] > 0.70)]\n",
        "#to_drop\n",
        "#s=c.unstack()\n",
        "#so = pd.DataFrame(s.sort_values(kind=\"quicksort\",ascending=False))\n",
        "#so\n",
        "\n"
      ],
      "execution_count": 140,
      "outputs": [
        {
          "output_type": "execute_result",
          "data": {
            "text/plain": [
              "assists                            0.454575\n",
              "attempted_passes                   0.551863\n",
              "big_chances_created                0.313001\n",
              "bonus                              0.746158\n",
              "bps                                0.906537\n",
              "clearances_blocks_interceptions    0.349706\n",
              "completed_passes                   0.518646\n",
              "creativity                         0.483793\n",
              "dribbles                           0.351093\n",
              "fouls                              0.304352\n",
              "goals_scored                       0.661167\n",
              "ict_index                          0.762474\n",
              "influence                          0.832273\n",
              "key_passes                         0.446043\n",
              "minutes                            0.640069\n",
              "recoveries                         0.507715\n",
              "selected                           0.323567\n",
              "tackled                            0.385687\n",
              "target_missed                      0.311124\n",
              "threat                             0.550237\n",
              "total_points                       1.000000\n",
              "value                              0.308651\n",
              "winning_goals                      0.407634\n",
              "Name: total_points, dtype: float64"
            ]
          },
          "metadata": {
            "tags": []
          },
          "execution_count": 140
        }
      ]
    },
    {
      "cell_type": "code",
      "metadata": {
        "id": "RwC3TumfGCNY",
        "colab_type": "code",
        "colab": {
          "base_uri": "https://localhost:8080/",
          "height": 170
        },
        "outputId": "1050c498-ff0e-4138-d31f-eb28610b472c"
      },
      "source": [
        "upper = c.where(np.triu(np.ones(c.shape), k=1).astype(np.bool))\n",
        "to_drop=[column for column in upper.columns if any(upper[column] > 0.70)]\n",
        "to_drop"
      ],
      "execution_count": 141,
      "outputs": [
        {
          "output_type": "execute_result",
          "data": {
            "text/plain": [
              "['bps',\n",
              " 'completed_passes',\n",
              " 'ict_index',\n",
              " 'influence',\n",
              " 'key_passes',\n",
              " 'minutes',\n",
              " 'recoveries',\n",
              " 'threat',\n",
              " 'total_points']"
            ]
          },
          "metadata": {
            "tags": []
          },
          "execution_count": 141
        }
      ]
    },
    {
      "cell_type": "code",
      "metadata": {
        "id": "wKZ8rHBe_aLm",
        "colab_type": "code",
        "colab": {}
      },
      "source": [
        "gws1=gws.drop(['completed_passes',\n",
        " 'influence',\n",
        " 'key_passes',\n",
        " 'threat',\n",
        " 'transfers_in','ea_index','loaned_in','loaned_out'],axis=1)"
      ],
      "execution_count": 142,
      "outputs": []
    },
    {
      "cell_type": "code",
      "metadata": {
        "id": "dyeUf5dv_qgy",
        "colab_type": "code",
        "colab": {}
      },
      "source": [
        "gws1.drop(['kickoff_time'], axis=1,inplace=True)"
      ],
      "execution_count": 144,
      "outputs": []
    },
    {
      "cell_type": "code",
      "metadata": {
        "id": "JixxHtIq_0Zm",
        "colab_type": "code",
        "colab": {}
      },
      "source": [
        "gws1['kickoff_time_formatted']=pd.to_datetime(gws1['kickoff_time_formatted'])"
      ],
      "execution_count": 145,
      "outputs": []
    },
    {
      "cell_type": "code",
      "metadata": {
        "id": "125UAiXj_8z6",
        "colab_type": "code",
        "colab": {}
      },
      "source": [
        "def was_home(x):\n",
        "  if x==\"FALSE\":\n",
        "    return 0\n",
        "  else:\n",
        "    return 1"
      ],
      "execution_count": 146,
      "outputs": []
    },
    {
      "cell_type": "code",
      "metadata": {
        "id": "OwoJ43MW__1J",
        "colab_type": "code",
        "colab": {}
      },
      "source": [
        "gws1['home']=gws1['was_home'].apply(was_home)"
      ],
      "execution_count": 147,
      "outputs": []
    },
    {
      "cell_type": "code",
      "metadata": {
        "id": "MaEcBh9kACT-",
        "colab_type": "code",
        "colab": {}
      },
      "source": [
        "gws1.drop('was_home',axis=1, inplace=True)"
      ],
      "execution_count": 148,
      "outputs": []
    },
    {
      "cell_type": "code",
      "metadata": {
        "id": "F7LMedkXAEjS",
        "colab_type": "code",
        "colab": {}
      },
      "source": [
        "gws1['kickoff_time'] = gws1.kickoff_time_formatted.dt.hour\n"
      ],
      "execution_count": 149,
      "outputs": []
    },
    {
      "cell_type": "code",
      "metadata": {
        "id": "zzXh0mXBAGeA",
        "colab_type": "code",
        "colab": {}
      },
      "source": [
        "def time(x):\n",
        "  x=int(x)\n",
        "  if x>8 and x<=12:\n",
        "    return '0'\n",
        "  elif x>12 and x<=18:\n",
        "    return '1'\n",
        "  else:\n",
        "    return '2'"
      ],
      "execution_count": 150,
      "outputs": []
    },
    {
      "cell_type": "code",
      "metadata": {
        "id": "dqA3yVP5AJZT",
        "colab_type": "code",
        "colab": {}
      },
      "source": [
        "gws1['kickoff_time']=gws1['kickoff_time'].apply(time)\n"
      ],
      "execution_count": 151,
      "outputs": []
    },
    {
      "cell_type": "code",
      "metadata": {
        "id": "eIFfYx3NAMN4",
        "colab_type": "code",
        "colab": {}
      },
      "source": [
        "gws1.drop(['kickoff_time_formatted'],axis=1,inplace=True)\n"
      ],
      "execution_count": 152,
      "outputs": []
    },
    {
      "cell_type": "code",
      "metadata": {
        "id": "QE4o-e9kA_Y6",
        "colab_type": "code",
        "colab": {
          "base_uri": "https://localhost:8080/",
          "height": 224
        },
        "outputId": "7af6b18b-3f5e-491e-bd35-d947cad72491"
      },
      "source": [
        "gws1.head()"
      ],
      "execution_count": 153,
      "outputs": [
        {
          "output_type": "execute_result",
          "data": {
            "text/html": [
              "<div>\n",
              "<style scoped>\n",
              "    .dataframe tbody tr th:only-of-type {\n",
              "        vertical-align: middle;\n",
              "    }\n",
              "\n",
              "    .dataframe tbody tr th {\n",
              "        vertical-align: top;\n",
              "    }\n",
              "\n",
              "    .dataframe thead th {\n",
              "        text-align: right;\n",
              "    }\n",
              "</style>\n",
              "<table border=\"1\" class=\"dataframe\">\n",
              "  <thead>\n",
              "    <tr style=\"text-align: right;\">\n",
              "      <th></th>\n",
              "      <th>name</th>\n",
              "      <th>assists</th>\n",
              "      <th>attempted_passes</th>\n",
              "      <th>big_chances_created</th>\n",
              "      <th>big_chances_missed</th>\n",
              "      <th>bonus</th>\n",
              "      <th>bps</th>\n",
              "      <th>clean_sheets</th>\n",
              "      <th>clearances_blocks_interceptions</th>\n",
              "      <th>creativity</th>\n",
              "      <th>dribbles</th>\n",
              "      <th>element</th>\n",
              "      <th>errors_leading_to_goal</th>\n",
              "      <th>errors_leading_to_goal_attempt</th>\n",
              "      <th>fixture</th>\n",
              "      <th>fouls</th>\n",
              "      <th>goals_conceded</th>\n",
              "      <th>goals_scored</th>\n",
              "      <th>ict_index</th>\n",
              "      <th>id</th>\n",
              "      <th>minutes</th>\n",
              "      <th>offside</th>\n",
              "      <th>open_play_crosses</th>\n",
              "      <th>opponent_team</th>\n",
              "      <th>own_goals</th>\n",
              "      <th>penalties_conceded</th>\n",
              "      <th>penalties_missed</th>\n",
              "      <th>penalties_saved</th>\n",
              "      <th>recoveries</th>\n",
              "      <th>red_cards</th>\n",
              "      <th>round</th>\n",
              "      <th>saves</th>\n",
              "      <th>selected</th>\n",
              "      <th>tackled</th>\n",
              "      <th>tackles</th>\n",
              "      <th>target_missed</th>\n",
              "      <th>team_a_score</th>\n",
              "      <th>team_h_score</th>\n",
              "      <th>total_points</th>\n",
              "      <th>transfers_balance</th>\n",
              "      <th>transfers_out</th>\n",
              "      <th>value</th>\n",
              "      <th>winning_goals</th>\n",
              "      <th>yellow_cards</th>\n",
              "      <th>home</th>\n",
              "      <th>kickoff_time</th>\n",
              "    </tr>\n",
              "  </thead>\n",
              "  <tbody>\n",
              "    <tr>\n",
              "      <th>0</th>\n",
              "      <td>Aaron_Cresswell</td>\n",
              "      <td>0</td>\n",
              "      <td>0</td>\n",
              "      <td>0</td>\n",
              "      <td>0</td>\n",
              "      <td>0</td>\n",
              "      <td>0</td>\n",
              "      <td>0</td>\n",
              "      <td>0</td>\n",
              "      <td>0.0</td>\n",
              "      <td>0</td>\n",
              "      <td>454</td>\n",
              "      <td>0</td>\n",
              "      <td>0</td>\n",
              "      <td>10</td>\n",
              "      <td>0</td>\n",
              "      <td>0</td>\n",
              "      <td>0</td>\n",
              "      <td>0.0</td>\n",
              "      <td>454</td>\n",
              "      <td>0</td>\n",
              "      <td>0</td>\n",
              "      <td>0</td>\n",
              "      <td>4</td>\n",
              "      <td>0</td>\n",
              "      <td>0</td>\n",
              "      <td>0</td>\n",
              "      <td>0</td>\n",
              "      <td>0</td>\n",
              "      <td>0</td>\n",
              "      <td>1</td>\n",
              "      <td>0</td>\n",
              "      <td>14023</td>\n",
              "      <td>0</td>\n",
              "      <td>0</td>\n",
              "      <td>0</td>\n",
              "      <td>1</td>\n",
              "      <td>2</td>\n",
              "      <td>0</td>\n",
              "      <td>0</td>\n",
              "      <td>0</td>\n",
              "      <td>55</td>\n",
              "      <td>0</td>\n",
              "      <td>0</td>\n",
              "      <td>0</td>\n",
              "      <td>2</td>\n",
              "    </tr>\n",
              "    <tr>\n",
              "      <th>1</th>\n",
              "      <td>Aaron_Lennon</td>\n",
              "      <td>0</td>\n",
              "      <td>3</td>\n",
              "      <td>0</td>\n",
              "      <td>0</td>\n",
              "      <td>0</td>\n",
              "      <td>6</td>\n",
              "      <td>0</td>\n",
              "      <td>1</td>\n",
              "      <td>0.3</td>\n",
              "      <td>0</td>\n",
              "      <td>142</td>\n",
              "      <td>0</td>\n",
              "      <td>0</td>\n",
              "      <td>3</td>\n",
              "      <td>0</td>\n",
              "      <td>0</td>\n",
              "      <td>0</td>\n",
              "      <td>0.9</td>\n",
              "      <td>142</td>\n",
              "      <td>15</td>\n",
              "      <td>0</td>\n",
              "      <td>0</td>\n",
              "      <td>17</td>\n",
              "      <td>0</td>\n",
              "      <td>0</td>\n",
              "      <td>0</td>\n",
              "      <td>0</td>\n",
              "      <td>1</td>\n",
              "      <td>0</td>\n",
              "      <td>1</td>\n",
              "      <td>0</td>\n",
              "      <td>13918</td>\n",
              "      <td>1</td>\n",
              "      <td>2</td>\n",
              "      <td>0</td>\n",
              "      <td>1</td>\n",
              "      <td>1</td>\n",
              "      <td>1</td>\n",
              "      <td>0</td>\n",
              "      <td>0</td>\n",
              "      <td>60</td>\n",
              "      <td>0</td>\n",
              "      <td>0</td>\n",
              "      <td>1</td>\n",
              "      <td>1</td>\n",
              "    </tr>\n",
              "    <tr>\n",
              "      <th>2</th>\n",
              "      <td>Aaron_Ramsey</td>\n",
              "      <td>0</td>\n",
              "      <td>26</td>\n",
              "      <td>0</td>\n",
              "      <td>0</td>\n",
              "      <td>0</td>\n",
              "      <td>5</td>\n",
              "      <td>0</td>\n",
              "      <td>2</td>\n",
              "      <td>4.9</td>\n",
              "      <td>1</td>\n",
              "      <td>16</td>\n",
              "      <td>0</td>\n",
              "      <td>0</td>\n",
              "      <td>8</td>\n",
              "      <td>0</td>\n",
              "      <td>3</td>\n",
              "      <td>0</td>\n",
              "      <td>3.0</td>\n",
              "      <td>16</td>\n",
              "      <td>60</td>\n",
              "      <td>0</td>\n",
              "      <td>0</td>\n",
              "      <td>9</td>\n",
              "      <td>0</td>\n",
              "      <td>0</td>\n",
              "      <td>0</td>\n",
              "      <td>0</td>\n",
              "      <td>2</td>\n",
              "      <td>0</td>\n",
              "      <td>1</td>\n",
              "      <td>0</td>\n",
              "      <td>163170</td>\n",
              "      <td>2</td>\n",
              "      <td>0</td>\n",
              "      <td>1</td>\n",
              "      <td>4</td>\n",
              "      <td>3</td>\n",
              "      <td>2</td>\n",
              "      <td>0</td>\n",
              "      <td>0</td>\n",
              "      <td>80</td>\n",
              "      <td>0</td>\n",
              "      <td>0</td>\n",
              "      <td>1</td>\n",
              "      <td>1</td>\n",
              "    </tr>\n",
              "    <tr>\n",
              "      <th>3</th>\n",
              "      <td>Abdoulaye_Doucouré</td>\n",
              "      <td>0</td>\n",
              "      <td>0</td>\n",
              "      <td>0</td>\n",
              "      <td>0</td>\n",
              "      <td>0</td>\n",
              "      <td>0</td>\n",
              "      <td>0</td>\n",
              "      <td>0</td>\n",
              "      <td>0.0</td>\n",
              "      <td>0</td>\n",
              "      <td>482</td>\n",
              "      <td>0</td>\n",
              "      <td>0</td>\n",
              "      <td>7</td>\n",
              "      <td>0</td>\n",
              "      <td>0</td>\n",
              "      <td>0</td>\n",
              "      <td>0.0</td>\n",
              "      <td>482</td>\n",
              "      <td>0</td>\n",
              "      <td>0</td>\n",
              "      <td>0</td>\n",
              "      <td>13</td>\n",
              "      <td>0</td>\n",
              "      <td>0</td>\n",
              "      <td>0</td>\n",
              "      <td>0</td>\n",
              "      <td>0</td>\n",
              "      <td>0</td>\n",
              "      <td>1</td>\n",
              "      <td>0</td>\n",
              "      <td>1051</td>\n",
              "      <td>0</td>\n",
              "      <td>0</td>\n",
              "      <td>0</td>\n",
              "      <td>1</td>\n",
              "      <td>1</td>\n",
              "      <td>0</td>\n",
              "      <td>0</td>\n",
              "      <td>0</td>\n",
              "      <td>50</td>\n",
              "      <td>0</td>\n",
              "      <td>0</td>\n",
              "      <td>0</td>\n",
              "      <td>1</td>\n",
              "    </tr>\n",
              "    <tr>\n",
              "      <th>4</th>\n",
              "      <td>Abdul Rahman_Baba</td>\n",
              "      <td>0</td>\n",
              "      <td>0</td>\n",
              "      <td>0</td>\n",
              "      <td>0</td>\n",
              "      <td>0</td>\n",
              "      <td>0</td>\n",
              "      <td>0</td>\n",
              "      <td>0</td>\n",
              "      <td>0.0</td>\n",
              "      <td>0</td>\n",
              "      <td>80</td>\n",
              "      <td>0</td>\n",
              "      <td>0</td>\n",
              "      <td>10</td>\n",
              "      <td>0</td>\n",
              "      <td>0</td>\n",
              "      <td>0</td>\n",
              "      <td>0.0</td>\n",
              "      <td>80</td>\n",
              "      <td>0</td>\n",
              "      <td>0</td>\n",
              "      <td>0</td>\n",
              "      <td>20</td>\n",
              "      <td>0</td>\n",
              "      <td>0</td>\n",
              "      <td>0</td>\n",
              "      <td>0</td>\n",
              "      <td>0</td>\n",
              "      <td>0</td>\n",
              "      <td>1</td>\n",
              "      <td>0</td>\n",
              "      <td>1243</td>\n",
              "      <td>0</td>\n",
              "      <td>0</td>\n",
              "      <td>0</td>\n",
              "      <td>1</td>\n",
              "      <td>2</td>\n",
              "      <td>0</td>\n",
              "      <td>0</td>\n",
              "      <td>0</td>\n",
              "      <td>55</td>\n",
              "      <td>0</td>\n",
              "      <td>0</td>\n",
              "      <td>1</td>\n",
              "      <td>2</td>\n",
              "    </tr>\n",
              "  </tbody>\n",
              "</table>\n",
              "</div>"
            ],
            "text/plain": [
              "                 name  assists  ...  home  kickoff_time\n",
              "0     Aaron_Cresswell        0  ...     0             2\n",
              "1        Aaron_Lennon        0  ...     1             1\n",
              "2        Aaron_Ramsey        0  ...     1             1\n",
              "3  Abdoulaye_Doucouré        0  ...     0             1\n",
              "4   Abdul Rahman_Baba        0  ...     1             2\n",
              "\n",
              "[5 rows x 46 columns]"
            ]
          },
          "metadata": {
            "tags": []
          },
          "execution_count": 153
        }
      ]
    },
    {
      "cell_type": "code",
      "metadata": {
        "id": "ICEkXbuKAOrO",
        "colab_type": "code",
        "colab": {}
      },
      "source": [
        "from sklearn.model_selection import train_test_split\n",
        "X=gws1.drop(['name','total_points'],axis=1)\n",
        "y=gws1['total_points']\n",
        "X_train, X_test, y_train, y_test = train_test_split( X, y, test_size=0.30, random_state=42)"
      ],
      "execution_count": 154,
      "outputs": []
    },
    {
      "cell_type": "code",
      "metadata": {
        "id": "T5J01EPzBSAv",
        "colab_type": "code",
        "colab": {
          "base_uri": "https://localhost:8080/",
          "height": 34
        },
        "outputId": "412e4dee-f954-4251-c477-6266c9b0829a"
      },
      "source": [
        "from sklearn.linear_model import LinearRegression\n",
        "model=LinearRegression()\n",
        "model.fit(X_train, y_train)"
      ],
      "execution_count": 155,
      "outputs": [
        {
          "output_type": "execute_result",
          "data": {
            "text/plain": [
              "LinearRegression(copy_X=True, fit_intercept=True, n_jobs=None, normalize=False)"
            ]
          },
          "metadata": {
            "tags": []
          },
          "execution_count": 155
        }
      ]
    },
    {
      "cell_type": "code",
      "metadata": {
        "id": "uqDKihzuB6vU",
        "colab_type": "code",
        "colab": {
          "base_uri": "https://localhost:8080/",
          "height": 204
        },
        "outputId": "75229104-6e56-4e4e-bf4f-fdf935b2a556"
      },
      "source": [
        "model.coef_"
      ],
      "execution_count": 156,
      "outputs": [
        {
          "output_type": "execute_result",
          "data": {
            "text/plain": [
              "array([ 1.45375992e+00, -8.37418403e-03, -5.43158399e-01,  5.20295528e-01,\n",
              "        1.09032263e+00,  1.71333068e-01,  1.08165550e+00, -7.90430472e-02,\n",
              "       -1.07439558e-02, -1.45981947e-01, -2.21164230e-05,  2.78792652e-01,\n",
              "        7.35923955e-02, -5.28770430e-05,  1.62155404e-01, -2.47263374e-01,\n",
              "        1.32346591e+00, -2.03424011e-02, -1.68545670e-05,  1.37886651e-02,\n",
              "        1.01071412e-01, -9.51120034e-02, -4.07715527e-04, -1.22548547e+00,\n",
              "        4.38227862e-01, -9.36110078e-01,  2.25598533e+00, -5.27930476e-02,\n",
              "       -1.13917653e+00,  1.06659362e-02, -6.69056847e-02, -4.70347703e-08,\n",
              "        1.97229392e-01, -3.41601242e-01,  1.54279496e-01, -4.74151718e-03,\n",
              "        2.68070831e-03, -7.96502770e-07, -9.96833198e-07,  9.18667621e-05,\n",
              "       -7.56294528e-01, -4.77571729e-01,  3.92295740e-03,  6.16290534e-04])"
            ]
          },
          "metadata": {
            "tags": []
          },
          "execution_count": 156
        }
      ]
    },
    {
      "cell_type": "code",
      "metadata": {
        "id": "bjJ1eg6_C5OT",
        "colab_type": "code",
        "colab": {}
      },
      "source": [
        "cdf=pd.DataFrame(model.coef_,X_train.columns,columns=['Coeff'])"
      ],
      "execution_count": 157,
      "outputs": []
    },
    {
      "cell_type": "code",
      "metadata": {
        "id": "ttcvpFsFDMW1",
        "colab_type": "code",
        "colab": {
          "base_uri": "https://localhost:8080/",
          "height": 1000
        },
        "outputId": "bfc50460-a52b-4cf4-c77a-ed5244ec7830"
      },
      "source": [
        "cdf"
      ],
      "execution_count": 158,
      "outputs": [
        {
          "output_type": "execute_result",
          "data": {
            "text/html": [
              "<div>\n",
              "<style scoped>\n",
              "    .dataframe tbody tr th:only-of-type {\n",
              "        vertical-align: middle;\n",
              "    }\n",
              "\n",
              "    .dataframe tbody tr th {\n",
              "        vertical-align: top;\n",
              "    }\n",
              "\n",
              "    .dataframe thead th {\n",
              "        text-align: right;\n",
              "    }\n",
              "</style>\n",
              "<table border=\"1\" class=\"dataframe\">\n",
              "  <thead>\n",
              "    <tr style=\"text-align: right;\">\n",
              "      <th></th>\n",
              "      <th>Coeff</th>\n",
              "    </tr>\n",
              "  </thead>\n",
              "  <tbody>\n",
              "    <tr>\n",
              "      <th>assists</th>\n",
              "      <td>1.453760e+00</td>\n",
              "    </tr>\n",
              "    <tr>\n",
              "      <th>attempted_passes</th>\n",
              "      <td>-8.374184e-03</td>\n",
              "    </tr>\n",
              "    <tr>\n",
              "      <th>big_chances_created</th>\n",
              "      <td>-5.431584e-01</td>\n",
              "    </tr>\n",
              "    <tr>\n",
              "      <th>big_chances_missed</th>\n",
              "      <td>5.202955e-01</td>\n",
              "    </tr>\n",
              "    <tr>\n",
              "      <th>bonus</th>\n",
              "      <td>1.090323e+00</td>\n",
              "    </tr>\n",
              "    <tr>\n",
              "      <th>bps</th>\n",
              "      <td>1.713331e-01</td>\n",
              "    </tr>\n",
              "    <tr>\n",
              "      <th>clean_sheets</th>\n",
              "      <td>1.081656e+00</td>\n",
              "    </tr>\n",
              "    <tr>\n",
              "      <th>clearances_blocks_interceptions</th>\n",
              "      <td>-7.904305e-02</td>\n",
              "    </tr>\n",
              "    <tr>\n",
              "      <th>creativity</th>\n",
              "      <td>-1.074396e-02</td>\n",
              "    </tr>\n",
              "    <tr>\n",
              "      <th>dribbles</th>\n",
              "      <td>-1.459819e-01</td>\n",
              "    </tr>\n",
              "    <tr>\n",
              "      <th>element</th>\n",
              "      <td>-2.211642e-05</td>\n",
              "    </tr>\n",
              "    <tr>\n",
              "      <th>errors_leading_to_goal</th>\n",
              "      <td>2.787927e-01</td>\n",
              "    </tr>\n",
              "    <tr>\n",
              "      <th>errors_leading_to_goal_attempt</th>\n",
              "      <td>7.359240e-02</td>\n",
              "    </tr>\n",
              "    <tr>\n",
              "      <th>fixture</th>\n",
              "      <td>-5.287704e-05</td>\n",
              "    </tr>\n",
              "    <tr>\n",
              "      <th>fouls</th>\n",
              "      <td>1.621554e-01</td>\n",
              "    </tr>\n",
              "    <tr>\n",
              "      <th>goals_conceded</th>\n",
              "      <td>-2.472634e-01</td>\n",
              "    </tr>\n",
              "    <tr>\n",
              "      <th>goals_scored</th>\n",
              "      <td>1.323466e+00</td>\n",
              "    </tr>\n",
              "    <tr>\n",
              "      <th>ict_index</th>\n",
              "      <td>-2.034240e-02</td>\n",
              "    </tr>\n",
              "    <tr>\n",
              "      <th>id</th>\n",
              "      <td>-1.685457e-05</td>\n",
              "    </tr>\n",
              "    <tr>\n",
              "      <th>minutes</th>\n",
              "      <td>1.378867e-02</td>\n",
              "    </tr>\n",
              "    <tr>\n",
              "      <th>offside</th>\n",
              "      <td>1.010714e-01</td>\n",
              "    </tr>\n",
              "    <tr>\n",
              "      <th>open_play_crosses</th>\n",
              "      <td>-9.511200e-02</td>\n",
              "    </tr>\n",
              "    <tr>\n",
              "      <th>opponent_team</th>\n",
              "      <td>-4.077155e-04</td>\n",
              "    </tr>\n",
              "    <tr>\n",
              "      <th>own_goals</th>\n",
              "      <td>-1.225485e+00</td>\n",
              "    </tr>\n",
              "    <tr>\n",
              "      <th>penalties_conceded</th>\n",
              "      <td>4.382279e-01</td>\n",
              "    </tr>\n",
              "    <tr>\n",
              "      <th>penalties_missed</th>\n",
              "      <td>-9.361101e-01</td>\n",
              "    </tr>\n",
              "    <tr>\n",
              "      <th>penalties_saved</th>\n",
              "      <td>2.255985e+00</td>\n",
              "    </tr>\n",
              "    <tr>\n",
              "      <th>recoveries</th>\n",
              "      <td>-5.279305e-02</td>\n",
              "    </tr>\n",
              "    <tr>\n",
              "      <th>red_cards</th>\n",
              "      <td>-1.139177e+00</td>\n",
              "    </tr>\n",
              "    <tr>\n",
              "      <th>round</th>\n",
              "      <td>1.066594e-02</td>\n",
              "    </tr>\n",
              "    <tr>\n",
              "      <th>saves</th>\n",
              "      <td>-6.690568e-02</td>\n",
              "    </tr>\n",
              "    <tr>\n",
              "      <th>selected</th>\n",
              "      <td>-4.703477e-08</td>\n",
              "    </tr>\n",
              "    <tr>\n",
              "      <th>tackled</th>\n",
              "      <td>1.972294e-01</td>\n",
              "    </tr>\n",
              "    <tr>\n",
              "      <th>tackles</th>\n",
              "      <td>-3.416012e-01</td>\n",
              "    </tr>\n",
              "    <tr>\n",
              "      <th>target_missed</th>\n",
              "      <td>1.542795e-01</td>\n",
              "    </tr>\n",
              "    <tr>\n",
              "      <th>team_a_score</th>\n",
              "      <td>-4.741517e-03</td>\n",
              "    </tr>\n",
              "    <tr>\n",
              "      <th>team_h_score</th>\n",
              "      <td>2.680708e-03</td>\n",
              "    </tr>\n",
              "    <tr>\n",
              "      <th>transfers_balance</th>\n",
              "      <td>-7.965028e-07</td>\n",
              "    </tr>\n",
              "    <tr>\n",
              "      <th>transfers_out</th>\n",
              "      <td>-9.968332e-07</td>\n",
              "    </tr>\n",
              "    <tr>\n",
              "      <th>value</th>\n",
              "      <td>9.186676e-05</td>\n",
              "    </tr>\n",
              "    <tr>\n",
              "      <th>winning_goals</th>\n",
              "      <td>-7.562945e-01</td>\n",
              "    </tr>\n",
              "    <tr>\n",
              "      <th>yellow_cards</th>\n",
              "      <td>-4.775717e-01</td>\n",
              "    </tr>\n",
              "    <tr>\n",
              "      <th>home</th>\n",
              "      <td>3.922957e-03</td>\n",
              "    </tr>\n",
              "    <tr>\n",
              "      <th>kickoff_time</th>\n",
              "      <td>6.162905e-04</td>\n",
              "    </tr>\n",
              "  </tbody>\n",
              "</table>\n",
              "</div>"
            ],
            "text/plain": [
              "                                        Coeff\n",
              "assists                          1.453760e+00\n",
              "attempted_passes                -8.374184e-03\n",
              "big_chances_created             -5.431584e-01\n",
              "big_chances_missed               5.202955e-01\n",
              "bonus                            1.090323e+00\n",
              "bps                              1.713331e-01\n",
              "clean_sheets                     1.081656e+00\n",
              "clearances_blocks_interceptions -7.904305e-02\n",
              "creativity                      -1.074396e-02\n",
              "dribbles                        -1.459819e-01\n",
              "element                         -2.211642e-05\n",
              "errors_leading_to_goal           2.787927e-01\n",
              "errors_leading_to_goal_attempt   7.359240e-02\n",
              "fixture                         -5.287704e-05\n",
              "fouls                            1.621554e-01\n",
              "goals_conceded                  -2.472634e-01\n",
              "goals_scored                     1.323466e+00\n",
              "ict_index                       -2.034240e-02\n",
              "id                              -1.685457e-05\n",
              "minutes                          1.378867e-02\n",
              "offside                          1.010714e-01\n",
              "open_play_crosses               -9.511200e-02\n",
              "opponent_team                   -4.077155e-04\n",
              "own_goals                       -1.225485e+00\n",
              "penalties_conceded               4.382279e-01\n",
              "penalties_missed                -9.361101e-01\n",
              "penalties_saved                  2.255985e+00\n",
              "recoveries                      -5.279305e-02\n",
              "red_cards                       -1.139177e+00\n",
              "round                            1.066594e-02\n",
              "saves                           -6.690568e-02\n",
              "selected                        -4.703477e-08\n",
              "tackled                          1.972294e-01\n",
              "tackles                         -3.416012e-01\n",
              "target_missed                    1.542795e-01\n",
              "team_a_score                    -4.741517e-03\n",
              "team_h_score                     2.680708e-03\n",
              "transfers_balance               -7.965028e-07\n",
              "transfers_out                   -9.968332e-07\n",
              "value                            9.186676e-05\n",
              "winning_goals                   -7.562945e-01\n",
              "yellow_cards                    -4.775717e-01\n",
              "home                             3.922957e-03\n",
              "kickoff_time                     6.162905e-04"
            ]
          },
          "metadata": {
            "tags": []
          },
          "execution_count": 158
        }
      ]
    },
    {
      "cell_type": "code",
      "metadata": {
        "id": "yNEmCc2wDODO",
        "colab_type": "code",
        "colab": {}
      },
      "source": [
        "predict=model.predict(X_test)"
      ],
      "execution_count": 159,
      "outputs": []
    },
    {
      "cell_type": "code",
      "metadata": {
        "id": "B-01kNTxJHTS",
        "colab_type": "code",
        "colab": {
          "base_uri": "https://localhost:8080/",
          "height": 51
        },
        "outputId": "6961aefd-45ce-4697-d927-9a669ace3676"
      },
      "source": [
        "predict"
      ],
      "execution_count": 160,
      "outputs": [
        {
          "output_type": "execute_result",
          "data": {
            "text/plain": [
              "array([0.02574089, 0.49818176, 0.06440111, ..., 1.55897653, 0.06043956,\n",
              "       0.06383709])"
            ]
          },
          "metadata": {
            "tags": []
          },
          "execution_count": 160
        }
      ]
    },
    {
      "cell_type": "code",
      "metadata": {
        "id": "bu6qI_LpJJM-",
        "colab_type": "code",
        "colab": {
          "base_uri": "https://localhost:8080/",
          "height": 297
        },
        "outputId": "ee276e73-5560-4a7b-d79c-68577b72c2e1"
      },
      "source": [
        "sns.scatterplot(y_test,predict)\n",
        "#plt.scatter(y_test,predict)"
      ],
      "execution_count": 161,
      "outputs": [
        {
          "output_type": "execute_result",
          "data": {
            "text/plain": [
              "<matplotlib.axes._subplots.AxesSubplot at 0x7f0ea8e73a20>"
            ]
          },
          "metadata": {
            "tags": []
          },
          "execution_count": 161
        },
        {
          "output_type": "display_data",
          "data": {
            "image/png": "[encoded data removed]",
            "text/plain": [
              "<Figure size 432x288 with 1 Axes>"
            ]
          },
          "metadata": {
            "tags": []
          }
        }
      ]
    },
    {
      "cell_type": "code",
      "metadata": {
        "id": "H1i08hD8Juq3",
        "colab_type": "code",
        "colab": {
          "base_uri": "https://localhost:8080/",
          "height": 297
        },
        "outputId": "e36b69f2-41db-46f1-e263-a0f3db419566"
      },
      "source": [
        "sns.distplot(y_test-predict,color='red')"
      ],
      "execution_count": 162,
      "outputs": [
        {
          "output_type": "execute_result",
          "data": {
            "text/plain": [
              "<matplotlib.axes._subplots.AxesSubplot at 0x7f0ea7dda1d0>"
            ]
          },
          "metadata": {
            "tags": []
          },
          "execution_count": 162
        },
        {
          "output_type": "display_data",
          "data": {
            "image/png": "[encoded data removed]",
            "text/plain": [
              "<Figure size 432x288 with 1 Axes>"
            ]
          },
          "metadata": {
            "tags": []
          }
        }
      ]
    },
    {
      "cell_type": "code",
      "metadata": {
        "id": "UyKuu6u1JW2t",
        "colab_type": "code",
        "colab": {
          "base_uri": "https://localhost:8080/",
          "height": 85
        },
        "outputId": "1ddee28a-dd97-4b55-d6a3-86e86b9cebfe"
      },
      "source": [
        "from sklearn.metrics import mean_absolute_error,mean_squared_error, explained_variance_score,r2_score\n",
        "print('MAE:',mean_absolute_error(y_test,predict))\n",
        "print('MSE:',mean_squared_error(y_test,predict))\n",
        "print('RMSE',np.sqrt(mean_squared_error(y_test,predict)))\n",
        "print('R2 Score',r2_score(y_test,predict))"
      ],
      "execution_count": 163,
      "outputs": [
        {
          "output_type": "stream",
          "text": [
            "MAE: 0.27414886294455576\n",
            "MSE: 0.2405847933497275\n",
            "RMSE 0.4904944376338303\n",
            "R2 Score 0.9622851603158411\n"
          ],
          "name": "stdout"
        }
      ]
    },
    {
      "cell_type": "code",
      "metadata": {
        "id": "kNqT6IZqJn3e",
        "colab_type": "code",
        "colab": {
          "base_uri": "https://localhost:8080/",
          "height": 34
        },
        "outputId": "458e42f2-1475-495e-ce1d-0204bdd910b5"
      },
      "source": [
        "explained_variance_score(y_test,predict)"
      ],
      "execution_count": 164,
      "outputs": [
        {
          "output_type": "execute_result",
          "data": {
            "text/plain": [
              "0.9622852247775814"
            ]
          },
          "metadata": {
            "tags": []
          },
          "execution_count": 164
        }
      ]
    },
    {
      "cell_type": "code",
      "metadata": {
        "id": "ptAHgqTCL77k",
        "colab_type": "code",
        "colab": {}
      },
      "source": [
        "df = pd.DataFrame({'Actual': y_test, 'Predicted': predict})\n"
      ],
      "execution_count": 165,
      "outputs": []
    },
    {
      "cell_type": "code",
      "metadata": {
        "id": "x7lgNDdp5V1b",
        "colab_type": "code",
        "colab": {
          "base_uri": "https://localhost:8080/",
          "height": 1000
        },
        "outputId": "c8171a7a-9350-4439-ef16-c7be735a8430"
      },
      "source": [
        "df.head(50)"
      ],
      "execution_count": 166,
      "outputs": [
        {
          "output_type": "execute_result",
          "data": {
            "text/html": [
              "<div>\n",
              "<style scoped>\n",
              "    .dataframe tbody tr th:only-of-type {\n",
              "        vertical-align: middle;\n",
              "    }\n",
              "\n",
              "    .dataframe tbody tr th {\n",
              "        vertical-align: top;\n",
              "    }\n",
              "\n",
              "    .dataframe thead th {\n",
              "        text-align: right;\n",
              "    }\n",
              "</style>\n",
              "<table border=\"1\" class=\"dataframe\">\n",
              "  <thead>\n",
              "    <tr style=\"text-align: right;\">\n",
              "      <th></th>\n",
              "      <th>Actual</th>\n",
              "      <th>Predicted</th>\n",
              "    </tr>\n",
              "  </thead>\n",
              "  <tbody>\n",
              "    <tr>\n",
              "      <th>41277</th>\n",
              "      <td>0</td>\n",
              "      <td>0.025741</td>\n",
              "    </tr>\n",
              "    <tr>\n",
              "      <th>29364</th>\n",
              "      <td>1</td>\n",
              "      <td>0.498182</td>\n",
              "    </tr>\n",
              "    <tr>\n",
              "      <th>35326</th>\n",
              "      <td>0</td>\n",
              "      <td>0.064401</td>\n",
              "    </tr>\n",
              "    <tr>\n",
              "      <th>37955</th>\n",
              "      <td>6</td>\n",
              "      <td>5.574571</td>\n",
              "    </tr>\n",
              "    <tr>\n",
              "      <th>26024</th>\n",
              "      <td>0</td>\n",
              "      <td>0.029741</td>\n",
              "    </tr>\n",
              "    <tr>\n",
              "      <th>9270</th>\n",
              "      <td>8</td>\n",
              "      <td>7.672839</td>\n",
              "    </tr>\n",
              "    <tr>\n",
              "      <th>22739</th>\n",
              "      <td>2</td>\n",
              "      <td>2.821336</td>\n",
              "    </tr>\n",
              "    <tr>\n",
              "      <th>34643</th>\n",
              "      <td>7</td>\n",
              "      <td>7.109469</td>\n",
              "    </tr>\n",
              "    <tr>\n",
              "      <th>43957</th>\n",
              "      <td>0</td>\n",
              "      <td>0.036477</td>\n",
              "    </tr>\n",
              "    <tr>\n",
              "      <th>34123</th>\n",
              "      <td>0</td>\n",
              "      <td>0.069450</td>\n",
              "    </tr>\n",
              "    <tr>\n",
              "      <th>22306</th>\n",
              "      <td>0</td>\n",
              "      <td>0.058948</td>\n",
              "    </tr>\n",
              "    <tr>\n",
              "      <th>27320</th>\n",
              "      <td>9</td>\n",
              "      <td>8.147018</td>\n",
              "    </tr>\n",
              "    <tr>\n",
              "      <th>20412</th>\n",
              "      <td>6</td>\n",
              "      <td>5.633131</td>\n",
              "    </tr>\n",
              "    <tr>\n",
              "      <th>20585</th>\n",
              "      <td>3</td>\n",
              "      <td>3.590000</td>\n",
              "    </tr>\n",
              "    <tr>\n",
              "      <th>11212</th>\n",
              "      <td>0</td>\n",
              "      <td>0.058547</td>\n",
              "    </tr>\n",
              "    <tr>\n",
              "      <th>11331</th>\n",
              "      <td>0</td>\n",
              "      <td>0.055648</td>\n",
              "    </tr>\n",
              "    <tr>\n",
              "      <th>18619</th>\n",
              "      <td>0</td>\n",
              "      <td>0.039903</td>\n",
              "    </tr>\n",
              "    <tr>\n",
              "      <th>45266</th>\n",
              "      <td>0</td>\n",
              "      <td>0.071520</td>\n",
              "    </tr>\n",
              "    <tr>\n",
              "      <th>14883</th>\n",
              "      <td>0</td>\n",
              "      <td>0.052711</td>\n",
              "    </tr>\n",
              "    <tr>\n",
              "      <th>13019</th>\n",
              "      <td>2</td>\n",
              "      <td>1.467730</td>\n",
              "    </tr>\n",
              "    <tr>\n",
              "      <th>6536</th>\n",
              "      <td>7</td>\n",
              "      <td>7.616072</td>\n",
              "    </tr>\n",
              "    <tr>\n",
              "      <th>4422</th>\n",
              "      <td>0</td>\n",
              "      <td>0.068369</td>\n",
              "    </tr>\n",
              "    <tr>\n",
              "      <th>13033</th>\n",
              "      <td>2</td>\n",
              "      <td>1.438168</td>\n",
              "    </tr>\n",
              "    <tr>\n",
              "      <th>39665</th>\n",
              "      <td>0</td>\n",
              "      <td>0.057298</td>\n",
              "    </tr>\n",
              "    <tr>\n",
              "      <th>8850</th>\n",
              "      <td>1</td>\n",
              "      <td>0.532818</td>\n",
              "    </tr>\n",
              "    <tr>\n",
              "      <th>36325</th>\n",
              "      <td>0</td>\n",
              "      <td>0.074118</td>\n",
              "    </tr>\n",
              "    <tr>\n",
              "      <th>33118</th>\n",
              "      <td>0</td>\n",
              "      <td>0.053892</td>\n",
              "    </tr>\n",
              "    <tr>\n",
              "      <th>11192</th>\n",
              "      <td>1</td>\n",
              "      <td>0.702928</td>\n",
              "    </tr>\n",
              "    <tr>\n",
              "      <th>43654</th>\n",
              "      <td>1</td>\n",
              "      <td>1.764297</td>\n",
              "    </tr>\n",
              "    <tr>\n",
              "      <th>11494</th>\n",
              "      <td>3</td>\n",
              "      <td>3.718695</td>\n",
              "    </tr>\n",
              "    <tr>\n",
              "      <th>43941</th>\n",
              "      <td>0</td>\n",
              "      <td>0.057024</td>\n",
              "    </tr>\n",
              "    <tr>\n",
              "      <th>11210</th>\n",
              "      <td>0</td>\n",
              "      <td>0.047926</td>\n",
              "    </tr>\n",
              "    <tr>\n",
              "      <th>20499</th>\n",
              "      <td>1</td>\n",
              "      <td>0.913419</td>\n",
              "    </tr>\n",
              "    <tr>\n",
              "      <th>7821</th>\n",
              "      <td>2</td>\n",
              "      <td>1.491013</td>\n",
              "    </tr>\n",
              "    <tr>\n",
              "      <th>13595</th>\n",
              "      <td>1</td>\n",
              "      <td>0.664835</td>\n",
              "    </tr>\n",
              "    <tr>\n",
              "      <th>38680</th>\n",
              "      <td>2</td>\n",
              "      <td>0.886633</td>\n",
              "    </tr>\n",
              "    <tr>\n",
              "      <th>42791</th>\n",
              "      <td>1</td>\n",
              "      <td>0.619486</td>\n",
              "    </tr>\n",
              "    <tr>\n",
              "      <th>9134</th>\n",
              "      <td>2</td>\n",
              "      <td>2.455837</td>\n",
              "    </tr>\n",
              "    <tr>\n",
              "      <th>36478</th>\n",
              "      <td>0</td>\n",
              "      <td>0.051594</td>\n",
              "    </tr>\n",
              "    <tr>\n",
              "      <th>37215</th>\n",
              "      <td>2</td>\n",
              "      <td>2.398255</td>\n",
              "    </tr>\n",
              "    <tr>\n",
              "      <th>40786</th>\n",
              "      <td>0</td>\n",
              "      <td>0.054564</td>\n",
              "    </tr>\n",
              "    <tr>\n",
              "      <th>38877</th>\n",
              "      <td>2</td>\n",
              "      <td>1.522662</td>\n",
              "    </tr>\n",
              "    <tr>\n",
              "      <th>41978</th>\n",
              "      <td>7</td>\n",
              "      <td>7.170718</td>\n",
              "    </tr>\n",
              "    <tr>\n",
              "      <th>8322</th>\n",
              "      <td>2</td>\n",
              "      <td>1.516012</td>\n",
              "    </tr>\n",
              "    <tr>\n",
              "      <th>37597</th>\n",
              "      <td>0</td>\n",
              "      <td>0.055069</td>\n",
              "    </tr>\n",
              "    <tr>\n",
              "      <th>20870</th>\n",
              "      <td>7</td>\n",
              "      <td>6.318209</td>\n",
              "    </tr>\n",
              "    <tr>\n",
              "      <th>32203</th>\n",
              "      <td>1</td>\n",
              "      <td>0.322722</td>\n",
              "    </tr>\n",
              "    <tr>\n",
              "      <th>38611</th>\n",
              "      <td>0</td>\n",
              "      <td>0.078655</td>\n",
              "    </tr>\n",
              "    <tr>\n",
              "      <th>15670</th>\n",
              "      <td>0</td>\n",
              "      <td>0.923387</td>\n",
              "    </tr>\n",
              "    <tr>\n",
              "      <th>399</th>\n",
              "      <td>0</td>\n",
              "      <td>0.048879</td>\n",
              "    </tr>\n",
              "  </tbody>\n",
              "</table>\n",
              "</div>"
            ],
            "text/plain": [
              "       Actual  Predicted\n",
              "41277       0   0.025741\n",
              "29364       1   0.498182\n",
              "35326       0   0.064401\n",
              "37955       6   5.574571\n",
              "26024       0   0.029741\n",
              "9270        8   7.672839\n",
              "22739       2   2.821336\n",
              "34643       7   7.109469\n",
              "43957       0   0.036477\n",
              "34123       0   0.069450\n",
              "22306       0   0.058948\n",
              "27320       9   8.147018\n",
              "20412       6   5.633131\n",
              "20585       3   3.590000\n",
              "11212       0   0.058547\n",
              "11331       0   0.055648\n",
              "18619       0   0.039903\n",
              "45266       0   0.071520\n",
              "14883       0   0.052711\n",
              "13019       2   1.467730\n",
              "6536        7   7.616072\n",
              "4422        0   0.068369\n",
              "13033       2   1.438168\n",
              "39665       0   0.057298\n",
              "8850        1   0.532818\n",
              "36325       0   0.074118\n",
              "33118       0   0.053892\n",
              "11192       1   0.702928\n",
              "43654       1   1.764297\n",
              "11494       3   3.718695\n",
              "43941       0   0.057024\n",
              "11210       0   0.047926\n",
              "20499       1   0.913419\n",
              "7821        2   1.491013\n",
              "13595       1   0.664835\n",
              "38680       2   0.886633\n",
              "42791       1   0.619486\n",
              "9134        2   2.455837\n",
              "36478       0   0.051594\n",
              "37215       2   2.398255\n",
              "40786       0   0.054564\n",
              "38877       2   1.522662\n",
              "41978       7   7.170718\n",
              "8322        2   1.516012\n",
              "37597       0   0.055069\n",
              "20870       7   6.318209\n",
              "32203       1   0.322722\n",
              "38611       0   0.078655\n",
              "15670       0   0.923387\n",
              "399         0   0.048879"
            ]
          },
          "metadata": {
            "tags": []
          },
          "execution_count": 166
        }
      ]
    },
    {
      "cell_type": "code",
      "metadata": {
        "id": "R9lvxyx35Z9K",
        "colab_type": "code",
        "colab": {
          "base_uri": "https://localhost:8080/",
          "height": 164
        },
        "outputId": "4d305939-3c97-4dc8-bec4-ed2f4a1c4c17"
      },
      "source": [
        "y=pd.DataFrame(scaler.inverse_transform(scaled),columns=gws1['feature_names'])\n"
      ],
      "execution_count": 167,
      "outputs": [
        {
          "output_type": "error",
          "ename": "NameError",
          "evalue": "ignored",
          "traceback": [
            "\u001b[0;31m---------------------------------------------------------------------------\u001b[0m",
            "\u001b[0;31mNameError\u001b[0m                                 Traceback (most recent call last)",
            "\u001b[0;32m<ipython-input-167-30d1aaae9a7b>\u001b[0m in \u001b[0;36m<module>\u001b[0;34m()\u001b[0m\n\u001b[0;32m----> 1\u001b[0;31m \u001b[0my\u001b[0m\u001b[0;34m=\u001b[0m\u001b[0mpd\u001b[0m\u001b[0;34m.\u001b[0m\u001b[0mDataFrame\u001b[0m\u001b[0;34m(\u001b[0m\u001b[0mscaler\u001b[0m\u001b[0;34m.\u001b[0m\u001b[0minverse_transform\u001b[0m\u001b[0;34m(\u001b[0m\u001b[0mscaled\u001b[0m\u001b[0;34m)\u001b[0m\u001b[0;34m,\u001b[0m\u001b[0mcolumns\u001b[0m\u001b[0;34m=\u001b[0m\u001b[0mgws1\u001b[0m\u001b[0;34m[\u001b[0m\u001b[0;34m'feature_names'\u001b[0m\u001b[0;34m]\u001b[0m\u001b[0;34m)\u001b[0m\u001b[0;34m\u001b[0m\u001b[0;34m\u001b[0m\u001b[0m\n\u001b[0m",
            "\u001b[0;31mNameError\u001b[0m: name 'scaler' is not defined"
          ]
        }
      ]
    },
    {
      "cell_type": "code",
      "metadata": {
        "id": "wTD-z-pW_Ddh",
        "colab_type": "code",
        "colab": {}
      },
      "source": [
        "x_new=pd.read_csv('/content/drive/My Drive/gw1.csv',encoding = \"ISO-8859-1\")"
      ],
      "execution_count": null,
      "outputs": []
    },
    {
      "cell_type": "code",
      "metadata": {
        "id": "MxweNXxpSEiI",
        "colab_type": "code",
        "colab": {}
      },
      "source": [
        "x_new.head()\n"
      ],
      "execution_count": null,
      "outputs": []
    },
    {
      "cell_type": "code",
      "metadata": {
        "id": "soukBYEoToXz",
        "colab_type": "code",
        "colab": {}
      },
      "source": [
        "x1=x_new.drop(['total_points','name'],axis=1)\n",
        "y_test1=x_new['total_points']"
      ],
      "execution_count": null,
      "outputs": []
    },
    {
      "cell_type": "code",
      "metadata": {
        "id": "HCS3i4_NT-In",
        "colab_type": "code",
        "colab": {}
      },
      "source": [
        "x1.head()"
      ],
      "execution_count": null,
      "outputs": []
    },
    {
      "cell_type": "code",
      "metadata": {
        "id": "Wk5-vAwPUZwL",
        "colab_type": "code",
        "colab": {}
      },
      "source": [
        "x1.drop(['kickoff_time','ea_index'], axis=1,inplace=True)"
      ],
      "execution_count": null,
      "outputs": []
    },
    {
      "cell_type": "code",
      "metadata": {
        "colab_type": "code",
        "id": "bsONG4zhUtOI",
        "colab": {}
      },
      "source": [
        "x1['kickoff_time_formatted']=pd.to_datetime(x1['kickoff_time_formatted'])\n"
      ],
      "execution_count": null,
      "outputs": []
    },
    {
      "cell_type": "code",
      "metadata": {
        "id": "YSSnlcbJVg7Y",
        "colab_type": "code",
        "colab": {}
      },
      "source": [
        "x1['kickoff_time'] = x1.kickoff_time_formatted.dt.hour\n"
      ],
      "execution_count": null,
      "outputs": []
    },
    {
      "cell_type": "code",
      "metadata": {
        "id": "p5-njkioUwYy",
        "colab_type": "code",
        "colab": {}
      },
      "source": [
        "def was_home(x):\n",
        "  if x==\"FALSE\":\n",
        "    return 0\n",
        "  else:\n",
        "    return 1"
      ],
      "execution_count": null,
      "outputs": []
    },
    {
      "cell_type": "code",
      "metadata": {
        "id": "VT_HchFc0tBr",
        "colab_type": "code",
        "colab": {}
      },
      "source": [
        "x1['home']=x1['was_home'].apply(was_home)"
      ],
      "execution_count": null,
      "outputs": []
    },
    {
      "cell_type": "code",
      "metadata": {
        "id": "OZd3gGLhU1xx",
        "colab_type": "code",
        "colab": {}
      },
      "source": [
        "x1['kickoff_time']=x1['kickoff_time'].apply(time)\n"
      ],
      "execution_count": null,
      "outputs": []
    },
    {
      "cell_type": "code",
      "metadata": {
        "id": "VvyvdMkFXMWt",
        "colab_type": "code",
        "colab": {}
      },
      "source": [
        "x1.drop('kickoff_time_formatted',axis=1,inplace=True)\n"
      ],
      "execution_count": null,
      "outputs": []
    },
    {
      "cell_type": "code",
      "metadata": {
        "id": "rKl-aHKfU7Av",
        "colab_type": "code",
        "colab": {}
      },
      "source": [
        "x1.drop(['element','id','was_home'],axis=1,inplace=True)"
      ],
      "execution_count": null,
      "outputs": []
    },
    {
      "cell_type": "code",
      "metadata": {
        "id": "8pfpQqNVWuR4",
        "colab_type": "code",
        "colab": {}
      },
      "source": [
        "x1.head()"
      ],
      "execution_count": null,
      "outputs": []
    },
    {
      "cell_type": "code",
      "metadata": {
        "id": "bczFWm3pVqZJ",
        "colab_type": "code",
        "colab": {}
      },
      "source": [
        "predict1=model.predict(x1)"
      ],
      "execution_count": null,
      "outputs": []
    },
    {
      "cell_type": "code",
      "metadata": {
        "id": "AOBPFrwnVuhI",
        "colab_type": "code",
        "colab": {}
      },
      "source": [
        "df1 = pd.DataFrame({'Actual': y_test1, 'Predicted': predict1})\n"
      ],
      "execution_count": null,
      "outputs": []
    },
    {
      "cell_type": "code",
      "metadata": {
        "id": "clpTfG_IZsVe",
        "colab_type": "code",
        "colab": {}
      },
      "source": [
        "df1"
      ],
      "execution_count": null,
      "outputs": []
    },
    {
      "cell_type": "code",
      "metadata": {
        "id": "EQpsT198ZuHV",
        "colab_type": "code",
        "colab": {}
      },
      "source": [
        "sns.distplot(y_test1-predict1)"
      ],
      "execution_count": null,
      "outputs": []
    },
    {
      "cell_type": "code",
      "metadata": {
        "id": "dgVcM9GmzIc2",
        "colab_type": "code",
        "colab": {}
      },
      "source": [
        "from sklearn.metrics import mean_absolute_error,mean_squared_error, explained_variance_score,r2_score\n",
        "print('MAE:',mean_absolute_error(y_test1,predict1))\n",
        "print('MSE:',mean_squared_error(y_test1,predict1))\n",
        "print('RMSE',np.sqrt(mean_squared_error(y_test1,predict1)))\n",
        "print('R2 Score',r2_score(y_test1,predict1))\n"
      ],
      "execution_count": null,
      "outputs": []
    },
    {
      "cell_type": "code",
      "metadata": {
        "id": "DfhIRYqyzJIK",
        "colab_type": "code",
        "colab": {}
      },
      "source": [
        ""
      ],
      "execution_count": null,
      "outputs": []
    }
  ]
}
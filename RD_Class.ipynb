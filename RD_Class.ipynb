{
  "nbformat": 4,
  "nbformat_minor": 0,
  "metadata": {
    "colab": {
      "name": "RD_Class.ipynb",
      "provenance": [],
      "collapsed_sections": [],
      "authorship_tag": "ABX9TyMzRnxWFQLbApNptiNwQ/46",
      "include_colab_link": true
    },
    "kernelspec": {
      "name": "python3",
      "display_name": "Python 3"
    }
  },
  "cells": [
    {
      "cell_type": "markdown",
      "metadata": {
        "id": "view-in-github",
        "colab_type": "text"
      },
      "source": [
        "<a href=\"https://colab.research.google.com/github/anmolsabharwal/RedDevils/blob/master/RD_Class.ipynb\" target=\"_parent\"><img src=\"https://colab.research.google.com/assets/colab-badge.svg\" alt=\"Open In Colab\"/></a>"
      ]
    },
    {
      "cell_type": "markdown",
      "metadata": {
        "id": "ev4ZpQcCSJ7w",
        "colab_type": "text"
      },
      "source": [
        "**Importing Main Libraries**"
      ]
    },
    {
      "cell_type": "code",
      "metadata": {
        "id": "jokLuNmAJg4B",
        "colab_type": "code",
        "colab": {
          "base_uri": "https://localhost:8080/",
          "height": 88
        },
        "outputId": "c87413d0-7263-449e-a58a-75d7dc165395"
      },
      "source": [
        "#importing Important libraries\n",
        "import matplotlib.pyplot as plt\n",
        "import numpy as np\n",
        "import pandas as pd\n",
        "import seaborn as sns\n",
        "import sqlite3\n",
        "from google.colab import drive\n",
        "import datetime\n",
        "import plotly.figure_factory as ff\n",
        " \n",
        " \n",
        "drive.mount('/content/drive')\n",
        "%matplotlib inline"
      ],
      "execution_count": null,
      "outputs": [
        {
          "output_type": "stream",
          "text": [
            "/usr/local/lib/python3.6/dist-packages/statsmodels/tools/_testing.py:19: FutureWarning: pandas.util.testing is deprecated. Use the functions in the public API at pandas.testing instead.\n",
            "  import pandas.util.testing as tm\n"
          ],
          "name": "stderr"
        },
        {
          "output_type": "stream",
          "text": [
            "Drive already mounted at /content/drive; to attempt to forcibly remount, call drive.mount(\"/content/drive\", force_remount=True).\n"
          ],
          "name": "stdout"
        }
      ]
    },
    {
      "cell_type": "markdown",
      "metadata": {
        "id": "J0J1q683Sb0I",
        "colab_type": "text"
      },
      "source": [
        "***Establishing connection to .db file ***"
      ]
    },
    {
      "cell_type": "code",
      "metadata": {
        "id": "5kxHnUuMm3ZK",
        "colab_type": "code",
        "colab": {}
      },
      "source": [
        "#connection to .db file\n",
        "gws = sqlite3.connect('/content/drive/My Drive/fpl.db')\n",
        "gws = pd.read_sql_query(\"SELECT * FROM gw\",gws)\n",
        "gws.tail()\n"
      ],
      "execution_count": null,
      "outputs": []
    },
    {
      "cell_type": "code",
      "metadata": {
        "id": "i4GgJQ2xrop5",
        "colab_type": "code",
        "colab": {}
      },
      "source": [
        "gws.columns"
      ],
      "execution_count": null,
      "outputs": []
    },
    {
      "cell_type": "markdown",
      "metadata": {
        "id": "KHUEl6szSt97",
        "colab_type": "text"
      },
      "source": [
        "**Converting the datatypes of columns**\n"
      ]
    },
    {
      "cell_type": "code",
      "metadata": {
        "id": "pJY3Dx-Krpvp",
        "colab_type": "code",
        "colab": {}
      },
      "source": [
        "#converting the datatypes of columns\n",
        "gws=gws.astype({'name':'category','assists':int, 'bonus':int, 'bps':int, 'clean_sheets':int,\n",
        "       'creativity':float,'element':int,'goals_conceded':int,\n",
        "       'goals_scored':int, 'ict_index':float, 'influence':float,'minutes':int, 'opponent_team':int, 'own_goals':int,'penalties_missed':int, 'penalties_saved':int,\n",
        "       'red_cards':int, 'round':int, 'saves':int, 'selected':int,\n",
        "        # 'team_a_score':int, 'team_h_score':int,\n",
        "        'threat':float,\n",
        "       'total_points':int, 'transfers_balance':int, 'transfers_in':int, 'transfers_out':int,\n",
        "       'value':int, 'yellow_cards':int,'gw':int})"
      ],
      "execution_count": null,
      "outputs": []
    },
    {
      "cell_type": "markdown",
      "metadata": {
        "id": "xYXTUuyWTB5z",
        "colab_type": "text"
      },
      "source": [
        "**Cheking for null values**\n"
      ]
    },
    {
      "cell_type": "code",
      "metadata": {
        "id": "qNXkkgjsruyD",
        "colab_type": "code",
        "colab": {}
      },
      "source": [
        "# cheking for null values\n",
        "sns.set_style('dark')\n",
        "sns.heatmap(gws.isnull(),yticklabels=False,cbar=False,cmap='inferno')"
      ],
      "execution_count": null,
      "outputs": []
    },
    {
      "cell_type": "markdown",
      "metadata": {
        "id": "YD99zBu8TMyM",
        "colab_type": "text"
      },
      "source": [
        "**Assigning id to each specific player**"
      ]
    },
    {
      "cell_type": "code",
      "metadata": {
        "id": "VqfM-kjprvXY",
        "colab_type": "code",
        "colab": {}
      },
      "source": [
        "#assigning id to each specific player\n",
        "gws = gws.assign(id=(gws['name']).astype('category').cat.codes)\n"
      ],
      "execution_count": null,
      "outputs": []
    },
    {
      "cell_type": "code",
      "metadata": {
        "id": "_NzXQl-37pme",
        "colab_type": "code",
        "colab": {}
      },
      "source": [
        "# gws= gws[gws['minutes'] > 0] \n"
      ],
      "execution_count": null,
      "outputs": []
    },
    {
      "cell_type": "markdown",
      "metadata": {
        "id": "V3frXo9vTZ0_",
        "colab_type": "text"
      },
      "source": [
        "**A function to decide the fixture difficulty ratio based on the position of the opponent team**"
      ]
    },
    {
      "cell_type": "code",
      "metadata": {
        "id": "jRMYVnChr-iN",
        "colab_type": "code",
        "colab": {}
      },
      "source": [
        "# a function to decide the fixture difficulty ratio based on the position of the opponent team\n",
        "def fd(x):\n",
        "  x=int(x)\n",
        "  if x<=6:\n",
        "    return '3'\n",
        "  elif x>6 and x<=14:\n",
        "    return '1'\n",
        "  else:\n",
        "    return '2'"
      ],
      "execution_count": null,
      "outputs": []
    },
    {
      "cell_type": "code",
      "metadata": {
        "id": "o_XGlVhNsEgw",
        "colab_type": "code",
        "colab": {}
      },
      "source": [
        "gws.rename(columns={'opponent_team':'fdr'},inplace=True)\n"
      ],
      "execution_count": null,
      "outputs": []
    },
    {
      "cell_type": "code",
      "metadata": {
        "id": "luHqP_iBsFAC",
        "colab_type": "code",
        "colab": {}
      },
      "source": [
        "gws['fdr']=gws['fdr'].apply(fd).astype(float)\n"
      ],
      "execution_count": null,
      "outputs": []
    },
    {
      "cell_type": "code",
      "metadata": {
        "id": "CIwJtbiksIFH",
        "colab_type": "code",
        "colab": {}
      },
      "source": [
        "gws['kickoff_time']=pd.to_datetime(gws['kickoff_time'])"
      ],
      "execution_count": null,
      "outputs": []
    },
    {
      "cell_type": "code",
      "metadata": {
        "id": "xXI6AHGzsRjP",
        "colab_type": "code",
        "colab": {}
      },
      "source": [
        "gws['kickoff_time'] = gws.kickoff_time.dt.hour\n"
      ],
      "execution_count": null,
      "outputs": []
    },
    {
      "cell_type": "markdown",
      "metadata": {
        "id": "AXngauuWTr37",
        "colab_type": "text"
      },
      "source": [
        "**Divided the kickoff time into 3 categories**\n",
        "\n"
      ]
    },
    {
      "cell_type": "code",
      "metadata": {
        "id": "njFQ9HSWsSCX",
        "colab_type": "code",
        "colab": {}
      },
      "source": [
        "#divind the kickoff time into 3 categories \n",
        "def time(x):\n",
        "  x=int(x)\n",
        "  if x>8 and x<=12:\n",
        "    return '0'\n",
        "  elif x>12 and x<=18:\n",
        "    return '1'\n",
        "  else:\n",
        "    return '2'"
      ],
      "execution_count": null,
      "outputs": []
    },
    {
      "cell_type": "code",
      "metadata": {
        "id": "VoLl-cBJsUf4",
        "colab_type": "code",
        "colab": {}
      },
      "source": [
        "gws['kickoff_time']=gws['kickoff_time'].apply(time).astype(float)\n",
        "gws.head(20)\n"
      ],
      "execution_count": null,
      "outputs": []
    },
    {
      "cell_type": "markdown",
      "metadata": {
        "id": "mVCrZHeFUNCa",
        "colab_type": "text"
      },
      "source": [
        "**Setting up the 'was_home' column to create binary attributes**\n"
      ]
    },
    {
      "cell_type": "code",
      "metadata": {
        "id": "tj65cYYPsmJ1",
        "colab_type": "code",
        "colab": {}
      },
      "source": [
        "# setting up the 'was_home' column to create binary attributes\n",
        "def was_home(a):\n",
        "  if a==\"FALSE\":\n",
        "    #print('Away')\n",
        "    return str('Away')\n",
        "  else:\n",
        "    #print('Home')\n",
        "    return str('Home')"
      ],
      "execution_count": null,
      "outputs": []
    },
    {
      "cell_type": "code",
      "metadata": {
        "id": "t6rexnGzsmun",
        "colab_type": "code",
        "colab": {}
      },
      "source": [
        "gws['home']=gws['was_home'].apply(was_home)"
      ],
      "execution_count": null,
      "outputs": []
    },
    {
      "cell_type": "markdown",
      "metadata": {
        "id": "SHhk77T1UUIh",
        "colab_type": "text"
      },
      "source": [
        "**Feature engineered variables based on Home and away performances of a player for further analysis**"
      ]
    },
    {
      "cell_type": "code",
      "metadata": {
        "id": "G46arJnDfuCq",
        "colab_type": "code",
        "colab": {}
      },
      "source": [
        "gws['Away Points'] = np.where(gws['home'] == 'Home', gws['total_points'] * 0,gws['total_points'])\n",
        "gws['Home Points'] = np.where(gws['home'] == 'Away', gws['total_points'] * 0,gws['total_points'])\n",
        "\n",
        "gws['Away Influence'] = np.where(gws['home'] == 'Home', gws['influence'] * 0,gws['influence'])\n",
        "gws['Home Influence'] = np.where(gws['home'] == 'Away', gws['influence'] * 0,gws['influence'])\n",
        "\n",
        "gws['Away Goals'] = np.where(gws['home'] == 'Home', gws['goals_scored'] * 0,gws['goals_scored'])\n",
        "gws['Home Goals'] = np.where(gws['home'] == 'Away', gws['goals_scored'] * 0,gws['goals_scored'])\n",
        "\n",
        "gws['Away Saves'] = np.where(gws['home'] == 'Home', gws['saves'] * 0,gws['saves'])\n",
        "gws['Home Saves'] = np.where(gws['home'] == 'Away', gws['saves'] * 0,gws['saves'])\n",
        "\n",
        "gws['Away Creativity'] = np.where(gws['home'] == 'Home', gws['creativity'] * 0,gws['creativity'])\n",
        "gws['Home Creativity'] = np.where(gws['home'] == 'Away', gws['creativity'] * 0,gws['creativity'])\n",
        "\n",
        "gws['Away ICT'] = np.where(gws['home'] == 'Home', gws['ict_index'] * 0,gws['ict_index'])\n",
        "gws['Home ICT'] = np.where(gws['home'] == 'Away', gws['ict_index'] * 0,gws['ict_index'])\n",
        "\n",
        "gws['Away Bonus'] = np.where(gws['home'] == 'Home', gws['bonus'] * 0,gws['bonus'])\n",
        "gws['Home Bonus'] = np.where(gws['home'] == 'Away', gws['bonus'] * 0,gws['bonus'])\n",
        "\n",
        "gws['Away Clean Sheets'] = np.where(gws['home'] == 'Home', gws['clean_sheets'] * 0,gws['clean_sheets'])\n",
        "gws['Home Clean Sheets'] = np.where(gws['home'] == 'Away', gws['clean_sheets'] * 0,gws['clean_sheets'])\n",
        "\n",
        "gws['Away Penalties Saved'] = np.where(gws['home'] == 'Home', gws['penalties_saved'] * 0,gws['penalties_saved'])\n",
        "gws['Home Penalties Saved'] = np.where(gws['home'] == 'Away', gws['penalties_saved'] * 0,gws['penalties_saved'])\n",
        "\n",
        "gws['Away Goals Conceded'] = np.where(gws['home'] == 'Home', gws['goals_conceded'] * 0,gws['goals_conceded'])\n",
        "gws['Home Goals Conceded'] = np.where(gws['home'] == 'Away', gws['goals_conceded'] * 0,gws['goals_conceded'])\n",
        "\n",
        "gws['Away Assists'] = np.where(gws['home'] == 'Home', gws['assists'] * 0,gws['assists'])\n",
        "gws['Home Assists'] = np.where(gws['home'] == 'Away', gws['assists'] * 0,gws['assists'])\n",
        "\n",
        "gws.head(20)\n"
      ],
      "execution_count": null,
      "outputs": []
    },
    {
      "cell_type": "markdown",
      "metadata": {
        "id": "WVxuQyuRUkyo",
        "colab_type": "text"
      },
      "source": [
        "**Dropping columns that are not required**\n"
      ]
    },
    {
      "cell_type": "code",
      "metadata": {
        "id": "CmTROvd4sqp3",
        "colab_type": "code",
        "colab": {}
      },
      "source": [
        "#dropping columns that are not required\n",
        "gws.drop(['element','fixture','round','transfers_balance','transfers_in','transfers_out','team_a_score','was_home',\t'team_h_score','round'],axis=1, inplace=True)"
      ],
      "execution_count": null,
      "outputs": []
    },
    {
      "cell_type": "code",
      "metadata": {
        "id": "vpHIjk3AsvhF",
        "colab_type": "code",
        "colab": {}
      },
      "source": [
        "gws['value']=gws['value']*0.1\n",
        "\n"
      ],
      "execution_count": null,
      "outputs": []
    },
    {
      "cell_type": "markdown",
      "metadata": {
        "id": "dyi1i0aSUsrW",
        "colab_type": "text"
      },
      "source": [
        "**A fucntion to put the points into the bins. This is where the business problem is convereted from a regression to a classification problem**\n"
      ]
    },
    {
      "cell_type": "code",
      "metadata": {
        "id": "adwNR9VQs2ev",
        "colab_type": "code",
        "colab": {}
      },
      "source": [
        "# a fucntion to put the points into the bins. This is where the business problem is convereted from a regression to a classification problem\n",
        "def points(x):\n",
        "  if x<=1:\n",
        "    return 1\n",
        "  elif x==2:\n",
        "    return 2\n",
        "  elif x>2 and x<7:\n",
        "    return 3\n",
        "  else:\n",
        "    return 4\n"
      ],
      "execution_count": null,
      "outputs": []
    },
    {
      "cell_type": "code",
      "metadata": {
        "id": "nvqz0McyuH8e",
        "colab_type": "code",
        "colab": {}
      },
      "source": [
        "gws['points']=gws['total_points'].apply(points)\n",
        "gws1=gws.copy()\n",
        "gws1.head()"
      ],
      "execution_count": null,
      "outputs": []
    },
    {
      "cell_type": "code",
      "metadata": {
        "id": "dtUoA0etMNXk",
        "colab_type": "code",
        "colab": {}
      },
      "source": [
        "# point=pd.get_dummies(gws1['points'])\n",
        "# gws1=pd.concat([gws1,point],axis=1)\n",
        "# gws1.head()"
      ],
      "execution_count": null,
      "outputs": []
    },
    {
      "cell_type": "markdown",
      "metadata": {
        "id": "EExfZw4VU0N9",
        "colab_type": "text"
      },
      "source": [
        "**Distribution of each class of the dependent variable**"
      ]
    },
    {
      "cell_type": "code",
      "metadata": {
        "id": "hcWRYNzB8d0b",
        "colab_type": "code",
        "colab": {}
      },
      "source": [
        "sns.countplot(gws1['points'])"
      ],
      "execution_count": null,
      "outputs": []
    },
    {
      "cell_type": "markdown",
      "metadata": {
        "id": "A0JQnN5pU-Gg",
        "colab_type": "text"
      },
      "source": [
        "**Creating lags for different attributes**\n"
      ]
    },
    {
      "cell_type": "code",
      "metadata": {
        "id": "H0q_Fus1uPrk",
        "colab_type": "code",
        "colab": {}
      },
      "source": [
        "#creating lags for different attributes\n",
        "\n",
        "gws1['Last_Week_Points'] = gws1.groupby(['id'])['total_points'].shift().astype(float)\n",
        "# gws1['Last_2_Week_Points'] = gws1.groupby(['id'])['total_points'].shift(2).astype(float)\n",
        "#gws1['Last_3_Week_Points'] = gws1.groupby(['id'])['total_points'].shift(3).astype(float)\n",
        "#gws1['Last_4_Week_Points'] = gws1.groupby(['id'])['total_points'].shift(4).astype(float)\n",
        "\n",
        "\n",
        "\n",
        "gws1['Last_Week_Goals'] = gws1.groupby(['id'])['goals_scored'].shift().astype(float)\n",
        "# gws1['Last_2_Week_Goals'] = gws1.groupby(['id'])['goals_scored'].shift(2).astype(float)\n",
        "#gws1['Last_3_Week_Goals'] = gws1.groupby(['id'])['goals_scored'].shift(3).astype(float)\n",
        "\n",
        "\n",
        "gws1['Last_Week_ICT'] = gws1.groupby(['id'])['ict_index'].shift().astype(float)\n",
        "# gws1['Last_2_Week_ICT'] = gws1.groupby(['id'])['ict_index'].shift(2).astype(float)\n",
        "# #gws1['Last_3_Week_ICT'] = gws1.groupby(['id'])['ict_index'].shift(3).astype(float)\n",
        "\n",
        "\n",
        "gws1['Last_Week_BPS'] = gws1.groupby(['id'])['bps'].shift().astype(float)\n",
        "# gws1['Last_2_Week_BPS'] = gws1.groupby(['id'])['bps'].shift(2).astype(float)\n",
        "#gws1['Last_3_Week_BPS'] = gws1.groupby(['id'])['bps'].shift(3).astype(float)\n",
        "\n",
        "\n",
        "gws1['Last_Week_Assists'] = gws1.groupby(['id'])['assists'].shift().astype(float)\n",
        "# gws1['Last_2_Week_Assists'] = gws1.groupby(['id'])['assists'].shift(2).astype(float)\n",
        "#gws1['Last_3_Week_Assists'] = gws1.groupby(['id'])['assists'].shift(3).astype(float)\n",
        "\n",
        "\n",
        "gws1['Last_Week_Bonus'] = gws1.groupby(['id'])['bonus'].shift().astype(float)\n",
        "# gws1['Last_2_Week_Bonus'] = gws1.groupby(['id'])['bonus'].shift(2).astype(float)\n",
        "#gws1['Last_3_Week_Bonus'] = gws1.groupby(['id'])['bonus'].shift(3).astype(float)\n",
        "\n",
        "\n",
        "gws1['Last_Week_Influence'] = gws1.groupby(['id'])['influence'].shift().astype(float)\n",
        "# gws1['Last_2_Week_Influence'] = gws1.groupby(['id'])['influence'].shift(2).astype(float)\n",
        "#gws1['Last_3_Week_Influence'] = gws1.groupby(['id'])['influence'].shift(3).astype(float)\n",
        "\n",
        "\n",
        "gws1['Last_Week_Minutes_Played'] = gws1.groupby(['id'])['minutes'].shift().astype(float)\n",
        "# gws1['Last_2_Week_Minutes_Played'] = gws1.groupby(['id'])['minutes'].shift(2).astype(float)\n",
        "#gws1['Last_3_Week_Minutes_Played'] = gws1.groupby(['id'])['minutes'].shift(3).astype(float)\n",
        "\n",
        "\n",
        "gws1['Last_Week_Threat'] = gws1.groupby(['id'])['threat'].shift().astype(float)\n",
        "# gws1['Last_2_Week_Threat'] = gws1.groupby(['id'])['threat'].shift(2).astype(float)\n",
        "# #gws1['Last_3_Week_Threat'] = gws1.groupby(['id'])['threat'].shift(3).astype(float)\n",
        "\n",
        "\n",
        "gws1['Last_Week_Selected'] = gws1.groupby(['id'])['selected'].shift().astype(float)\n",
        "# gws1['Last_2_Week_Selected'] = gws1.groupby(['id'])['selected'].shift(2).astype(float)\n",
        "#gws1['Last_3_Week_Selected'] = gws1.groupby(['id'])['selected'].shift(3).astype(float)\n",
        "\n",
        "\n",
        "gws1['Last_Week_Value'] = gws1.groupby(['id'])['value'].shift().astype(float)\n",
        "# gws1['Last_2_Week_Value'] = gws1.groupby(['id'])['value'].shift(2).astype(float)\n",
        "# gws1['Last_3_Week_Value'] = gws1.groupby(['id'])['value'].shift(3).astype(float)\n",
        "\n",
        "\n",
        "gws1['Last_Week_Creativity'] = gws1.groupby(['id'])['creativity'].shift().astype(float)\n",
        "# gws1['Last_2_Week_Creativity'] = gws1.groupby(['id'])['creativity'].shift(2).astype(float)\n",
        "# #gws1['Last_3_Week_Creativity'] = gws1.groupby(['id'])['creativity'].shift(3).astype(float)\n",
        "\n",
        "\n",
        "\n",
        "gws1['Last_Week_FDR'] = gws1.groupby(['id'])['fdr'].shift().astype(float).astype(float)\n",
        "# gws1['Last_2_Week_FDR'] = gws1.groupby(['id'])['fdr'].shift(2).astype(float).astype(float)\n",
        "# gws1['Last_3_Week_FDR'] = gws1.groupby(['id'])['fdr'].shift(3).astype(float).astype(float)\n",
        "\n",
        "\n",
        "gws1['Last_Week_Clean_Sheets'] = gws1.groupby(['id'])['clean_sheets'].shift().astype(float)\n",
        "# gws1['Last_2_Week_Clean_Sheets'] = gws1.groupby(['id'])['clean_sheets'].shift(2).astype(float)\n",
        "#gws1['Last_3_Week_Clean_Sheets'] = gws1.groupby(['id'])['clean_sheets'].shift(3).astype(float)\n",
        "\n",
        "\n",
        "gws1['Last_Week_Goals_Conceded'] = gws1.groupby(['id'])['goals_conceded'].shift().astype(float)\n",
        "# gws1['Last_2_Week_Goals_Conceded'] = gws1.groupby(['id'])['goals_conceded'].shift(2).astype(float)\n",
        "#gws1['Last_3_Week_Goals_Conceded'] = gws1.groupby(['id'])['goals_conceded'].shift(3).astype(float)\n",
        "\n",
        "\n",
        "# gws1['Last_Week_Kickoff_Time'] = gws1.groupby(['id'])['kickoff_time'].shift().astype(float)\n",
        "# gws1['Last_2_Week_Kickoff_Time'] = gws1.groupby(['id'])['kickoff_time'].shift(2).astype(float)\n",
        "# gws1['Last_3_Week_Kickoff_Time'] = gws1.groupby(['id'])['kickoff_time'].shift(3).astype(float)\n",
        "\n",
        "\n",
        "gws1['Last_Week_Own_Goals'] = gws1.groupby(['id'])['own_goals'].shift().astype(float)\n",
        "# gws1['Last_2_Week_Own_Goals'] = gws1.groupby(['id'])['own_goals'].shift(2).astype(float)\n",
        "# gws1['Last_3_Week_Own_Goals'] = gws1.groupby(['id'])['own_goals'].shift(3).astype(float)\n",
        "\n",
        "\n",
        "gws1['Last_Week_Penalties_Missed'] = gws1.groupby(['id'])['penalties_missed'].shift().astype(float)\n",
        "# gws1['Last_2_Week_Penalties_Missed'] = gws1.groupby(['id'])['penalties_missed'].shift(2).astype(float)\n",
        "# gws1['Last_3_Week_Penalties_Saved'] = gws1.groupby(['id'])['penalties_saved'].shift(3).astype(float)\n",
        "\n",
        "\n",
        "gws1['Last_Week_Penalties_Saved'] = gws1.groupby(['id'])['penalties_saved'].shift().astype(float)\n",
        "# gws1['Last_2_Week_Penalties_Saved'] = gws1.groupby(['id'])['penalties_saved'].shift(2).astype(float)\n",
        "\n",
        "\n",
        "gws1['Last_Week_Red_Cards'] = gws1.groupby(['id'])['red_cards'].shift().astype(float)\n",
        "# gws1['Last_2_Week_Red_Cards'] = gws1.groupby(['id'])['red_cards'].shift(2).astype(float)\n",
        "# gws1['Last_3_Week_Red_Cards'] = gws1.groupby(['id'])['red_cards'].shift(3).astype(float)\n",
        "\n",
        "\n",
        "gws1['Last_Week_Saves'] = gws1.groupby(['id'])['saves'].shift()\n",
        "# gws1['Last_2_Week_Saves'] = gws1.groupby(['id'])['saves'].shift(2)\n",
        "#gws1['Last_3_Week_Saves'] = gws1.groupby(['id'])['saves'].shift(3)\n",
        "\n",
        "\n",
        "gws1['Last_Week_Yellow_Cards'] = gws1.groupby(['id'])['yellow_cards'].shift()\n",
        "# gws1['Last_2_Week_Yellow_Cards'] = gws1.groupby(['id'])['yellow_cards'].shift(2)\n",
        "# gws1['Last_3_Week_Yellow_Cards'] = gws1.groupby(['id'])['yellow_cards'].shift(3)\n",
        "\n",
        "\n",
        "# gws1['Last_Week_Home'] = gws1.groupby(['id'])['home'].shift()\n",
        "# gws1['Last_2_Week_Home'] = gws1.groupby(['id'])['home'].shift(2)\n",
        "# gws1['Last_3_Week_Home'] = gws1.groupby(['id'])['home'].shift(3)\n",
        "\n",
        "\n",
        "gws1.head(100)\n"
      ],
      "execution_count": null,
      "outputs": []
    },
    {
      "cell_type": "markdown",
      "metadata": {
        "id": "R9_uOJi9VGcB",
        "colab_type": "text"
      },
      "source": [
        "**Creating binary attributes for was_home**\n"
      ]
    },
    {
      "cell_type": "code",
      "metadata": {
        "id": "KD_VRhLlu7LV",
        "colab_type": "code",
        "colab": {}
      },
      "source": [
        "#creating binary attributes for was_home\n",
        "\n",
        "home=pd.get_dummies(gws1['home'])\n",
        "gws1=pd.concat([gws1,home],axis=1)\n",
        "gws1.head()\n"
      ],
      "execution_count": null,
      "outputs": []
    },
    {
      "cell_type": "markdown",
      "metadata": {
        "id": "tPw_j-2dWOSy",
        "colab_type": "text"
      },
      "source": [
        "**Feature engineered a number of variables to better define the dependent variable**\n"
      ]
    },
    {
      "cell_type": "code",
      "metadata": {
        "id": "X9Kp5Tyku73H",
        "colab_type": "code",
        "colab": {}
      },
      "source": [
        "#feature engineered a number of variables to better define the dependent variable\n",
        "window=10\n",
        "\n",
        "hpm =gws1.groupby('id',as_index=False)['Home Points'].rolling(window=window).sum().shift(1)\n",
        "gws1[\"Home Points Form\"] = hpm.reset_index(level=0, drop=True)\n",
        "\n",
        "apm =gws1.groupby('id',as_index=False)['Away Points'].rolling(window=window).sum().shift(1)\n",
        "gws1[\"Away Points Form\"] = apm.reset_index(level=0, drop=True)\n",
        "\n",
        "ppm =gws1.groupby('id',as_index=False)['total_points'].expanding().sum()/gws1.groupby('id',as_index=False)['minutes'].expanding().sum()*90\n",
        "gws1[\"Points_90\"] = ppm.reset_index(level=0, drop=True)\n",
        "\n",
        "vm =gws1.groupby('id',as_index=False)['value'].expanding().sum()/gws1.groupby('id',as_index=False)['total_points'].expanding().sum()*90\n",
        "gws1[\"Value_Point\"] = vm.reset_index(level=0, drop=True)\n",
        "\n",
        "apm =gws1.groupby('id',as_index=False)['assists'].expanding().sum()/gws1.groupby('id',as_index=False)['minutes'].expanding().sum()\n",
        "gws1[\"Assists per Min\"] = apm.reset_index(level=0, drop=True)\n",
        "\n",
        "gpm =gws1.groupby('id',as_index=False)['goals_scored'].expanding().sum()/gws1.groupby('id',as_index=False)['minutes'].expanding().sum()*90\n",
        "gws1[\"Goals_90\"] = gpm.reset_index(level=0, drop=True)\n",
        "\n",
        "ipm =gws1.groupby('id',as_index=False)['influence'].expanding().sum()/gws1.groupby('id',as_index=False)['minutes'].expanding().sum()*90\n",
        "gws1[\"Influence_90\"] = ipm.reset_index(level=0, drop=True)\n",
        "\n",
        "bpm =gws1.groupby('id',as_index=False)['bps'].expanding().sum()/gws1.groupby('id',as_index=False)['minutes'].expanding().sum()*90\n",
        "gws1[\"BPS_90\"] = ipm.reset_index(level=0, drop=True)\n",
        "\n",
        "ih =gws1.groupby('id',as_index=False)['Home Influence'].rolling(window=window).sum().shift(1)\n",
        "gws1[\"Home Influence Form\"] = ih.reset_index(level=0, drop=True)\n",
        "\n",
        "ah =gws1.groupby('id',as_index=False)['Away Influence'].rolling(window=window).sum().shift(1)\n",
        "gws1[\"Away Influence Form\"] = ah.reset_index(level=0, drop=True)\n",
        "\n",
        "hg =gws1.groupby('id',as_index=False)['Home Goals'].rolling(window=window).sum().shift(1)\n",
        "gws1[\"Home Goals Form\"] = hg.reset_index(level=0, drop=True)\n",
        "\n",
        "ag =gws1.groupby('id',as_index=False)['Away Goals'].rolling(window=window).sum().shift(1)\n",
        "gws1[\"Away Goals Form\"] = hg.reset_index(level=0, drop=True)\n",
        "\n",
        "\n",
        "gs =gws1.groupby('id',as_index=False)['goals_scored'].rolling(window=window).sum().shift(1)\n",
        "gws1[\"Goals Form\"] = gs.reset_index(level=0, drop=True)\n",
        "\n",
        "ag =gws1.groupby('id',as_index=False)['clean_sheets'].expanding().sum()/gws1.groupby('id',as_index=False)['minutes'].expanding().sum()\n",
        "gws1[\"Clean Sheets per Min\"] = ag.reset_index(level=0, drop=True)\n",
        "\n",
        "cs =gws1.groupby('id',as_index=False)['total_points'].expanding().sum()/gws1.groupby('id',as_index=False)['minutes'].expanding().sum()\n",
        "gws1[\"Points Per Min\"] = cs.reset_index(level=0, drop=True)\n",
        "\n",
        "gc =gws1.groupby('id',as_index=False)['goals_conceded'].expanding().sum()/gws1.groupby('id',as_index=False)['minutes'].expanding().sum()\n",
        "gws1[\"Goals Conceded Per Min\"] = gc.reset_index(level=0, drop=True)\n",
        "\n",
        "s =gws1.groupby('id',as_index=False)['saves'].expanding().sum()/gws1.groupby('id',as_index=False)['minutes'].expanding().sum()\n",
        "gws1[\"Save per min\"] = s.reset_index(level=0, drop=True)\n",
        "\n",
        "sh =gws1.groupby('id',as_index=False)['Home Saves'].rolling(window=window).sum().shift(1)\n",
        "gws1[\"Home Saves Form\"] = sh.reset_index(level=0, drop=True)\n",
        "\n",
        "sa =gws1.groupby('id',as_index=False)['Away Saves'].rolling(window=window).sum().shift(1)\n",
        "gws1[\"Away Saves Form\"] = sa.reset_index(level=0, drop=True)\n",
        "\n",
        "sf =gws1.groupby('id',as_index=False)['saves'].rolling(window=window).sum().shift(1)\n",
        "gws1[\"Saves Form\"] = sf.reset_index(level=0, drop=True)\n",
        "\n",
        "mp =gws1.groupby('id',as_index=False)['minutes'].rolling(window=window).sum().shift(1)\n",
        "gws1[\"Minutes Form\"] = mp.reset_index(level=0, drop=True)\n",
        "\n",
        "ch =gws1.groupby('id',as_index=False)['Home Creativity'].rolling(window=window).sum().shift(1)\n",
        "gws1[\"Home Creativity Form\"] = ch.reset_index(level=0, drop=True)\n",
        "\n",
        "ca =gws1.groupby('id',as_index=False)['Away Creativity'].rolling(window=window).sum().shift(1)\n",
        "gws1[\"Away Creativity Form\"] = ca.reset_index(level=0, drop=True)\n",
        "\n",
        "csh =gws1.groupby('id',as_index=False)['Home Clean Sheets'].rolling(window=window).sum().shift(1)\n",
        "gws1[\" Home Clean Sheets Form\"] = csh.reset_index(level=0, drop=True)\n",
        "\n",
        "csa =gws1.groupby('id',as_index=False)['Away Clean Sheets'].rolling(window=window).sum().shift(1)\n",
        "gws1[\"Away Clean Sheets Form\"] = csa.reset_index(level=0, drop=True)\n",
        "\n",
        "cs =gws1.groupby('id',as_index=False)['clean_sheets'].rolling(window=window).sum().shift(1)\n",
        "gws1[\"Clean Sheets Form\"] = cs.reset_index(level=0, drop=True)\n",
        "\n",
        "bph =gws1.groupby('id',as_index=False)['Home Bonus'].rolling(window=window).sum().shift(1)\n",
        "gws1['Home Bonus Form'] = bph.reset_index(level=0, drop=True)\n",
        "\n",
        "bp =gws1.groupby('id',as_index=False)['bonus'].rolling(window=window).sum().shift(1)\n",
        "gws1['Bonus Form'] = bp.reset_index(level=0, drop=True)\n",
        "\n",
        "bpa =gws1.groupby('id',as_index=False)['Away Bonus'].rolling(window=window).sum().shift(1)\n",
        "gws1[\"Away Bonus Form\"] = bpa.reset_index(level=0, drop=True)\n",
        "\n",
        "icth =gws1.groupby('id',as_index=False)['Home ICT'].rolling(window=window).sum().shift(1)\n",
        "gws1['Home ICT Form'] = icth.reset_index(level=0, drop=True)\n",
        "\n",
        "icta =gws1.groupby('id',as_index=False)['Away ICT'].rolling(window=window).sum().shift(1)\n",
        "gws1[\"Away ICT Form\"] = icta.reset_index(level=0, drop=True)\n",
        "\n",
        "\n",
        "ict =gws1.groupby('id',as_index=False)['ict_index'].rolling(window=window).sum().shift(1)\n",
        "gws1[\"ICT Form\"] = ict.reset_index(level=0, drop=True)\n",
        "\n",
        "ah =gws1.groupby('id',as_index=False)['Home Assists'].rolling(window=window).sum().shift(1)\n",
        "gws1['Home Assists Form'] = ah.reset_index(level=0, drop=True)\n",
        "\n",
        "aa =gws1.groupby('id',as_index=False)['Away Assists'].rolling(window=window).sum().shift(1)\n",
        "gws1[\"Away Assists Form\"] = aa.reset_index(level=0, drop=True)\n",
        "\n",
        "ast =gws1.groupby('id',as_index=False)['assists'].rolling(window=window).sum().shift(1)\n",
        "gws1[\"Assists Form\"] = ast.reset_index(level=0, drop=True)\n",
        "\n",
        "# ms =gws1.groupby('id',as_index=False)['minutes'+0.0000001].expanding().sum()/gws1.groupby('id',as_index=False)['saves'+0.0000001].expanding().sum()\n",
        "# gws1[\"Mins Per Save\"] = ms.reset_index(level=0, drop=True)\n",
        "\n",
        "bpss =gws1.groupby('id',as_index=False)['minutes'].expanding().sum()/gws1.groupby('id',as_index=False)['bps'].expanding().sum()\n",
        "gws1[\"Mins Per BPS\"] = bpss.reset_index(level=0, drop=True)\n",
        "\n",
        "gca =gws1.groupby('id',as_index=False)['Away Goals Conceded'].rolling(window=5).sum().shift(1)\n",
        "gws1[\"Away Goals Concecded Form\"] = gca.reset_index(level=0, drop=True)\n",
        "\n",
        "gch =gws1.groupby('id',as_index=False)['Home Goals Conceded'].rolling(window=5).sum().shift(1)\n",
        "gws1[\"Goals Conceded Home\"] = gch.reset_index(level=0, drop=True)\n",
        "\n",
        "gc =gws1.groupby('id',as_index=False)['goals_conceded'].rolling(window=5).sum().shift(1)\n",
        "gws1[\"Goals Conceded Form\"] = gc.reset_index(level=0, drop=True)\n",
        "\n",
        "gcm =gws1.groupby('id',as_index=False)['minutes'].expanding().sum()/gws1.groupby('id',as_index=False)['goals_conceded'].expanding().sum()\n",
        "gws1[\"Mins per Goals Conceded\"] = gcm.reset_index(level=0, drop=True)\n",
        "\n",
        "tp =gws1.groupby('id',as_index=False)['total_points'].rolling(window=window).sum().shift(1)\n",
        "gws1[\"Points Form\"] = tp.reset_index(level=0, drop=True)\n",
        "\n",
        "pm =gws1.groupby('id',as_index=False)['penalties_missed'].rolling(window=window).sum().shift(1)\n",
        "gws1[\"Penalties Missed Form\"] = pm.reset_index(level=0, drop=True)\n",
        "\n",
        "yc =gws1.groupby('id',as_index=False)['yellow_cards'].rolling(window=window).sum().shift(1)\n",
        "gws1[\"Yellow Cards Form\"] = yc.reset_index(level=0, drop=True)\n",
        "\n",
        "rc =gws1.groupby('id',as_index=False)['red_cards'].rolling(window=window).sum().shift(1)\n",
        "gws1[\"Red Cards Form\"] = rc.reset_index(level=0, drop=True)"
      ],
      "execution_count": null,
      "outputs": []
    },
    {
      "cell_type": "code",
      "metadata": {
        "id": "-cA8_I7A2NDw",
        "colab_type": "code",
        "colab": {}
      },
      "source": [
        "# gws1['dummy1']=gws1['goals_scored']\n",
        "# gws1['dummy2']=gws1['clean_sheets']\n"
      ],
      "execution_count": null,
      "outputs": []
    },
    {
      "cell_type": "markdown",
      "metadata": {
        "id": "7o27_TsJWYiS",
        "colab_type": "text"
      },
      "source": [
        "**A function to capture the goal scoring streak of a player**\n",
        "\n",
        "\n",
        "\n"
      ]
    },
    {
      "cell_type": "code",
      "metadata": {
        "id": "esiUGj1LvBbe",
        "colab_type": "code",
        "colab": {}
      },
      "source": [
        "# a function to capture the goal scoring streak of a player\n",
        "def f(df):\n",
        "    df['Goalstreak'] = (df['goals_scored'] > 0).cumsum()\n",
        "    df['cumsum'] = np.nan\n",
        "    df.loc[df['goals_scored'] == 0, 'cumsum'] = df['Goalstreak']\n",
        "    df['cumsum'] = df['cumsum'].fillna(method='ffill')\n",
        "    df['cumsum'] = df['cumsum'].fillna(0)\n",
        "    df['Goal Streak'] = df['Goalstreak'] - df['cumsum']\n",
        "    df.drop(['Goalstreak', 'cumsum'], axis=1, inplace=True)\n",
        "    df['Goal Streak']=df['Goal Streak'].shift(1)\n",
        "    return df\n"
      ],
      "execution_count": null,
      "outputs": []
    },
    {
      "cell_type": "code",
      "metadata": {
        "id": "EQE6JC4-wrWc",
        "colab_type": "code",
        "colab": {}
      },
      "source": [
        "gws1=gws1.groupby('id').apply(f)\n"
      ],
      "execution_count": null,
      "outputs": []
    },
    {
      "cell_type": "markdown",
      "metadata": {
        "id": "U_39fRbTWgxh",
        "colab_type": "text"
      },
      "source": [
        "**A function to capture the clean sheet streak of a player**\n",
        "\n"
      ]
    },
    {
      "cell_type": "code",
      "metadata": {
        "id": "US9mZQ2lwuXp",
        "colab_type": "code",
        "colab": {}
      },
      "source": [
        "def f2(df):\n",
        "    df['csstreak'] = (df['clean_sheets'] > 0).cumsum()\n",
        "    df['cumsum'] = np.nan\n",
        "    df.loc[df['clean_sheets'] == 0, 'cumsum'] = df['csstreak']\n",
        "    df['cumsum'] = df['cumsum'].fillna(method='ffill')\n",
        "    df['cumsum'] = df['cumsum'].fillna(0)\n",
        "    df['Clean Sheet Streak'] = df['csstreak'] - df['cumsum']\n",
        "    df.drop(['csstreak', 'cumsum'], axis=1, inplace=True)\n",
        "    df['Clean Sheet Streak']=df['Clean Sheet Streak'].shift(1)\n",
        "    return df\n"
      ],
      "execution_count": null,
      "outputs": []
    },
    {
      "cell_type": "code",
      "metadata": {
        "id": "68tCCWEmw9Qt",
        "colab_type": "code",
        "colab": {}
      },
      "source": [
        "gws1=gws1.groupby('id').apply(f2)"
      ],
      "execution_count": null,
      "outputs": []
    },
    {
      "cell_type": "markdown",
      "metadata": {
        "id": "Ju3922aIWsGs",
        "colab_type": "text"
      },
      "source": [
        "**A function to capture the penalty Saving streak of a player**\n",
        "\n"
      ]
    },
    {
      "cell_type": "code",
      "metadata": {
        "id": "zG4o97zvQ3C0",
        "colab_type": "code",
        "colab": {}
      },
      "source": [
        "def f3(df):\n",
        "    df['psstreak'] = (df['penalties_saved'] > 0).cumsum()\n",
        "    df['cumsum'] = np.nan\n",
        "    df.loc[df['penalties_saved'] == 0, 'cumsum'] = df['psstreak']\n",
        "    df['cumsum'] = df['cumsum'].fillna(method='ffill')\n",
        "    df['cumsum'] = df['cumsum'].fillna(0)\n",
        "    df['Penalty Save Streak'] = df['psstreak'] - df['cumsum']\n",
        "    df.drop(['psstreak', 'cumsum'], axis=1, inplace=True)\n",
        "    df['Penalty Save Streak']=df['Penalty Save Streak'].shift(1)\n",
        "    return df"
      ],
      "execution_count": null,
      "outputs": []
    },
    {
      "cell_type": "code",
      "metadata": {
        "id": "pAqSWHyKRJmG",
        "colab_type": "code",
        "colab": {}
      },
      "source": [
        "gws1=gws1.groupby('id').apply(f3)"
      ],
      "execution_count": null,
      "outputs": []
    },
    {
      "cell_type": "code",
      "metadata": {
        "id": "k5ZEOf4e1p9Z",
        "colab_type": "code",
        "colab": {}
      },
      "source": [
        "# gws1.goals_scored.unique()"
      ],
      "execution_count": null,
      "outputs": []
    },
    {
      "cell_type": "markdown",
      "metadata": {
        "id": "KzrJjFelXfTR",
        "colab_type": "text"
      },
      "source": [
        "**Dropping all the NAn, inf values created because of feature engineering**\n"
      ]
    },
    {
      "cell_type": "code",
      "metadata": {
        "id": "fa4N-dROxDHJ",
        "colab_type": "code",
        "colab": {}
      },
      "source": [
        "#dropping all the NAn, inf values created because of feature engineering\n",
        "gws1=gws1.replace([np.inf, -np.inf], np.nan)\n",
        "\n",
        "gws1=gws1.dropna()\n",
        "gws1.head(200)\n"
      ],
      "execution_count": null,
      "outputs": []
    },
    {
      "cell_type": "markdown",
      "metadata": {
        "id": "JuQnEMzZYMNR",
        "colab_type": "text"
      },
      "source": [
        "**Calculating the correaltion of the different variables with the dependent variable**\n"
      ]
    },
    {
      "cell_type": "code",
      "metadata": {
        "id": "LMXgFO4ZxXry",
        "colab_type": "code",
        "colab": {}
      },
      "source": [
        "#calculating the correaltion of the different variables with the dependent variable\n",
        "c=gws1.corr().abs()\n",
        "cor_target = c['total_points']\n",
        "# relevant_features = cor_target[cor_target>0.3]\n",
        "# relevant_features\n",
        "pd.set_option('display.max_rows', None)\n",
        "cor_target.sort_values(ascending=False)"
      ],
      "execution_count": null,
      "outputs": []
    },
    {
      "cell_type": "code",
      "metadata": {
        "id": "mIhKQCie2-2v",
        "colab_type": "code",
        "colab": {}
      },
      "source": [
        "#variance of each variable\n",
        "gws1.var()"
      ],
      "execution_count": null,
      "outputs": []
    },
    {
      "cell_type": "code",
      "metadata": {
        "id": "XQbiHsJrxlEs",
        "colab_type": "code",
        "colab": {}
      },
      "source": [
        "from sklearn.model_selection import train_test_split,KFold,cross_val_score, RepeatedStratifiedKFold\n",
        "from sklearn.metrics import mean_absolute_error,mean_squared_error, explained_variance_score,r2_score\n",
        "from sklearn.preprocessing import MinMaxScaler, StandardScaler,Binarizer,scale\n",
        "from imblearn.pipeline import Pipeline\n"
      ],
      "execution_count": null,
      "outputs": []
    },
    {
      "cell_type": "code",
      "metadata": {
        "id": "rxUZNC3euFFg",
        "colab_type": "code",
        "colab": {}
      },
      "source": [
        "gws1.columns"
      ],
      "execution_count": null,
      "outputs": []
    },
    {
      "cell_type": "code",
      "metadata": {
        "id": "krdgpGvRxx39",
        "colab_type": "code",
        "colab": {}
      },
      "source": [
        "#importing various other libraries and defining X and y set for testing and training\n",
        "from sklearn.ensemble import RandomForestRegressor, GradientBoostingRegressor,RandomForestClassifier\n",
        "from sklearn.linear_model import LinearRegression,Ridge,Lasso,SGDRegressor, LogisticRegression\n",
        "from sklearn.model_selection import GridSearchCV\n",
        "from sklearn.svm import SVR\n",
        "from lightgbm import LGBMRegressor\n",
        "from collections import Counter\n",
        "import statsmodels.api as sm\n",
        "from sklearn.metrics import accuracy_score\n",
        "from sklearn.model_selection import RepeatedKFold\n",
        "from sklearn.neighbors import KNeighborsClassifier\n",
        "from sklearn.tree import DecisionTreeClassifier\n",
        "from imblearn.over_sampling import SMOTE\n",
        "from sklearn.model_selection import RepeatedStratifiedKFold\n",
        "from sklearn.svm import LinearSVC\n",
        "from sklearn.discriminant_analysis import LinearDiscriminantAnalysis\n",
        "from sklearn.ensemble import RandomForestClassifier\n",
        "from sklearn.ensemble import ExtraTreesClassifier\n",
        "from sklearn.gaussian_process import GaussianProcessClassifier\n",
        "from sklearn.ensemble import BaggingClassifier\n",
        "from imblearn.under_sampling import RandomUnderSampler\n",
        "from xgboost import XGBClassifier\n",
        "from imblearn.ensemble import BalancedBaggingClassifier\n",
        "from imblearn.ensemble import BalancedRandomForestClassifier,EasyEnsembleClassifier\n",
        "from sklearn.metrics import balanced_accuracy_score\n",
        "from sklearn.multiclass import OneVsRestClassifier\n",
        "from sklearn.feature_selection import RFE\n",
        "\n",
        "\n",
        "\n",
        "\n",
        "\n",
        "\n",
        "X=gws1.drop(['name','points','total_points','ict_index','bps','goals_scored','assists','bonus','influence','minutes','threat','value','selected','creativity','own_goals','penalties_missed','penalties_saved','red_cards','yellow_cards','saves','selected','yellow_cards','clean_sheets','goals_conceded','home','id','fdr','points'\n",
        ",'Away Points','Home Points','Away Influence','Home Influence','Away Creativity','Home Creativity','Home Goals','Away Goals','Home Saves','Away Saves','Away ICT','Home ICT','Away Bonus','Home Bonus','Away Clean Sheets','Home Clean Sheets',\n",
        "'Away Penalties Saved','Home Penalties Saved','Away Goals Conceded','Home Goals Conceded','Away Assists','Home Assists'],axis=1)\n",
        "y=gws1['points']\n",
        "\n",
        "\n",
        "\n",
        "\n"
      ],
      "execution_count": null,
      "outputs": []
    },
    {
      "cell_type": "code",
      "metadata": {
        "id": "j1y8YVbrAnI-",
        "colab_type": "code",
        "colab": {}
      },
      "source": [
        "# #dividing the dataset into testing and training data\n",
        "# X_train, X_test, y_train, y_test = train_test_split( X, y, test_size=0.33, random_state=101,stratify=y)\n"
      ],
      "execution_count": null,
      "outputs": []
    },
    {
      "cell_type": "code",
      "metadata": {
        "id": "cy0iXgmjAvSL",
        "colab_type": "code",
        "colab": {}
      },
      "source": [
        "# #since there is a class imbalance, we have undersampled the majority class\n",
        "# from imblearn.under_sampling import NearMiss\n",
        "\n",
        "# # define the undersampling method\n",
        "# undersample = NearMiss(version=1, n_neighbors=3)\n",
        "# # transform the dataset\n",
        "# X_train, y_train = undersample.fit_resample(X_train, y_train)\n",
        "# # summarize the new class distribution\n",
        "# counter = Counter(y_train1)\n",
        "# print(counter)"
      ],
      "execution_count": null,
      "outputs": []
    },
    {
      "cell_type": "code",
      "metadata": {
        "id": "LeKKwZMggMnh",
        "colab_type": "code",
        "colab": {}
      },
      "source": [
        "# sm = SMOTE(random_state=12, ratio = (1.0,1.0,1.0,0.1)\n",
        "# X_train_res, y_train_res = sm.fit_sample(X_train, y_train)\n",
        "# counter = Counter(y_train_res)\n",
        "# print(counter)"
      ],
      "execution_count": null,
      "outputs": []
    },
    {
      "cell_type": "markdown",
      "metadata": {
        "id": "igro-OjgYiby",
        "colab_type": "text"
      },
      "source": [
        "**No of optimum features**"
      ]
    },
    {
      "cell_type": "code",
      "metadata": {
        "id": "9OV3Kow0WigC",
        "colab_type": "code",
        "colab": {}
      },
      "source": [
        "# nof_list=np.arange(1,len(gws1.columns)\n",
        "# )            \n",
        "# high_score=0\n",
        "# #Variable to store the optimum features\n",
        "# nof=0           \n",
        "# score_list =[]\n",
        "# for n in range(len(nof_list)):\n",
        "#     X_train, X_test, y_train, y_test = train_test_split(X,y, test_size = 0.3, random_state = 0)\n",
        "#     model = DecisionTreeClassifier()\n",
        "#     rfe = RFE(model,nof_list[n])\n",
        "#     X_train_rfe = rfe.fit_transform(X_train,y_train)\n",
        "#     X_test_rfe = rfe.transform(X_test)\n",
        "#     model.fit(X_train_rfe,y_train)\n",
        "#     score = model.score(X_test_rfe,y_test)\n",
        "#     score_list.append(score)\n",
        "#     if(score>high_score):\n",
        "#         high_score = score\n",
        "#         nof = nof_list[n]\n",
        "# print(\"Optimum number of features: %d\" %nof)\n",
        "# print(\"Score with %d features: %f\" % (nof, high_score))"
      ],
      "execution_count": null,
      "outputs": []
    },
    {
      "cell_type": "markdown",
      "metadata": {
        "id": "DDua0zDyZElC",
        "colab_type": "text"
      },
      "source": [
        "**Selected Feature names**"
      ]
    },
    {
      "cell_type": "code",
      "metadata": {
        "id": "7TlPKcnmc5SA",
        "colab_type": "code",
        "colab": {}
      },
      "source": [
        "# cols = list(X.columns)\n",
        "# model = RandomForestClassifier()\n",
        "# #Initializing RFE model\n",
        "# rfe = RFE(model, nof)             \n",
        "# #Transforming data using RFE\n",
        "# X_rfe = rfe.fit_transform(X,y)  \n",
        "# #Fitting the data to model\n",
        "# model.fit(X_rfe,y)              \n",
        "# temp = pd.Series(rfe.support_,index = cols)\n",
        "# selected_features_rfe = temp[temp==True].index\n",
        "# print(selected_features_rfe)"
      ],
      "execution_count": null,
      "outputs": []
    },
    {
      "cell_type": "code",
      "metadata": {
        "id": "Gn9PeDV7wiD4",
        "colab_type": "code",
        "colab": {}
      },
      "source": [
        " \n",
        "#using the Boston housing data. \n",
        "#Data gets scaled automatically by sklearn's implementation\n",
        "\n",
        "names = list(X.columns.values)\n",
        " \n",
        "#use linear regression as the model\n",
        "lr = LinearRegression()\n",
        "#rank all features, i.e continue the elimination until the last one\n",
        "rfe = RFE(lr, n_features_to_select=1)\n",
        "rfe.fit(X,y)\n",
        " \n",
        "print (\"Features sorted by their rank:\")\n",
        "print (sorted(zip(map(lambda x: round(x, 4), rfe.ranking_), names)))\n"
      ],
      "execution_count": null,
      "outputs": []
    },
    {
      "cell_type": "markdown",
      "metadata": {
        "id": "QGc_sThkbMUm",
        "colab_type": "text"
      },
      "source": [
        "**Dividing the dataset set into training and testing set and oversampling the minority classes**"
      ]
    },
    {
      "cell_type": "code",
      "metadata": {
        "id": "D2-dZoLddJNd",
        "colab_type": "code",
        "colab": {}
      },
      "source": [
        "# X1=gws1[[\n",
        "#        'Minutes Form',\n",
        "#        'Penalties Missed Form',\n",
        "#        'Red Cards Form', 'Saves Form', 'Yellow Cards Form',\n",
        "#        'Away', 'Home', 'ICT Form',\n",
        "#        'Value_Point', 'Assists per Min','Clean Sheets per Min', 'Points Per Min', 'Goals Conceded Per Min',\n",
        "#        'Save per min', 'Saves Form','Clean Sheets Form', 'Bonus Form',\n",
        "#        'Assists Form','Mins Per BPS',\n",
        "#         'Goals Conceded Form',\n",
        "#        'Mins per Goals Conceded','Goal Streak','Clean Sheet Streak',\n",
        "#        'Penalty Save Streak','Points Form']]\n",
        "X1=gws1[['Clean Sheets per Min', 'Assists per Min', 'Save per min','Goals Conceded Per Min', 'Goals_90', 'Last_Week_Clean_Sheets', 'Penalty Save Streak', 'Last_Week_Red_Cards', 'Last_Week_Penalties_Saved','Last_Week_Goals_Conceded','Last_Week_Goals','Last_Week_Penalties_Missed','Last_Week_Assists','Clean Sheets Form','Last_Week_Saves','Last_Week_Yellow_Cards', 'Away','Last_Week_Value','Goals Conceded Form', 'Home','Red Cards Form', 'Goals Form','Bonus Form','Penalties Missed Form','Points Form','Last_Week_Own_Goals','Away Clean Sheets Form','Points_90','Goal Streak','Last_Week_FDR','Last_Week_Minutes_Played','Away Assists Form','Assists Form', 'Saves Form'), (35, 'Clean Sheet Streak'), (36, 'ICT Form'), (37, 'Away Goals Form'), (38, 'Home Goals Form']]\n",
        "y1=y.astype(int)\n",
        "# smote=SMOTE(sampling_strategy='all')\n",
        "X_train, X_test, y_train, y_test = train_test_split( X1, y1, test_size=0.20, random_state=140,stratify=y)\n",
        "# print(sum(y_train==1))\n",
        "# print(sum(y_train==2))\n",
        "# print(sum(y_train==3))\n",
        "# print(sum(y_train==4))\n",
        "# print(X_train.shape)\n",
        "# X_train,y_train=smote.fit_sample(X_train,y_train)\n",
        "# print(sum(y_train==1))\n",
        "# print(sum(y_train==2))\n",
        "# print(sum(y_train==3))\n",
        "# print(sum(y_train==4))\n",
        "# print(X_train.shape)\n"
      ],
      "execution_count": null,
      "outputs": []
    },
    {
      "cell_type": "markdown",
      "metadata": {
        "id": "MD3VovjFblAc",
        "colab_type": "text"
      },
      "source": [
        "**Scaling the values**"
      ]
    },
    {
      "cell_type": "code",
      "metadata": {
        "id": "gZsX-dwE58u8",
        "colab_type": "code",
        "colab": {}
      },
      "source": [
        "# since we had a lot of attributes we decided the reduce it using PCA and scaled it\n",
        "scaler= StandardScaler()\n",
        "X_train=scaler.fit_transform(X_train)\n",
        "X_test=scaler.transform(X_test)\n",
        "# from sklearn.decomposition import PCA\n",
        "# pca = PCA(0.90)\n",
        "# pca.fit_transform(X_train)\n",
        "# X_train=pca.transform(X_train)\n",
        "# X_test=pca.transform(X_test)\n",
        "\n"
      ],
      "execution_count": null,
      "outputs": []
    },
    {
      "cell_type": "markdown",
      "metadata": {
        "id": "VfeyZmeVbqHF",
        "colab_type": "text"
      },
      "source": [
        "**Hyper parameter tuning of logistic regression**"
      ]
    },
    {
      "cell_type": "code",
      "metadata": {
        "id": "tMbaqhyhGae2",
        "colab_type": "code",
        "colab": {}
      },
      "source": [
        "# #hyper parameter tuning\n",
        "# model=LogisticRegression()\n",
        "# solvers = ['newton-cg', 'lbfgs']\n",
        "# penalty = ['l2']\n",
        "# c_values = [100, 10, 1.0, 0.1, 0.01]\n",
        "# # define grid search\n",
        "# grid = dict(solver=solvers,penalty=penalty,C=c_values)\n",
        "# cv = RepeatedStratifiedKFold(n_splits=10, n_repeats=3, random_state=1)\n",
        "# grid_search = GridSearchCV(estimator=model, param_grid=grid, n_jobs=-1, cv=cv, scoring='accuracy',error_score=0)\n",
        "# grid_result = grid_search.fit(X_train, y_train)\n",
        "# # summarize results\n",
        "# print(\"Best: %f using %s\" % (grid_result.best_score_, grid_result.best_params_))\n",
        "# means = grid_result.cv_results_['mean_test_score']\n",
        "# stds = grid_result.cv_results_['std_test_score']\n",
        "# params = grid_result.cv_results_['params']\n",
        "# for mean, stdev, param in zip(means, stds, params):\n",
        "#     print(\"%f (%f) with: %r\" % (mean, stdev, param))"
      ],
      "execution_count": null,
      "outputs": []
    },
    {
      "cell_type": "markdown",
      "metadata": {
        "id": "rUTIFpiKb1L9",
        "colab_type": "text"
      },
      "source": [
        "**Hyper Parameter tuning of KNN**"
      ]
    },
    {
      "cell_type": "code",
      "metadata": {
        "id": "P4DCZT1kAtNw",
        "colab_type": "code",
        "colab": {}
      },
      "source": [
        "# List Hyperparameters that we want to tune.\n",
        "# leaf_size = list(range(1,50))\n",
        "# n_neighbors = list(range(1,30))\n",
        "# p=[1,2]\n",
        "# #Convert to dictionary\n",
        "# hyperparameters = dict(leaf_size=leaf_size, n_neighbors=n_neighbors, p=p)\n",
        "# #Create new KNN object\n",
        "# knn_2 = KNeighborsClassifier()\n",
        "# #Use GridSearch\n",
        "# clf = GridSearchCV(knn_2, hyperparameters, cv=10)\n",
        "# #Fit the model\n",
        "# best_model = clf.fit(X,y)\n",
        "# #Print The value of best Hyperparameters\n",
        "# print('Best leaf_size:', best_model.best_estimator_.get_params()['leaf_size'])\n",
        "# print('Best p:', best_model.best_estimator_.get_params()['p'])\n",
        "# print('Best n_neighbors:', best_model.best_estimator_.get_params()['n_neighbors'])"
      ],
      "execution_count": null,
      "outputs": []
    },
    {
      "cell_type": "markdown",
      "metadata": {
        "id": "ze9a702ZcFP1",
        "colab_type": "text"
      },
      "source": [
        "**Hyper parameter tuning of Extra Gradient Boosting**"
      ]
    },
    {
      "cell_type": "code",
      "metadata": {
        "id": "XHkOEOKxArBo",
        "colab_type": "code",
        "colab": {}
      },
      "source": [
        "# model = XGBClassifier()\n",
        "# # define grid\n",
        "# weights = [1, 10,15,20, 25,30,35]\n",
        "# param_grid = dict(scale_pos_weight=weights)\n",
        "# # define evaluation procedure\n",
        "# cv = RepeatedStratifiedKFold(n_splits=10, n_repeats=3, random_state=1)\n",
        "# # define grid search\n",
        "# grid = GridSearchCV(estimator=model, param_grid=param_grid, n_jobs=-1, cv=cv, scoring='roc_auc')\n",
        "# # execute the grid search\n",
        "# grid_result = grid.fit(X_train, y_train)\n",
        "# # report the best configuration\n",
        "# print(\"Best: %f using %s\" % (grid_result.best_score_, grid_result.best_params_))\n",
        "# # report all configurations\n",
        "# means = grid_result.cv_results_['mean_test_score']\n",
        "# stds = grid_result.cv_results_['std_test_score']\n",
        "# params = grid_result.cv_results_['params']\n",
        "# for mean, stdev, param in zip(means, stds, params):\n",
        "#     print(\"%f (%f) with: %r\" % (mean, stdev, param))"
      ],
      "execution_count": null,
      "outputs": []
    },
    {
      "cell_type": "code",
      "metadata": {
        "id": "yOaMjjmToRvB",
        "colab_type": "code",
        "colab": {}
      },
      "source": [
        "# #Hypertuning XGBoost\n",
        "\n",
        "# estimator = XGBClassifier(\n",
        "#     objective= 'binary:logistic',\n",
        "#     nthread=4,\n",
        "#     seed=42\n",
        "# )\n",
        "\n",
        "# parameters = {\n",
        "#     'max_depth': range (2, 10, 1),\n",
        "#     'n_estimators': range(60, 220, 40),\n",
        "#     'learning_rate': [0.1, 0.01, 0.05]\n",
        "# }\n",
        "\n",
        "# grid_search = GridSearchCV(\n",
        "#     estimator=estimator,\n",
        "#     param_grid=parameters,\n",
        "#     scoring = 'roc_auc',\n",
        "#     n_jobs = 10,\n",
        "#     cv = 10,\n",
        "#     verbose=True\n",
        "# )\n",
        "\n",
        "# grid_search.fit(X_train, y_train)\n",
        "# grid_search.best_estimator_\n"
      ],
      "execution_count": null,
      "outputs": []
    },
    {
      "cell_type": "markdown",
      "metadata": {
        "id": "gy3bsjVrcP5_",
        "colab_type": "text"
      },
      "source": [
        "**Fitting the model with Cross Validation to avoid overfitting**"
      ]
    },
    {
      "cell_type": "code",
      "metadata": {
        "id": "e29ZMC7WAmW-",
        "colab_type": "code",
        "colab": {
          "base_uri": "https://localhost:8080/",
          "height": 1000
        },
        "outputId": "8dd039f9-4de1-4030-a2dd-486febe44049"
      },
      "source": [
        "from imblearn.combine import SMOTEENN\n",
        "from sklearn.svm import SVC\n",
        "from sklearn.utils import class_weight\n",
        "# Observe how I imported Pipeline from IMBLEARN and not SKLEARN\n",
        "from imblearn.pipeline import Pipeline\n",
        "from sklearn.multiclass import OneVsRestClassifier\n",
        "from imblearn.pipeline import Pipeline, make_pipeline\n",
        "\n",
        "kf = KFold(n_splits=5, random_state=42, shuffle=False)\n",
        "\n",
        "params = {\n",
        "    'n_estimators': [100, 200,300],\n",
        "    'max_depth': [10, 12],\n",
        "    'random_state': [11]\n",
        "}\n",
        "imba_pipeline = make_pipeline(SMOTE(random_state=42,sampling_strategy='all'), RandomForestClassifier(n_estimators=100, random_state=13))\n",
        "cross_val_score(imba_pipeline, X_train, y_train, scoring='accuracy', cv=kf)\n",
        "\n",
        "new_params = {'randomforestclassifier__' + key: params[key] for key in params}\n",
        "ovr = GridSearchCV(imba_pipeline, param_grid=new_params, cv=kf, scoring='accuracy',\n",
        "                        return_train_score=True)\n",
        "ovr.fit(X_train, y_train);\n",
        "\n",
        "# This pipeline will resample the data and  \n",
        "# pass the output to MultinomialNB\n",
        "# pipe = Pipeline([('sampl', SMOTEENN()), \n",
        "#                  ('clf', LogisticRegression(max_iter=5000,class_weight='balanced'))])\n",
        "\n",
        "# OVR will transform the `y` as you know and \n",
        "# then pass single label data to different copies of pipe \n",
        "# multiple times (as many labels in data)\n",
        "# ovr = RandomForestClassifier()\n",
        "# # ovr=SVC(decision_function_shape='ovr')\n",
        "# cv = RepeatedStratifiedKFold(n_splits=5, n_repeats=3, random_state=1)\n",
        "# # evaluate model\n",
        "# scores = cross_val_score(ovr, X_train, y_train, scoring='accuracy', cv=cv, n_jobs=-1)\n",
        "# print(scores)\n",
        "# # summarize performance\n",
        "# print('Accuracy: %.3f' % np.mean(scores))\n",
        "# ovr.fit(X_train, y_train)\n",
        "\n",
        "\n"
      ],
      "execution_count": null,
      "outputs": [
        {
          "output_type": "stream",
          "text": [
            "/usr/local/lib/python3.6/dist-packages/sklearn/model_selection/_split.py:296: FutureWarning:\n",
            "\n",
            "Setting a random_state has no effect since shuffle is False. This will raise an error in 0.24. You should leave random_state to its default (None), or set shuffle=True.\n",
            "\n",
            "/usr/local/lib/python3.6/dist-packages/sklearn/utils/deprecation.py:87: FutureWarning:\n",
            "\n",
            "Function safe_indexing is deprecated; safe_indexing is deprecated in version 0.22 and will be removed in version 0.24.\n",
            "\n",
            "/usr/local/lib/python3.6/dist-packages/sklearn/utils/deprecation.py:87: FutureWarning:\n",
            "\n",
            "Function safe_indexing is deprecated; safe_indexing is deprecated in version 0.22 and will be removed in version 0.24.\n",
            "\n",
            "/usr/local/lib/python3.6/dist-packages/sklearn/utils/deprecation.py:87: FutureWarning:\n",
            "\n",
            "Function safe_indexing is deprecated; safe_indexing is deprecated in version 0.22 and will be removed in version 0.24.\n",
            "\n",
            "/usr/local/lib/python3.6/dist-packages/sklearn/utils/deprecation.py:87: FutureWarning:\n",
            "\n",
            "Function safe_indexing is deprecated; safe_indexing is deprecated in version 0.22 and will be removed in version 0.24.\n",
            "\n",
            "/usr/local/lib/python3.6/dist-packages/sklearn/utils/deprecation.py:87: FutureWarning:\n",
            "\n",
            "Function safe_indexing is deprecated; safe_indexing is deprecated in version 0.22 and will be removed in version 0.24.\n",
            "\n",
            "/usr/local/lib/python3.6/dist-packages/sklearn/utils/deprecation.py:87: FutureWarning:\n",
            "\n",
            "Function safe_indexing is deprecated; safe_indexing is deprecated in version 0.22 and will be removed in version 0.24.\n",
            "\n",
            "/usr/local/lib/python3.6/dist-packages/sklearn/utils/deprecation.py:87: FutureWarning:\n",
            "\n",
            "Function safe_indexing is deprecated; safe_indexing is deprecated in version 0.22 and will be removed in version 0.24.\n",
            "\n",
            "/usr/local/lib/python3.6/dist-packages/sklearn/utils/deprecation.py:87: FutureWarning:\n",
            "\n",
            "Function safe_indexing is deprecated; safe_indexing is deprecated in version 0.22 and will be removed in version 0.24.\n",
            "\n",
            "/usr/local/lib/python3.6/dist-packages/sklearn/utils/deprecation.py:87: FutureWarning:\n",
            "\n",
            "Function safe_indexing is deprecated; safe_indexing is deprecated in version 0.22 and will be removed in version 0.24.\n",
            "\n",
            "/usr/local/lib/python3.6/dist-packages/sklearn/utils/deprecation.py:87: FutureWarning:\n",
            "\n",
            "Function safe_indexing is deprecated; safe_indexing is deprecated in version 0.22 and will be removed in version 0.24.\n",
            "\n",
            "/usr/local/lib/python3.6/dist-packages/sklearn/utils/deprecation.py:87: FutureWarning:\n",
            "\n",
            "Function safe_indexing is deprecated; safe_indexing is deprecated in version 0.22 and will be removed in version 0.24.\n",
            "\n",
            "/usr/local/lib/python3.6/dist-packages/sklearn/utils/deprecation.py:87: FutureWarning:\n",
            "\n",
            "Function safe_indexing is deprecated; safe_indexing is deprecated in version 0.22 and will be removed in version 0.24.\n",
            "\n",
            "/usr/local/lib/python3.6/dist-packages/sklearn/utils/deprecation.py:87: FutureWarning:\n",
            "\n",
            "Function safe_indexing is deprecated; safe_indexing is deprecated in version 0.22 and will be removed in version 0.24.\n",
            "\n",
            "/usr/local/lib/python3.6/dist-packages/sklearn/utils/deprecation.py:87: FutureWarning:\n",
            "\n",
            "Function safe_indexing is deprecated; safe_indexing is deprecated in version 0.22 and will be removed in version 0.24.\n",
            "\n",
            "/usr/local/lib/python3.6/dist-packages/sklearn/utils/deprecation.py:87: FutureWarning:\n",
            "\n",
            "Function safe_indexing is deprecated; safe_indexing is deprecated in version 0.22 and will be removed in version 0.24.\n",
            "\n",
            "/usr/local/lib/python3.6/dist-packages/sklearn/utils/deprecation.py:87: FutureWarning:\n",
            "\n",
            "Function safe_indexing is deprecated; safe_indexing is deprecated in version 0.22 and will be removed in version 0.24.\n",
            "\n",
            "/usr/local/lib/python3.6/dist-packages/sklearn/utils/deprecation.py:87: FutureWarning:\n",
            "\n",
            "Function safe_indexing is deprecated; safe_indexing is deprecated in version 0.22 and will be removed in version 0.24.\n",
            "\n",
            "/usr/local/lib/python3.6/dist-packages/sklearn/utils/deprecation.py:87: FutureWarning:\n",
            "\n",
            "Function safe_indexing is deprecated; safe_indexing is deprecated in version 0.22 and will be removed in version 0.24.\n",
            "\n",
            "/usr/local/lib/python3.6/dist-packages/sklearn/utils/deprecation.py:87: FutureWarning:\n",
            "\n",
            "Function safe_indexing is deprecated; safe_indexing is deprecated in version 0.22 and will be removed in version 0.24.\n",
            "\n",
            "/usr/local/lib/python3.6/dist-packages/sklearn/utils/deprecation.py:87: FutureWarning:\n",
            "\n",
            "Function safe_indexing is deprecated; safe_indexing is deprecated in version 0.22 and will be removed in version 0.24.\n",
            "\n",
            "/usr/local/lib/python3.6/dist-packages/sklearn/utils/deprecation.py:87: FutureWarning:\n",
            "\n",
            "Function safe_indexing is deprecated; safe_indexing is deprecated in version 0.22 and will be removed in version 0.24.\n",
            "\n"
          ],
          "name": "stderr"
        }
      ]
    },
    {
      "cell_type": "code",
      "metadata": {
        "id": "sHzXvmF5ld6J",
        "colab_type": "code",
        "colab": {
          "base_uri": "https://localhost:8080/",
          "height": 181
        },
        "outputId": "fdfb8169-f736-4b08-f684-aacac0057698"
      },
      "source": [
        "print(ovr.best_params_)\n",
        "print(ovr.best_score_)\n"
      ],
      "execution_count": null,
      "outputs": [
        {
          "output_type": "error",
          "ename": "NameError",
          "evalue": "ignored",
          "traceback": [
            "\u001b[0;31m---------------------------------------------------------------------------\u001b[0m",
            "\u001b[0;31mNameError\u001b[0m                                 Traceback (most recent call last)",
            "\u001b[0;32m<ipython-input-1-c4eec0679954>\u001b[0m in \u001b[0;36m<module>\u001b[0;34m()\u001b[0m\n\u001b[0;32m----> 1\u001b[0;31m \u001b[0mprint\u001b[0m\u001b[0;34m(\u001b[0m\u001b[0movr\u001b[0m\u001b[0;34m.\u001b[0m\u001b[0mbest_params_\u001b[0m\u001b[0;34m)\u001b[0m\u001b[0;34m\u001b[0m\u001b[0;34m\u001b[0m\u001b[0m\n\u001b[0m\u001b[1;32m      2\u001b[0m \u001b[0mprint\u001b[0m\u001b[0;34m(\u001b[0m\u001b[0movr\u001b[0m\u001b[0;34m.\u001b[0m\u001b[0mbest_score_\u001b[0m\u001b[0;34m)\u001b[0m\u001b[0;34m\u001b[0m\u001b[0;34m\u001b[0m\u001b[0m\n",
            "\u001b[0;31mNameError\u001b[0m: name 'ovr' is not defined"
          ]
        }
      ]
    },
    {
      "cell_type": "code",
      "metadata": {
        "id": "vYmQG8jH5v9l",
        "colab_type": "code",
        "colab": {}
      },
      "source": [
        "# #training the model\n",
        "\n",
        "\n",
        "# #model=RandomForestClassifier()\n",
        "# #model=RandomForestRegressor()\n",
        "# #model=KNeighborsClassifier(leaf_size=1,p=2,n_neighbors=8)\n",
        "# #model=LogisticRegression(C=10,solver='newton-cg',penalty='l2',class_weight='balanced')\n",
        "# # model=XGBClassifier(scale_pos_weight=40,base_score=0.5, booster='gbtree', colsample_bylevel=1,\n",
        "# #               colsample_bynode=1, colsample_bytree=1, gamma=0,\n",
        "# #               learning_rate=0.1, max_delta_step=0, max_depth=6,\n",
        "# #               min_child_weight=1, missing=None, n_estimators=180, n_jobs=1,\n",
        "# #               nthread=4, objective='binary:logistic', random_state=0,\n",
        "# #               reg_alpha=0, reg_lambda=1, seed=42,\n",
        "# #               silent=None, subsample=1, verbosity=1)\n",
        "# #model=DecisionTreeClassifier()\n",
        "# #model=Lasso()\n",
        "# #model=Ridge()\n",
        "# #model=LinearRegression()\n",
        "# #model=sm.OLS(X_train,y_train)\n",
        "# #model=SGDRegressor(eta0=0.0001)\n",
        "# model=LogisticRegression(max_iter=5000,class_weight='balanced')\n",
        "# #model1 = BalancedRandomForestClassifier()\n",
        "# #model1 = RandomForestClassifier(class_weight='balanced')\n",
        "# model1= OneVsRestClassifier(model)\n",
        "\n",
        "\n",
        "# # cv = RepeatedStratifiedKFold(n_splits=5, n_repeats=3, random_state=1)\n",
        "# # # evaluate model\n",
        "# # scores = cross_val_score(model1, X_train1, y_train1, scoring='accuracy', cv=cv, n_jobs=-1)\n",
        "# # # summarize performance\n",
        "# # print('Mean ROC AUC: %.3f' % np.mean(scores))\n",
        "\n",
        "# model1.fit(X_train1, y_train)"
      ],
      "execution_count": null,
      "outputs": []
    },
    {
      "cell_type": "markdown",
      "metadata": {
        "id": "gISBueYxcVka",
        "colab_type": "text"
      },
      "source": [
        "**Predicting output for testing set**"
      ]
    },
    {
      "cell_type": "code",
      "metadata": {
        "id": "BMRSdhENBn1z",
        "colab_type": "code",
        "colab": {}
      },
      "source": [
        "#predicting the values \n",
        "# predict=model1.predict(X_test)\n",
        "predict=ovr.predict(X_test)\n",
        "predictp=ovr.predict_proba(X_test)\n"
      ],
      "execution_count": null,
      "outputs": []
    },
    {
      "cell_type": "markdown",
      "metadata": {
        "id": "veVML5u4caj0",
        "colab_type": "text"
      },
      "source": [
        "**Storing the output as well as the probabilities for each prediction in a dataframe**"
      ]
    },
    {
      "cell_type": "code",
      "metadata": {
        "id": "S_PlXmnY1m5C",
        "colab_type": "code",
        "colab": {
          "base_uri": "https://localhost:8080/",
          "height": 1000
        },
        "outputId": "915f1889-e4b8-441e-e77b-b414d13a7daf"
      },
      "source": [
        "# predict = model.predict(X_test)\n",
        "df1=pd.DataFrame({'Actual':y_test,'Predicted':predict})\n",
        "df1[1]=predictp[:,0].round(decimals=2)\n",
        "df1[2]=predictp[:,1].round(decimals=2)\n",
        "df1[3]=predictp[:,2].round(decimals=2)\n",
        "df1[4]=predictp[:,3].round(decimals=2)\n",
        "\n",
        "df1.head(40)\n"
      ],
      "execution_count": null,
      "outputs": [
        {
          "output_type": "execute_result",
          "data": {
            "text/html": [
              "<div>\n",
              "<style scoped>\n",
              "    .dataframe tbody tr th:only-of-type {\n",
              "        vertical-align: middle;\n",
              "    }\n",
              "\n",
              "    .dataframe tbody tr th {\n",
              "        vertical-align: top;\n",
              "    }\n",
              "\n",
              "    .dataframe thead th {\n",
              "        text-align: right;\n",
              "    }\n",
              "</style>\n",
              "<table border=\"1\" class=\"dataframe\">\n",
              "  <thead>\n",
              "    <tr style=\"text-align: right;\">\n",
              "      <th></th>\n",
              "      <th>Actual</th>\n",
              "      <th>Predicted</th>\n",
              "      <th>1</th>\n",
              "      <th>2</th>\n",
              "      <th>3</th>\n",
              "      <th>4</th>\n",
              "    </tr>\n",
              "  </thead>\n",
              "  <tbody>\n",
              "    <tr>\n",
              "      <th>48908</th>\n",
              "      <td>1</td>\n",
              "      <td>2</td>\n",
              "      <td>0.20</td>\n",
              "      <td>0.31</td>\n",
              "      <td>0.26</td>\n",
              "      <td>0.23</td>\n",
              "    </tr>\n",
              "    <tr>\n",
              "      <th>21198</th>\n",
              "      <td>4</td>\n",
              "      <td>4</td>\n",
              "      <td>0.11</td>\n",
              "      <td>0.20</td>\n",
              "      <td>0.26</td>\n",
              "      <td>0.43</td>\n",
              "    </tr>\n",
              "    <tr>\n",
              "      <th>56204</th>\n",
              "      <td>2</td>\n",
              "      <td>1</td>\n",
              "      <td>0.36</td>\n",
              "      <td>0.33</td>\n",
              "      <td>0.16</td>\n",
              "      <td>0.14</td>\n",
              "    </tr>\n",
              "    <tr>\n",
              "      <th>65778</th>\n",
              "      <td>1</td>\n",
              "      <td>1</td>\n",
              "      <td>0.63</td>\n",
              "      <td>0.13</td>\n",
              "      <td>0.11</td>\n",
              "      <td>0.14</td>\n",
              "    </tr>\n",
              "    <tr>\n",
              "      <th>45958</th>\n",
              "      <td>1</td>\n",
              "      <td>1</td>\n",
              "      <td>0.98</td>\n",
              "      <td>0.01</td>\n",
              "      <td>0.01</td>\n",
              "      <td>0.00</td>\n",
              "    </tr>\n",
              "    <tr>\n",
              "      <th>67828</th>\n",
              "      <td>1</td>\n",
              "      <td>2</td>\n",
              "      <td>0.20</td>\n",
              "      <td>0.41</td>\n",
              "      <td>0.29</td>\n",
              "      <td>0.10</td>\n",
              "    </tr>\n",
              "    <tr>\n",
              "      <th>85981</th>\n",
              "      <td>1</td>\n",
              "      <td>4</td>\n",
              "      <td>0.19</td>\n",
              "      <td>0.17</td>\n",
              "      <td>0.27</td>\n",
              "      <td>0.37</td>\n",
              "    </tr>\n",
              "    <tr>\n",
              "      <th>57932</th>\n",
              "      <td>2</td>\n",
              "      <td>1</td>\n",
              "      <td>0.74</td>\n",
              "      <td>0.07</td>\n",
              "      <td>0.11</td>\n",
              "      <td>0.08</td>\n",
              "    </tr>\n",
              "    <tr>\n",
              "      <th>54927</th>\n",
              "      <td>2</td>\n",
              "      <td>2</td>\n",
              "      <td>0.13</td>\n",
              "      <td>0.39</td>\n",
              "      <td>0.28</td>\n",
              "      <td>0.19</td>\n",
              "    </tr>\n",
              "    <tr>\n",
              "      <th>9931</th>\n",
              "      <td>3</td>\n",
              "      <td>3</td>\n",
              "      <td>0.12</td>\n",
              "      <td>0.31</td>\n",
              "      <td>0.35</td>\n",
              "      <td>0.23</td>\n",
              "    </tr>\n",
              "    <tr>\n",
              "      <th>81732</th>\n",
              "      <td>1</td>\n",
              "      <td>1</td>\n",
              "      <td>0.54</td>\n",
              "      <td>0.22</td>\n",
              "      <td>0.13</td>\n",
              "      <td>0.11</td>\n",
              "    </tr>\n",
              "    <tr>\n",
              "      <th>66563</th>\n",
              "      <td>1</td>\n",
              "      <td>1</td>\n",
              "      <td>0.98</td>\n",
              "      <td>0.01</td>\n",
              "      <td>0.01</td>\n",
              "      <td>0.00</td>\n",
              "    </tr>\n",
              "    <tr>\n",
              "      <th>48258</th>\n",
              "      <td>1</td>\n",
              "      <td>1</td>\n",
              "      <td>0.65</td>\n",
              "      <td>0.13</td>\n",
              "      <td>0.15</td>\n",
              "      <td>0.08</td>\n",
              "    </tr>\n",
              "    <tr>\n",
              "      <th>16368</th>\n",
              "      <td>4</td>\n",
              "      <td>3</td>\n",
              "      <td>0.16</td>\n",
              "      <td>0.21</td>\n",
              "      <td>0.38</td>\n",
              "      <td>0.25</td>\n",
              "    </tr>\n",
              "    <tr>\n",
              "      <th>64223</th>\n",
              "      <td>2</td>\n",
              "      <td>2</td>\n",
              "      <td>0.10</td>\n",
              "      <td>0.39</td>\n",
              "      <td>0.33</td>\n",
              "      <td>0.18</td>\n",
              "    </tr>\n",
              "    <tr>\n",
              "      <th>37543</th>\n",
              "      <td>2</td>\n",
              "      <td>4</td>\n",
              "      <td>0.11</td>\n",
              "      <td>0.21</td>\n",
              "      <td>0.32</td>\n",
              "      <td>0.36</td>\n",
              "    </tr>\n",
              "    <tr>\n",
              "      <th>83704</th>\n",
              "      <td>1</td>\n",
              "      <td>1</td>\n",
              "      <td>0.64</td>\n",
              "      <td>0.13</td>\n",
              "      <td>0.14</td>\n",
              "      <td>0.09</td>\n",
              "    </tr>\n",
              "    <tr>\n",
              "      <th>41179</th>\n",
              "      <td>1</td>\n",
              "      <td>1</td>\n",
              "      <td>0.98</td>\n",
              "      <td>0.02</td>\n",
              "      <td>0.01</td>\n",
              "      <td>0.00</td>\n",
              "    </tr>\n",
              "    <tr>\n",
              "      <th>52210</th>\n",
              "      <td>1</td>\n",
              "      <td>1</td>\n",
              "      <td>0.35</td>\n",
              "      <td>0.15</td>\n",
              "      <td>0.23</td>\n",
              "      <td>0.27</td>\n",
              "    </tr>\n",
              "    <tr>\n",
              "      <th>86211</th>\n",
              "      <td>2</td>\n",
              "      <td>1</td>\n",
              "      <td>0.41</td>\n",
              "      <td>0.26</td>\n",
              "      <td>0.26</td>\n",
              "      <td>0.07</td>\n",
              "    </tr>\n",
              "    <tr>\n",
              "      <th>82098</th>\n",
              "      <td>3</td>\n",
              "      <td>2</td>\n",
              "      <td>0.16</td>\n",
              "      <td>0.38</td>\n",
              "      <td>0.31</td>\n",
              "      <td>0.15</td>\n",
              "    </tr>\n",
              "    <tr>\n",
              "      <th>67570</th>\n",
              "      <td>1</td>\n",
              "      <td>1</td>\n",
              "      <td>0.99</td>\n",
              "      <td>0.01</td>\n",
              "      <td>0.01</td>\n",
              "      <td>0.00</td>\n",
              "    </tr>\n",
              "    <tr>\n",
              "      <th>51375</th>\n",
              "      <td>1</td>\n",
              "      <td>1</td>\n",
              "      <td>0.82</td>\n",
              "      <td>0.07</td>\n",
              "      <td>0.07</td>\n",
              "      <td>0.05</td>\n",
              "    </tr>\n",
              "    <tr>\n",
              "      <th>16292</th>\n",
              "      <td>3</td>\n",
              "      <td>3</td>\n",
              "      <td>0.24</td>\n",
              "      <td>0.20</td>\n",
              "      <td>0.30</td>\n",
              "      <td>0.26</td>\n",
              "    </tr>\n",
              "    <tr>\n",
              "      <th>34330</th>\n",
              "      <td>1</td>\n",
              "      <td>1</td>\n",
              "      <td>0.95</td>\n",
              "      <td>0.03</td>\n",
              "      <td>0.01</td>\n",
              "      <td>0.01</td>\n",
              "    </tr>\n",
              "    <tr>\n",
              "      <th>39545</th>\n",
              "      <td>2</td>\n",
              "      <td>2</td>\n",
              "      <td>0.32</td>\n",
              "      <td>0.40</td>\n",
              "      <td>0.22</td>\n",
              "      <td>0.06</td>\n",
              "    </tr>\n",
              "    <tr>\n",
              "      <th>25881</th>\n",
              "      <td>1</td>\n",
              "      <td>1</td>\n",
              "      <td>0.69</td>\n",
              "      <td>0.10</td>\n",
              "      <td>0.14</td>\n",
              "      <td>0.07</td>\n",
              "    </tr>\n",
              "    <tr>\n",
              "      <th>51972</th>\n",
              "      <td>2</td>\n",
              "      <td>2</td>\n",
              "      <td>0.05</td>\n",
              "      <td>0.36</td>\n",
              "      <td>0.31</td>\n",
              "      <td>0.28</td>\n",
              "    </tr>\n",
              "    <tr>\n",
              "      <th>57294</th>\n",
              "      <td>1</td>\n",
              "      <td>1</td>\n",
              "      <td>0.74</td>\n",
              "      <td>0.09</td>\n",
              "      <td>0.09</td>\n",
              "      <td>0.08</td>\n",
              "    </tr>\n",
              "    <tr>\n",
              "      <th>65434</th>\n",
              "      <td>2</td>\n",
              "      <td>2</td>\n",
              "      <td>0.14</td>\n",
              "      <td>0.41</td>\n",
              "      <td>0.33</td>\n",
              "      <td>0.13</td>\n",
              "    </tr>\n",
              "    <tr>\n",
              "      <th>57923</th>\n",
              "      <td>1</td>\n",
              "      <td>1</td>\n",
              "      <td>0.99</td>\n",
              "      <td>0.01</td>\n",
              "      <td>0.01</td>\n",
              "      <td>0.00</td>\n",
              "    </tr>\n",
              "    <tr>\n",
              "      <th>73671</th>\n",
              "      <td>1</td>\n",
              "      <td>1</td>\n",
              "      <td>0.98</td>\n",
              "      <td>0.01</td>\n",
              "      <td>0.01</td>\n",
              "      <td>0.00</td>\n",
              "    </tr>\n",
              "    <tr>\n",
              "      <th>84380</th>\n",
              "      <td>4</td>\n",
              "      <td>2</td>\n",
              "      <td>0.16</td>\n",
              "      <td>0.38</td>\n",
              "      <td>0.20</td>\n",
              "      <td>0.25</td>\n",
              "    </tr>\n",
              "    <tr>\n",
              "      <th>55955</th>\n",
              "      <td>1</td>\n",
              "      <td>4</td>\n",
              "      <td>0.11</td>\n",
              "      <td>0.21</td>\n",
              "      <td>0.32</td>\n",
              "      <td>0.35</td>\n",
              "    </tr>\n",
              "    <tr>\n",
              "      <th>78635</th>\n",
              "      <td>1</td>\n",
              "      <td>1</td>\n",
              "      <td>0.98</td>\n",
              "      <td>0.01</td>\n",
              "      <td>0.01</td>\n",
              "      <td>0.00</td>\n",
              "    </tr>\n",
              "    <tr>\n",
              "      <th>83741</th>\n",
              "      <td>1</td>\n",
              "      <td>1</td>\n",
              "      <td>0.79</td>\n",
              "      <td>0.08</td>\n",
              "      <td>0.09</td>\n",
              "      <td>0.04</td>\n",
              "    </tr>\n",
              "    <tr>\n",
              "      <th>33762</th>\n",
              "      <td>1</td>\n",
              "      <td>1</td>\n",
              "      <td>0.97</td>\n",
              "      <td>0.01</td>\n",
              "      <td>0.01</td>\n",
              "      <td>0.00</td>\n",
              "    </tr>\n",
              "    <tr>\n",
              "      <th>76474</th>\n",
              "      <td>1</td>\n",
              "      <td>1</td>\n",
              "      <td>0.99</td>\n",
              "      <td>0.01</td>\n",
              "      <td>0.01</td>\n",
              "      <td>0.00</td>\n",
              "    </tr>\n",
              "    <tr>\n",
              "      <th>44154</th>\n",
              "      <td>1</td>\n",
              "      <td>1</td>\n",
              "      <td>0.98</td>\n",
              "      <td>0.01</td>\n",
              "      <td>0.01</td>\n",
              "      <td>0.00</td>\n",
              "    </tr>\n",
              "    <tr>\n",
              "      <th>88482</th>\n",
              "      <td>1</td>\n",
              "      <td>1</td>\n",
              "      <td>0.98</td>\n",
              "      <td>0.01</td>\n",
              "      <td>0.01</td>\n",
              "      <td>0.00</td>\n",
              "    </tr>\n",
              "  </tbody>\n",
              "</table>\n",
              "</div>"
            ],
            "text/plain": [
              "       Actual  Predicted     1     2     3     4\n",
              "48908       1          2  0.20  0.31  0.26  0.23\n",
              "21198       4          4  0.11  0.20  0.26  0.43\n",
              "56204       2          1  0.36  0.33  0.16  0.14\n",
              "65778       1          1  0.63  0.13  0.11  0.14\n",
              "45958       1          1  0.98  0.01  0.01  0.00\n",
              "67828       1          2  0.20  0.41  0.29  0.10\n",
              "85981       1          4  0.19  0.17  0.27  0.37\n",
              "57932       2          1  0.74  0.07  0.11  0.08\n",
              "54927       2          2  0.13  0.39  0.28  0.19\n",
              "9931        3          3  0.12  0.31  0.35  0.23\n",
              "81732       1          1  0.54  0.22  0.13  0.11\n",
              "66563       1          1  0.98  0.01  0.01  0.00\n",
              "48258       1          1  0.65  0.13  0.15  0.08\n",
              "16368       4          3  0.16  0.21  0.38  0.25\n",
              "64223       2          2  0.10  0.39  0.33  0.18\n",
              "37543       2          4  0.11  0.21  0.32  0.36\n",
              "83704       1          1  0.64  0.13  0.14  0.09\n",
              "41179       1          1  0.98  0.02  0.01  0.00\n",
              "52210       1          1  0.35  0.15  0.23  0.27\n",
              "86211       2          1  0.41  0.26  0.26  0.07\n",
              "82098       3          2  0.16  0.38  0.31  0.15\n",
              "67570       1          1  0.99  0.01  0.01  0.00\n",
              "51375       1          1  0.82  0.07  0.07  0.05\n",
              "16292       3          3  0.24  0.20  0.30  0.26\n",
              "34330       1          1  0.95  0.03  0.01  0.01\n",
              "39545       2          2  0.32  0.40  0.22  0.06\n",
              "25881       1          1  0.69  0.10  0.14  0.07\n",
              "51972       2          2  0.05  0.36  0.31  0.28\n",
              "57294       1          1  0.74  0.09  0.09  0.08\n",
              "65434       2          2  0.14  0.41  0.33  0.13\n",
              "57923       1          1  0.99  0.01  0.01  0.00\n",
              "73671       1          1  0.98  0.01  0.01  0.00\n",
              "84380       4          2  0.16  0.38  0.20  0.25\n",
              "55955       1          4  0.11  0.21  0.32  0.35\n",
              "78635       1          1  0.98  0.01  0.01  0.00\n",
              "83741       1          1  0.79  0.08  0.09  0.04\n",
              "33762       1          1  0.97  0.01  0.01  0.00\n",
              "76474       1          1  0.99  0.01  0.01  0.00\n",
              "44154       1          1  0.98  0.01  0.01  0.00\n",
              "88482       1          1  0.98  0.01  0.01  0.00"
            ]
          },
          "metadata": {
            "tags": []
          },
          "execution_count": 326
        }
      ]
    },
    {
      "cell_type": "markdown",
      "metadata": {
        "id": "q4B6H5dockuA",
        "colab_type": "text"
      },
      "source": [
        "**Performance Metrics of the Model**"
      ]
    },
    {
      "cell_type": "code",
      "metadata": {
        "id": "93Et9i5r1_G-",
        "colab_type": "code",
        "colab": {
          "base_uri": "https://localhost:8080/",
          "height": 221
        },
        "outputId": "c6259674-b5b8-4c8b-bc7a-0a7524249ed2"
      },
      "source": [
        "from sklearn.metrics import classification_report, confusion_matrix,auc, roc_auc_score\n",
        "print(classification_report(y_test,predict))\n",
        "print(balanced_accuracy_score(y_test,predict))\n"
      ],
      "execution_count": null,
      "outputs": [
        {
          "output_type": "stream",
          "text": [
            "              precision    recall  f1-score   support\n",
            "\n",
            "           1       0.88      0.72      0.79      8565\n",
            "           2       0.34      0.44      0.38      2031\n",
            "           3       0.27      0.24      0.26      1492\n",
            "           4       0.20      0.47      0.28       865\n",
            "\n",
            "    accuracy                           0.60     12953\n",
            "   macro avg       0.42      0.47      0.43     12953\n",
            "weighted avg       0.68      0.60      0.63     12953\n",
            "\n",
            "0.46798444264583183\n"
          ],
          "name": "stdout"
        }
      ]
    },
    {
      "cell_type": "code",
      "metadata": {
        "id": "3xX8lMNFFbyB",
        "colab_type": "code",
        "colab": {
          "base_uri": "https://localhost:8080/",
          "height": 34
        },
        "outputId": "7756d92b-5d0e-4ce5-f8c6-972047bbb533"
      },
      "source": [
        "ovr.score(X_test,y_test)\n",
        "\n"
      ],
      "execution_count": null,
      "outputs": [
        {
          "output_type": "execute_result",
          "data": {
            "text/plain": [
              "0.6034895391029105"
            ]
          },
          "metadata": {
            "tags": []
          },
          "execution_count": 328
        }
      ]
    },
    {
      "cell_type": "markdown",
      "metadata": {
        "id": "LoHD9PT-crJh",
        "colab_type": "text"
      },
      "source": [
        "\n",
        "**Validation on unseen data( Not yet Ready)**"
      ]
    },
    {
      "cell_type": "code",
      "metadata": {
        "id": "RS2GCxflmerN",
        "colab_type": "code",
        "colab": {}
      },
      "source": [
        "x=pd.read_csv('/content/drive/My Drive/combined_2016-2020-1.csv',encoding = \"ISO-8859-1\")\n",
        "\n",
        "x.tail()\n"
      ],
      "execution_count": null,
      "outputs": []
    },
    {
      "cell_type": "code",
      "metadata": {
        "id": "jjmtLUKjMfKz",
        "colab_type": "code",
        "colab": {}
      },
      "source": [
        "x=x.astype({'was_home':str})"
      ],
      "execution_count": null,
      "outputs": []
    },
    {
      "cell_type": "code",
      "metadata": {
        "id": "SRQ3gxQekPXP",
        "colab_type": "code",
        "colab": {}
      },
      "source": [
        "x = x.assign(id=(x['name']).astype('category').cat.codes)\n"
      ],
      "execution_count": null,
      "outputs": []
    },
    {
      "cell_type": "code",
      "metadata": {
        "id": "0KEB6mGIkoQV",
        "colab_type": "code",
        "colab": {}
      },
      "source": [
        "x.rename(columns={'opponent_team':'fdr'},inplace=True)\n"
      ],
      "execution_count": null,
      "outputs": []
    },
    {
      "cell_type": "code",
      "metadata": {
        "id": "wbh7dIlCkvCQ",
        "colab_type": "code",
        "colab": {}
      },
      "source": [
        "# x['fdr']=x['fdr'].apply(fd).astype(float)\n"
      ],
      "execution_count": null,
      "outputs": []
    },
    {
      "cell_type": "code",
      "metadata": {
        "id": "r4Fx4sykk0lP",
        "colab_type": "code",
        "colab": {}
      },
      "source": [
        "x['kickoff_time']=pd.to_datetime(x['kickoff_time'])"
      ],
      "execution_count": null,
      "outputs": []
    },
    {
      "cell_type": "code",
      "metadata": {
        "id": "9Va25072lAsa",
        "colab_type": "code",
        "colab": {}
      },
      "source": [
        "x['kickoff_time'] = x.kickoff_time.dt.hour"
      ],
      "execution_count": null,
      "outputs": []
    },
    {
      "cell_type": "code",
      "metadata": {
        "id": "pca8liD-lRx3",
        "colab_type": "code",
        "colab": {}
      },
      "source": [
        "x['kickoff_time']=x['kickoff_time'].apply(time).astype(float)\n",
        "x.head(20)"
      ],
      "execution_count": null,
      "outputs": []
    },
    {
      "cell_type": "code",
      "metadata": {
        "id": "hrPEyJrOMCza",
        "colab_type": "code",
        "colab": {}
      },
      "source": [
        "def was__home(a):\n",
        "  if a=='False':\n",
        "    #print('Away')\n",
        "    return str('Away')\n",
        "  else:\n",
        "    #print('Home')\n",
        "    return str('Home')"
      ],
      "execution_count": null,
      "outputs": []
    },
    {
      "cell_type": "code",
      "metadata": {
        "id": "GFL7tIc5lgVm",
        "colab_type": "code",
        "colab": {}
      },
      "source": [
        "x['home']=x['was_home'].apply(was__home)\n",
        "x.head()"
      ],
      "execution_count": null,
      "outputs": []
    },
    {
      "cell_type": "code",
      "metadata": {
        "id": "JTU6cIxelnGH",
        "colab_type": "code",
        "colab": {}
      },
      "source": [
        "x.drop(['element','fixture','round','transfers_balance','transfers_in','transfers_out','team_a_score','was_home',\t'team_h_score','round'],axis=1, inplace=True)"
      ],
      "execution_count": null,
      "outputs": []
    },
    {
      "cell_type": "code",
      "metadata": {
        "id": "hY-A6LL5lx2L",
        "colab_type": "code",
        "colab": {}
      },
      "source": [
        "x['value']=x['value']*0.1\n"
      ],
      "execution_count": null,
      "outputs": []
    },
    {
      "cell_type": "code",
      "metadata": {
        "id": "qS3Mg6NUl9bd",
        "colab_type": "code",
        "colab": {}
      },
      "source": [
        "x['points']=x['total_points'].apply(points)\n",
        "x.head(100)"
      ],
      "execution_count": null,
      "outputs": []
    },
    {
      "cell_type": "code",
      "metadata": {
        "id": "LGxESDZxPM5f",
        "colab_type": "code",
        "colab": {}
      },
      "source": [
        "home=pd.get_dummies(x['home'])\n",
        "x=pd.concat([x,home],axis=1)\n",
        "x.head(100)"
      ],
      "execution_count": null,
      "outputs": []
    },
    {
      "cell_type": "code",
      "metadata": {
        "id": "TxZatykbmCWb",
        "colab_type": "code",
        "colab": {}
      },
      "source": [
        "x['Last_Week_Points'] = x.groupby(['id'])['points'].shift().astype(float)\n",
        "# x['Last_2_Week_Points'] = x.groupby(['id'])['points'].shift(2).astype(float)\n",
        "#x['Last_3_Week_Points'] = x.groupby(['id'])['total_points'].shift(3).astype(float)\n",
        "#x['Last_4_Week_Points'] = x.groupby(['id'])['total_points'].shift(4).astype(float)\n",
        "\n",
        "\n",
        "\n",
        "x['Last_Week_Goals'] = x.groupby(['id'])['goals_scored'].shift().astype(float)\n",
        "# x['Last_2_Week_Goals'] = x.groupby(['id'])['goals_scored'].shift(2).astype(float)\n",
        "#x['Last_3_Week_Goals'] = x.groupby(['id'])['goals_scored'].shift(3).astype(float)\n",
        "\n",
        "\n",
        "x['Last_Week_ICT'] = x.groupby(['id'])['ict_index'].shift().astype(float)\n",
        "x['Last_2_Week_ICT'] = x.groupby(['id'])['ict_index'].shift(2).astype(float)\n",
        "# #x['Last_3_Week_ICT'] = x.groupby(['id'])['ict_index'].shift(3).astype(float)\n",
        "\n",
        "\n",
        "x['Last_Week_BPS'] = x.groupby(['id'])['bps'].shift().astype(float)\n",
        "x['Last_2_Week_BPS'] = x.groupby(['id'])['bps'].shift(2).astype(float)\n",
        "#x['Last_3_Week_BPS'] = x.groupby(['id'])['bps'].shift(3).astype(float)\n",
        "\n",
        "\n",
        "x['Last_Week_Assists'] = x.groupby(['id'])['assists'].shift().astype(float)\n",
        "x['Last_2_Week_Assists'] = x.groupby(['id'])['assists'].shift(2).astype(float)\n",
        "#x['Last_3_Week_Assists'] = x.groupby(['id'])['assists'].shift(3).astype(float)\n",
        "\n",
        "\n",
        "x['Last_Week_Bonus'] = x.groupby(['id'])['bonus'].shift().astype(float)\n",
        "x['Last_2_Week_Bonus'] = x.groupby(['id'])['bonus'].shift(2).astype(float)\n",
        "#x['Last_3_Week_Bonus'] = x.groupby(['id'])['bonus'].shift(3).astype(float)\n",
        "\n",
        "\n",
        "x['Last_Week_Penalties_Saved'] = x.groupby(['id'])['penalties_saved'].shift().astype(float)\n",
        "x['Last_2_Week_Penalties_Saved'] =x.groupby(['id'])['penalties_saved'].shift(2).astype(float)\n",
        "\n",
        "\n",
        "x['Last_Week_Influence'] = x.groupby(['id'])['influence'].shift().astype(float)\n",
        "x['Last_2_Week_Influence'] = x.groupby(['id'])['influence'].shift(2).astype(float)\n",
        "#x['Last_3_Week_Influence'] = x.groupby(['id'])['influence'].shift(3).astype(float)\n",
        "\n",
        "\n",
        "x['Last_Week_Minutes_Played'] = x.groupby(['id'])['minutes'].shift().astype(float)\n",
        "x['Last_2_Week_Minutes_Played'] = x.groupby(['id'])['minutes'].shift(2).astype(float)\n",
        "#x['Last_3_Week_Minutes_Played'] = x.groupby(['id'])['minutes'].shift(3).astype(float)\n",
        "\n",
        "\n",
        "x['Last_Week_Threat'] = x.groupby(['id'])['threat'].shift().astype(float)\n",
        "x['Last_2_Week_Threat'] = x.groupby(['id'])['threat'].shift(2).astype(float)\n",
        "# #x['Last_3_Week_Threat'] = x.groupby(['id'])['threat'].shift(3).astype(float)\n",
        "\n",
        "\n",
        "x['Last_Week_Selected'] = x.groupby(['id'])['selected'].shift().astype(float)\n",
        "x['Last_2_Week_Selected'] = x.groupby(['id'])['selected'].shift(2).astype(float)\n",
        "#x['Last_3_Week_Selected'] = x.groupby(['id'])['selected'].shift(3).astype(float)\n",
        "\n",
        "\n",
        "x['Last_Week_Value'] = x.groupby(['id'])['value'].shift().astype(float)\n",
        "x['Last_2_Week_Value'] = x.groupby(['id'])['value'].shift(2).astype(float)\n",
        "# x['Last_3_Week_Value'] = x.groupby(['id'])['value'].shift(3).astype(float)\n",
        "\n",
        "\n",
        "x['Last_Week_Creativity'] = x.groupby(['id'])['creativity'].shift().astype(float)\n",
        "x['Last_2_Week_Creativity'] = x.groupby(['id'])['creativity'].shift(2).astype(float)\n",
        "# #x['Last_3_Week_Creativity'] = x.groupby(['id'])['creativity'].shift(3).astype(float)\n",
        "\n",
        "\n",
        "\n",
        "x['Last_Week_FDR'] = x.groupby(['id'])['fdr'].shift().astype(float).astype(float)\n",
        "x['Last_2_Week_FDR'] = x.groupby(['id'])['fdr'].shift(2).astype(float).astype(float)\n",
        "x['Last_3_Week_FDR'] = x.groupby(['id'])['fdr'].shift(3).astype(float).astype(float)\n",
        "\n",
        "\n",
        "x['Last_Week_Clean_Sheets'] = x.groupby(['id'])['clean_sheets'].shift().astype(float)\n",
        "x['Last_2_Week_Clean_Sheets'] = x.groupby(['id'])['clean_sheets'].shift(2).astype(float)\n",
        "#x['Last_3_Week_Clean_Sheets'] = x.groupby(['id'])['clean_sheets'].shift(3).astype(float)\n",
        "\n",
        "\n",
        "x['Last_Week_Goals_Conceded'] = x.groupby(['id'])['goals_conceded'].shift().astype(float)\n",
        "x['Last_2_Week_Goals_Conceded'] = x.groupby(['id'])['goals_conceded'].shift(2).astype(float)\n",
        "#x['Last_3_Week_Goals_Conceded'] = x.groupby(['id'])['goals_conceded'].shift(3).astype(float)\n",
        "\n",
        "\n",
        "# x['Last_Week_Kickoff_Time'] = x.groupby(['id'])['kickoff_time'].shift().astype(float)\n",
        "# x['Last_2_Week_Kickoff_Time'] = x.groupby(['id'])['kickoff_time'].shift(2).astype(float)\n",
        "# x['Last_3_Week_Kickoff_Time'] = x.groupby(['id'])['kickoff_time'].shift(3).astype(float)\n",
        "\n",
        "\n",
        "x['Last_Week_Own_Goals'] = x.groupby(['id'])['own_goals'].shift().astype(float)\n",
        "x['Last_2_Week_Own_Goals'] = x.groupby(['id'])['own_goals'].shift(2).astype(float)\n",
        "# x['Last_3_Week_Own_Goals'] = x.groupby(['id'])['own_goals'].shift(3).astype(float)\n",
        "\n",
        "\n",
        "x['Last_Week_Penalties_Missed'] = x.groupby(['id'])['penalties_missed'].shift().astype(float)\n",
        "x['Last_2_Week_Penalties_Missed'] = x.groupby(['id'])['penalties_missed'].shift(2).astype(float)\n",
        "# x['Last_3_Week_Penalties_Saved'] = x.groupby(['id'])['penalties_saved'].shift(3).astype(float)\n",
        "\n",
        "\n",
        "x['Last_Week_Red_Cards'] = x.groupby(['id'])['red_cards'].shift().astype(float)\n",
        "x['Last_2_Week_Red_Cards'] = x.groupby(['id'])['red_cards'].shift(2).astype(float)\n",
        "# x['Last_3_Week_Red_Cards'] = x.groupby(['id'])['red_cards'].shift(3).astype(float)\n",
        "\n",
        "\n",
        "x['Last_Week_Saves'] = x.groupby(['id'])['saves'].shift()\n",
        "x['Last_2_Week_Saves'] = x.groupby(['id'])['saves'].shift(2)\n",
        "#x['Last_3_Week_Saves'] = x.groupby(['id'])['saves'].shift(3)\n",
        "\n",
        "\n",
        "x['Last_Week_Yellow_Cards'] = x.groupby(['id'])['yellow_cards'].shift()\n",
        "x['Last_2_Week_Yellow_Cards'] = x.groupby(['id'])['yellow_cards'].shift(2)\n",
        "# x['Last_3_Week_Yellow_Cards'] = x.groupby(['id'])['yellow_cards'].shift(3)\n",
        "\n",
        "\n",
        "# x['Last_Week_Home'] = x.groupby(['id'])['home'].shift()\n",
        "# x['Last_2_Week_Home'] = x.groupby(['id'])['home'].shift(2)\n",
        "# x['Last_3_Week_Home'] = x.groupby(['id'])['home'].shift(3)\n",
        "hpm =x.groupby('id',as_index=False)['total_points'].expanding().sum()/x.groupby('id',as_index=False)['Home'].expanding().sum()\n",
        "x[\"Home Points\"] = hpm.reset_index(level=0, drop=True)\n",
        "\n",
        "apm =x.groupby('id',as_index=False)['total_points'].expanding().sum()/x.groupby('id',as_index=False)['Away'].expanding().sum()\n",
        "x[\"Away Points\"] = apm.reset_index(level=0, drop=True)\n",
        "\n",
        "ppm =x.groupby('id',as_index=False)['total_points'].expanding().sum()/x.groupby('id',as_index=False)['minutes'].expanding().sum()*90\n",
        "x[\"Points_90\"] = ppm.reset_index(level=0, drop=True)\n",
        "\n",
        "vm =x.groupby('id',as_index=False)['value'].expanding().sum()/x.groupby('id',as_index=False)['total_points'].expanding().sum()*90\n",
        "x[\"Value_Point\"] = vm.reset_index(level=0, drop=True)\n",
        "\n",
        "apm =x.groupby('id',as_index=False)['assists'].expanding().sum()/x.groupby('id',as_index=False)['minutes'].expanding().sum()*90\n",
        "x[\"Assists_90\"] = ppm.reset_index(level=0, drop=True)\n",
        "\n",
        "gpm =x.groupby('id',as_index=False)['goals_scored'].expanding().sum()/x.groupby('id',as_index=False)['minutes'].expanding().sum()*90\n",
        "x[\"Goals_90\"] = gpm.reset_index(level=0, drop=True)\n",
        "\n",
        "ipm =x.groupby('id',as_index=False)['influence'].expanding().sum()/x.groupby('id',as_index=False)['minutes'].expanding().sum()*90\n",
        "x[\"Influence_90\"] = ipm.reset_index(level=0, drop=True)\n",
        "\n",
        "bpm =x.groupby('id',as_index=False)['bps'].expanding().sum()/x.groupby('id',as_index=False)['minutes'].expanding().sum()*90\n",
        "x[\"BPS_90\"] = ipm.reset_index(level=0, drop=True)\n",
        "\n",
        "ih =x.groupby('id',as_index=False)['influence'].expanding().sum()/x.groupby('id',as_index=False)['Home'].expanding().sum()\n",
        "x[\"Home Influence\"] = ih.reset_index(level=0, drop=True)\n",
        "\n",
        "ah =x.groupby('id',as_index=False)['influence'].expanding().sum()/x.groupby('id',as_index=False)['Away'].expanding().sum()\n",
        "x[\"Away Influence\"] = ah.reset_index(level=0, drop=True)\n",
        "\n",
        "hg =x.groupby('id',as_index=False)['goals_scored'].expanding().sum()/x.groupby('id',as_index=False)['Home'].expanding().sum()\n",
        "x[\"Home Goals\"] = hg.reset_index(level=0, drop=True)\n",
        "\n",
        "ag =x.groupby('id',as_index=False)['goals_scored'].expanding().sum()/x.groupby('id',as_index=False)['Away'].expanding().sum()\n",
        "x[\"Clean Sheets_90\"] = ag.reset_index(level=0, drop=True)\n",
        "\n",
        "cs =x.groupby('id',as_index=False)['clean_sheets'].expanding().sum()/x.groupby('id',as_index=False)['minutes'].expanding().sum()\n",
        "x[\"Points_90\"] = cs.reset_index(level=0, drop=True)\n",
        "\n",
        "gc =x.groupby('id',as_index=False)['goals_conceded'].expanding().sum()/x.groupby('id',as_index=False)['minutes'].expanding().sum()\n",
        "x[\"Goals_Conceded_90\"] = gc.reset_index(level=0, drop=True)\n",
        "\n",
        "s =x.groupby('id',as_index=False)['saves'].expanding().sum()/x.groupby('id',as_index=False)['minutes'].expanding().sum()\n",
        "x[\"Saves_90\"] = s.reset_index(level=0, drop=True)\n",
        "\n",
        "sh =x.groupby('id',as_index=False)['saves'].expanding().sum()/x.groupby('id',as_index=False)['Home'].expanding().sum()\n",
        "x[\"Saves Home\"] = sh.reset_index(level=0, drop=True)\n",
        "\n",
        "sa =x.groupby('id',as_index=False)['saves'].expanding().sum()/x.groupby('id',as_index=False)['Away'].expanding().sum()\n",
        "x[\"Saves Away\"] = sa.reset_index(level=0, drop=True)\n",
        "\n",
        "ch =x.groupby('id',as_index=False)['creativity'].expanding().sum()/x.groupby('id',as_index=False)['Home'].expanding().sum()\n",
        "x[\"Creativity Home\"] = ch.reset_index(level=0, drop=True)\n",
        "\n",
        "ca =x.groupby('id',as_index=False)['creativity'].expanding().sum()/x.groupby('id',as_index=False)['Away'].expanding().sum()\n",
        "x[\"Creativity Away\"] = ca.reset_index(level=0, drop=True)\n",
        "\n",
        "csh =x.groupby('id',as_index=False)['clean_sheets'].expanding().sum()/x.groupby('id',as_index=False)['Home'].expanding().sum()\n",
        "x[\"Clean Sheets Home\"] = csh.reset_index(level=0, drop=True)\n",
        "\n",
        "csa =x.groupby('id',as_index=False)['clean_sheets'].expanding().sum()/x.groupby('id',as_index=False)['Away'].expanding().sum()\n",
        "x[\"Clean Sheets Away\"] = csa.reset_index(level=0, drop=True)\n",
        "\n",
        "bph =x.groupby('id',as_index=False)['bonus'].expanding().sum()/x.groupby('id',as_index=False)['Home'].expanding().sum()\n",
        "x['Bonus Home'] = bph.reset_index(level=0, drop=True)\n",
        "\n",
        "bpa =x.groupby('id',as_index=False)['bonus'].expanding().sum()/x.groupby('id',as_index=False)['Away'].expanding().sum()\n",
        "x[\"Bonus Away\"] = bpa.reset_index(level=0, drop=True)\n",
        "\n",
        "icth =x.groupby('id',as_index=False)['ict_index'].expanding().sum()/x.groupby('id',as_index=False)['Home'].expanding().sum()\n",
        "x['ICT Home'] = icth.reset_index(level=0, drop=True)\n",
        "\n",
        "icta =x.groupby('id',as_index=False)['ict_index'].expanding().sum()/x.groupby('id',as_index=False)['Away'].expanding().sum()\n",
        "x[\"ICT Away\"] = icta.reset_index(level=0, drop=True)\n",
        "\n",
        "ah =x.groupby('id',as_index=False)['assists'].expanding().sum()/x.groupby('id',as_index=False)['Home'].expanding().sum()\n",
        "x['Assists Home'] = ah.reset_index(level=0, drop=True)\n",
        "\n",
        "aa =x.groupby('id',as_index=False)['ict_index'].expanding().sum()/x.groupby('id',as_index=False)['Away'].expanding().sum()\n",
        "x[\"Assists Away\"] = aa.reset_index(level=0, drop=True)\n",
        "\n",
        "# ms =gws1.groupby('id',as_index=False)['minutes'+0.0000001].expanding().sum()/gws1.groupby('id',as_index=False)['saves'+0.0000001].expanding().sum()\n",
        "# gws1[\"Mins Per Save\"] = ms.reset_index(level=0, drop=True)\n",
        "\n",
        "bpss =x.groupby('id',as_index=False)['minutes'].expanding().sum()/x.groupby('id',as_index=False)['bps'].expanding().sum()\n",
        "x[\"Mins Per BPS\"] = bpss.reset_index(level=0, drop=True)\n",
        "\n",
        "gca =x.groupby('id',as_index=False)['goals_conceded'].expanding().sum()/x.groupby('id',as_index=False)['Away'].expanding().sum()\n",
        "x[\"Goals Concecded Away\"] = gca.reset_index(level=0, drop=True)\n",
        "\n",
        "gch =x.groupby('id',as_index=False)['goals_conceded'].expanding().sum()/x.groupby('id',as_index=False)['Home'].expanding().sum()\n",
        "x[\"Goals Conceded Home\"] = gch.reset_index(level=0, drop=True)\n",
        "\n",
        "gcm =x.groupby('id',as_index=False)['minutes'].expanding().sum()/x.groupby('id',as_index=False)['goals_conceded'].expanding().sum()\n",
        "x[\"Mins per Goals Conceded\"] = gcm.reset_index(level=0, drop=True)\n",
        "\n",
        "\n",
        "x.head(100)"
      ],
      "execution_count": null,
      "outputs": []
    },
    {
      "cell_type": "code",
      "metadata": {
        "id": "ev1CnhBoHL9C",
        "colab_type": "code",
        "colab": {}
      },
      "source": [
        "x=x.groupby('id').apply(f)\n",
        "x=x.groupby('id').apply(f2)\n",
        "x=x.groupby('id').apply(f3)"
      ],
      "execution_count": null,
      "outputs": []
    },
    {
      "cell_type": "code",
      "metadata": {
        "id": "fRctwK_ZF0ql",
        "colab_type": "code",
        "colab": {}
      },
      "source": [
        "x1=x[x['gw']==150]\n",
        "x1.head(40)"
      ],
      "execution_count": null,
      "outputs": []
    },
    {
      "cell_type": "code",
      "metadata": {
        "id": "ByhOtYuUF5_d",
        "colab_type": "code",
        "colab": {}
      },
      "source": [
        "x_test=x1.drop(['name','points','total_points','ict_index','bps','goals_scored','assists','bonus','influence','minutes','threat','value','selected','creativity','own_goals','penalties_missed','penalties_saved','red_cards','yellow_cards','saves','selected','yellow_cards','clean_sheets','goals_conceded','home','id','fdr'],axis=1)\n",
        "x_test=x_test.replace([np.inf, -np.inf], np.nan)\n",
        "x_test=x_test.dropna()\n",
        "x_testf=x1.drop(['points','total_points','ict_index','bps','goals_scored','assists','bonus','influence','minutes','threat','value','selected','creativity','own_goals','penalties_missed','penalties_saved','red_cards','yellow_cards','saves','selected','yellow_cards','clean_sheets','goals_conceded','home'],axis=1)\n",
        "x_testf=x_testf.replace([np.inf, -np.inf], np.nan)\n",
        "x_testf=x_testf.dropna()\n",
        "x_test.head(100)\n"
      ],
      "execution_count": null,
      "outputs": []
    },
    {
      "cell_type": "code",
      "metadata": {
        "id": "7BW10Vc5Nua-",
        "colab_type": "code",
        "colab": {}
      },
      "source": [
        "x_test1=scaler.fit_transform(x_test)\n",
        "x_test2=pca.transform(x_test1)\n",
        "predict1=model.predict(x_test2)\n"
      ],
      "execution_count": null,
      "outputs": []
    },
    {
      "cell_type": "code",
      "metadata": {
        "id": "MOAj3UaeNy8R",
        "colab_type": "code",
        "colab": {}
      },
      "source": [
        "predict1=pd.DataFrame(predict1)\n",
        "predict1.head(100)\n",
        "df1 = pd.concat([x_testf.reset_index(drop='Tru‌​e'),predict1.reset_index(drop='Tru‌​e')],axis=1)\n",
        "df1.head()\n"
      ],
      "execution_count": null,
      "outputs": []
    },
    {
      "cell_type": "code",
      "metadata": {
        "id": "qHvT4xR3QCB0",
        "colab_type": "code",
        "colab": {}
      },
      "source": [
        "df1.to_csv('/content/drive/My Drive/29.csv')"
      ],
      "execution_count": null,
      "outputs": []
    }
  ]
}